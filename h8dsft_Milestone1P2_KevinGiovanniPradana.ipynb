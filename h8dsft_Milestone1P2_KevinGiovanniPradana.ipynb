{
  "nbformat": 4,
  "nbformat_minor": 0,
  "metadata": {
    "colab": {
      "name": "M1P2_KevinGiovanniPradana.ipynb",
      "provenance": [],
      "collapsed_sections": [
        "-rCNTCMPxiyo",
        "e7wjn_QsYDii"
      ]
    },
    "kernelspec": {
      "name": "python3",
      "display_name": "Python 3"
    },
    "language_info": {
      "name": "python"
    },
    "accelerator": "GPU"
  },
  "cells": [
    {
      "cell_type": "markdown",
      "source": [
        "# Introduction\n"
      ],
      "metadata": {
        "id": "gVDpeQXgWrAj"
      }
    },
    {
      "cell_type": "markdown",
      "source": [
        "**Name : Kevin Giovanni Pradana**\n",
        "\n",
        "**Batch : 008**\n",
        "\n",
        "**Algoirthm/Model : Artificial Neural Network**\n",
        "\n",
        "**Objectives :**\n",
        "\n",
        "* Able to understand Artifical Neural Network concept\n",
        "* Able to prepare data for Artificial Neural Network\n",
        "* Able to implement Artificial Neural Network with given data\n",
        "* Able to explain model result \n"
      ],
      "metadata": {
        "id": "jjt7KOddWzxa"
      }
    },
    {
      "cell_type": "markdown",
      "source": [
        "# Import Libraries"
      ],
      "metadata": {
        "id": "XAnPm9bexfdE"
      }
    },
    {
      "cell_type": "code",
      "execution_count": 1,
      "metadata": {
        "id": "GwK8jlP_SwBt"
      },
      "outputs": [],
      "source": [
        "import pandas as pd\n",
        "import numpy as np\n",
        "\n",
        "import matplotlib.pyplot as plt\n",
        "import seaborn as sns\n",
        "import sys\n",
        "\n",
        "#Model evaluation\n",
        "from sklearn.model_selection import train_test_split, cross_val_score, cross_val_predict\n",
        "from sklearn.metrics import f1_score, roc_curve, auc, classification_report, accuracy_score, roc_auc_score, confusion_matrix\n",
        "from sklearn.model_selection import GridSearchCV\n",
        "from sklearn.pipeline import Pipeline, make_pipeline\n",
        "\n",
        "# preprocessing\n",
        "from sklearn.preprocessing import LabelEncoder\n",
        "from sklearn.preprocessing import StandardScaler, MinMaxScaler\n",
        "\n",
        "# oversampling\n",
        "from imblearn.over_sampling import SMOTE\n",
        "\n",
        "%matplotlib inline\n",
        "\n",
        "import sklearn\n",
        "import tensorflow as tf\n",
        "import os\n",
        "import warnings\n",
        "\n",
        "#tensorflow\n",
        "import keras\n",
        "from keras.models import Sequential\n",
        "from keras.layers import Dense \n",
        "from tensorflow.keras import initializers\n",
        "from tensorflow.keras.optimizers import Adam\n",
        "\n"
      ]
    },
    {
      "cell_type": "markdown",
      "source": [
        "# Data Loading"
      ],
      "metadata": {
        "id": "-rCNTCMPxiyo"
      }
    },
    {
      "cell_type": "markdown",
      "source": [
        "Telcom Customer Churn\n",
        "\n",
        "Each row represents a customer, each column contains customer’s attributes described on the column Metadata. The raw data contains 7043 rows (customers) and 21 columns (features). The “Churn” column is our target.\n",
        "\n",
        "* customerID : Customer ID\n",
        "* gender : Whether the customer is a male or a female\n",
        "* SeniorCitizen : Whether the customer is a senior citizen or not (1, 0)\n",
        "* Partner : Whether the customer has a partner or not (Yes, No)\n",
        "* Dependents : Whether the customer has dependents or not (Yes, No)\n",
        "* tenure : Number of months the customer has stayed with the company\n",
        "* honeService : Whether the customer has a phone service or not (Yes, No)\n",
        "* MultipleLines : Whether the customer has multiple lines or not (Yes, No, No phone service)\n",
        "* InternetService : Customer’s internet service provider (DSL, Fiber optic, No)\n",
        "* OnlineSecurity : Whether the customer has online security or not (Yes, No, No internet service)\n",
        "* OnlineBackup : Whether the customer has online backup or not (Yes, No, No internet service)\n",
        "* DeviceProtection : Whether the customer has device protection or not (Yes, No, No internet service)\n",
        "* TechSupport : Whether the customer has tech support or not (Yes, No, No internet service)\n",
        "* StreamingTV : Whether the customer has streaming TV or not (Yes, No, No internet service)\n",
        "* StreamingMovies : Whether the customer has streaming movies or not (Yes, No, No internet service)\n",
        "* Contract : The contract term of the customer (Month-to-month, One year, Two year)\n",
        "* PaperlessBilling : Whether the customer has paperless billing or not (Yes, No)\n",
        "* PaymentMethod : The customer’s payment method (Electronic check, Mailed check, Bank transfer (automatic), Credit card (automatic))\n",
        "MonthlyCharges : The amount charged to the customer monthly\n",
        "* TotalCharges : The total amount charged to the customer\n",
        "* Churn : Whether the customer churned or not (Yes or No)"
      ],
      "metadata": {
        "id": "5gTavKRUXxBT"
      }
    },
    {
      "cell_type": "markdown",
      "source": [
        "Data Loading"
      ],
      "metadata": {
        "id": "3iIxp9jmXzNH"
      }
    },
    {
      "cell_type": "code",
      "source": [
        "from google.colab import drive\n",
        "drive.mount('/content/drive')"
      ],
      "metadata": {
        "colab": {
          "base_uri": "https://localhost:8080/"
        },
        "id": "JtdjROurl30M",
        "outputId": "8e244d29-eb2f-4496-86b1-d2fe75d6c493"
      },
      "execution_count": 2,
      "outputs": [
        {
          "output_type": "stream",
          "name": "stdout",
          "text": [
            "Drive already mounted at /content/drive; to attempt to forcibly remount, call drive.mount(\"/content/drive\", force_remount=True).\n"
          ]
        }
      ]
    },
    {
      "cell_type": "code",
      "source": [
        "#loading data\n",
        "data = pd.read_csv('/content/drive/MyDrive/Data/Copy of WA_Fn-UseC_-Telco-Customer-Churn.csv')"
      ],
      "metadata": {
        "id": "uTfyiGJ1TJUV"
      },
      "execution_count": 3,
      "outputs": []
    },
    {
      "cell_type": "markdown",
      "source": [
        "Show Data top 5 data by default"
      ],
      "metadata": {
        "id": "zmrQ0To1X2KE"
      }
    },
    {
      "cell_type": "code",
      "source": [
        "#show top 5 data\n",
        "data.head()"
      ],
      "metadata": {
        "colab": {
          "base_uri": "https://localhost:8080/",
          "height": 0
        },
        "id": "Ost4yYiWTPHh",
        "outputId": "191e9f86-d111-4257-fa52-33d1a4c43b77"
      },
      "execution_count": 4,
      "outputs": [
        {
          "output_type": "execute_result",
          "data": {
            "text/plain": [
              "   customerID  gender  SeniorCitizen Partner Dependents  tenure PhoneService  \\\n",
              "0  7590-VHVEG  Female              0     Yes         No       1           No   \n",
              "1  5575-GNVDE    Male              0      No         No      34          Yes   \n",
              "2  3668-QPYBK    Male              0      No         No       2          Yes   \n",
              "3  7795-CFOCW    Male              0      No         No      45           No   \n",
              "4  9237-HQITU  Female              0      No         No       2          Yes   \n",
              "\n",
              "      MultipleLines InternetService OnlineSecurity  ... DeviceProtection  \\\n",
              "0  No phone service             DSL             No  ...               No   \n",
              "1                No             DSL            Yes  ...              Yes   \n",
              "2                No             DSL            Yes  ...               No   \n",
              "3  No phone service             DSL            Yes  ...              Yes   \n",
              "4                No     Fiber optic             No  ...               No   \n",
              "\n",
              "  TechSupport StreamingTV StreamingMovies        Contract PaperlessBilling  \\\n",
              "0          No          No              No  Month-to-month              Yes   \n",
              "1          No          No              No        One year               No   \n",
              "2          No          No              No  Month-to-month              Yes   \n",
              "3         Yes          No              No        One year               No   \n",
              "4          No          No              No  Month-to-month              Yes   \n",
              "\n",
              "               PaymentMethod MonthlyCharges  TotalCharges Churn  \n",
              "0           Electronic check          29.85         29.85    No  \n",
              "1               Mailed check          56.95        1889.5    No  \n",
              "2               Mailed check          53.85        108.15   Yes  \n",
              "3  Bank transfer (automatic)          42.30       1840.75    No  \n",
              "4           Electronic check          70.70        151.65   Yes  \n",
              "\n",
              "[5 rows x 21 columns]"
            ],
            "text/html": [
              "\n",
              "  <div id=\"df-e3f1cee6-f12c-4ee4-9de6-1c295b831baa\">\n",
              "    <div class=\"colab-df-container\">\n",
              "      <div>\n",
              "<style scoped>\n",
              "    .dataframe tbody tr th:only-of-type {\n",
              "        vertical-align: middle;\n",
              "    }\n",
              "\n",
              "    .dataframe tbody tr th {\n",
              "        vertical-align: top;\n",
              "    }\n",
              "\n",
              "    .dataframe thead th {\n",
              "        text-align: right;\n",
              "    }\n",
              "</style>\n",
              "<table border=\"1\" class=\"dataframe\">\n",
              "  <thead>\n",
              "    <tr style=\"text-align: right;\">\n",
              "      <th></th>\n",
              "      <th>customerID</th>\n",
              "      <th>gender</th>\n",
              "      <th>SeniorCitizen</th>\n",
              "      <th>Partner</th>\n",
              "      <th>Dependents</th>\n",
              "      <th>tenure</th>\n",
              "      <th>PhoneService</th>\n",
              "      <th>MultipleLines</th>\n",
              "      <th>InternetService</th>\n",
              "      <th>OnlineSecurity</th>\n",
              "      <th>...</th>\n",
              "      <th>DeviceProtection</th>\n",
              "      <th>TechSupport</th>\n",
              "      <th>StreamingTV</th>\n",
              "      <th>StreamingMovies</th>\n",
              "      <th>Contract</th>\n",
              "      <th>PaperlessBilling</th>\n",
              "      <th>PaymentMethod</th>\n",
              "      <th>MonthlyCharges</th>\n",
              "      <th>TotalCharges</th>\n",
              "      <th>Churn</th>\n",
              "    </tr>\n",
              "  </thead>\n",
              "  <tbody>\n",
              "    <tr>\n",
              "      <th>0</th>\n",
              "      <td>7590-VHVEG</td>\n",
              "      <td>Female</td>\n",
              "      <td>0</td>\n",
              "      <td>Yes</td>\n",
              "      <td>No</td>\n",
              "      <td>1</td>\n",
              "      <td>No</td>\n",
              "      <td>No phone service</td>\n",
              "      <td>DSL</td>\n",
              "      <td>No</td>\n",
              "      <td>...</td>\n",
              "      <td>No</td>\n",
              "      <td>No</td>\n",
              "      <td>No</td>\n",
              "      <td>No</td>\n",
              "      <td>Month-to-month</td>\n",
              "      <td>Yes</td>\n",
              "      <td>Electronic check</td>\n",
              "      <td>29.85</td>\n",
              "      <td>29.85</td>\n",
              "      <td>No</td>\n",
              "    </tr>\n",
              "    <tr>\n",
              "      <th>1</th>\n",
              "      <td>5575-GNVDE</td>\n",
              "      <td>Male</td>\n",
              "      <td>0</td>\n",
              "      <td>No</td>\n",
              "      <td>No</td>\n",
              "      <td>34</td>\n",
              "      <td>Yes</td>\n",
              "      <td>No</td>\n",
              "      <td>DSL</td>\n",
              "      <td>Yes</td>\n",
              "      <td>...</td>\n",
              "      <td>Yes</td>\n",
              "      <td>No</td>\n",
              "      <td>No</td>\n",
              "      <td>No</td>\n",
              "      <td>One year</td>\n",
              "      <td>No</td>\n",
              "      <td>Mailed check</td>\n",
              "      <td>56.95</td>\n",
              "      <td>1889.5</td>\n",
              "      <td>No</td>\n",
              "    </tr>\n",
              "    <tr>\n",
              "      <th>2</th>\n",
              "      <td>3668-QPYBK</td>\n",
              "      <td>Male</td>\n",
              "      <td>0</td>\n",
              "      <td>No</td>\n",
              "      <td>No</td>\n",
              "      <td>2</td>\n",
              "      <td>Yes</td>\n",
              "      <td>No</td>\n",
              "      <td>DSL</td>\n",
              "      <td>Yes</td>\n",
              "      <td>...</td>\n",
              "      <td>No</td>\n",
              "      <td>No</td>\n",
              "      <td>No</td>\n",
              "      <td>No</td>\n",
              "      <td>Month-to-month</td>\n",
              "      <td>Yes</td>\n",
              "      <td>Mailed check</td>\n",
              "      <td>53.85</td>\n",
              "      <td>108.15</td>\n",
              "      <td>Yes</td>\n",
              "    </tr>\n",
              "    <tr>\n",
              "      <th>3</th>\n",
              "      <td>7795-CFOCW</td>\n",
              "      <td>Male</td>\n",
              "      <td>0</td>\n",
              "      <td>No</td>\n",
              "      <td>No</td>\n",
              "      <td>45</td>\n",
              "      <td>No</td>\n",
              "      <td>No phone service</td>\n",
              "      <td>DSL</td>\n",
              "      <td>Yes</td>\n",
              "      <td>...</td>\n",
              "      <td>Yes</td>\n",
              "      <td>Yes</td>\n",
              "      <td>No</td>\n",
              "      <td>No</td>\n",
              "      <td>One year</td>\n",
              "      <td>No</td>\n",
              "      <td>Bank transfer (automatic)</td>\n",
              "      <td>42.30</td>\n",
              "      <td>1840.75</td>\n",
              "      <td>No</td>\n",
              "    </tr>\n",
              "    <tr>\n",
              "      <th>4</th>\n",
              "      <td>9237-HQITU</td>\n",
              "      <td>Female</td>\n",
              "      <td>0</td>\n",
              "      <td>No</td>\n",
              "      <td>No</td>\n",
              "      <td>2</td>\n",
              "      <td>Yes</td>\n",
              "      <td>No</td>\n",
              "      <td>Fiber optic</td>\n",
              "      <td>No</td>\n",
              "      <td>...</td>\n",
              "      <td>No</td>\n",
              "      <td>No</td>\n",
              "      <td>No</td>\n",
              "      <td>No</td>\n",
              "      <td>Month-to-month</td>\n",
              "      <td>Yes</td>\n",
              "      <td>Electronic check</td>\n",
              "      <td>70.70</td>\n",
              "      <td>151.65</td>\n",
              "      <td>Yes</td>\n",
              "    </tr>\n",
              "  </tbody>\n",
              "</table>\n",
              "<p>5 rows × 21 columns</p>\n",
              "</div>\n",
              "      <button class=\"colab-df-convert\" onclick=\"convertToInteractive('df-e3f1cee6-f12c-4ee4-9de6-1c295b831baa')\"\n",
              "              title=\"Convert this dataframe to an interactive table.\"\n",
              "              style=\"display:none;\">\n",
              "        \n",
              "  <svg xmlns=\"http://www.w3.org/2000/svg\" height=\"24px\"viewBox=\"0 0 24 24\"\n",
              "       width=\"24px\">\n",
              "    <path d=\"M0 0h24v24H0V0z\" fill=\"none\"/>\n",
              "    <path d=\"M18.56 5.44l.94 2.06.94-2.06 2.06-.94-2.06-.94-.94-2.06-.94 2.06-2.06.94zm-11 1L8.5 8.5l.94-2.06 2.06-.94-2.06-.94L8.5 2.5l-.94 2.06-2.06.94zm10 10l.94 2.06.94-2.06 2.06-.94-2.06-.94-.94-2.06-.94 2.06-2.06.94z\"/><path d=\"M17.41 7.96l-1.37-1.37c-.4-.4-.92-.59-1.43-.59-.52 0-1.04.2-1.43.59L10.3 9.45l-7.72 7.72c-.78.78-.78 2.05 0 2.83L4 21.41c.39.39.9.59 1.41.59.51 0 1.02-.2 1.41-.59l7.78-7.78 2.81-2.81c.8-.78.8-2.07 0-2.86zM5.41 20L4 18.59l7.72-7.72 1.47 1.35L5.41 20z\"/>\n",
              "  </svg>\n",
              "      </button>\n",
              "      \n",
              "  <style>\n",
              "    .colab-df-container {\n",
              "      display:flex;\n",
              "      flex-wrap:wrap;\n",
              "      gap: 12px;\n",
              "    }\n",
              "\n",
              "    .colab-df-convert {\n",
              "      background-color: #E8F0FE;\n",
              "      border: none;\n",
              "      border-radius: 50%;\n",
              "      cursor: pointer;\n",
              "      display: none;\n",
              "      fill: #1967D2;\n",
              "      height: 32px;\n",
              "      padding: 0 0 0 0;\n",
              "      width: 32px;\n",
              "    }\n",
              "\n",
              "    .colab-df-convert:hover {\n",
              "      background-color: #E2EBFA;\n",
              "      box-shadow: 0px 1px 2px rgba(60, 64, 67, 0.3), 0px 1px 3px 1px rgba(60, 64, 67, 0.15);\n",
              "      fill: #174EA6;\n",
              "    }\n",
              "\n",
              "    [theme=dark] .colab-df-convert {\n",
              "      background-color: #3B4455;\n",
              "      fill: #D2E3FC;\n",
              "    }\n",
              "\n",
              "    [theme=dark] .colab-df-convert:hover {\n",
              "      background-color: #434B5C;\n",
              "      box-shadow: 0px 1px 3px 1px rgba(0, 0, 0, 0.15);\n",
              "      filter: drop-shadow(0px 1px 2px rgba(0, 0, 0, 0.3));\n",
              "      fill: #FFFFFF;\n",
              "    }\n",
              "  </style>\n",
              "\n",
              "      <script>\n",
              "        const buttonEl =\n",
              "          document.querySelector('#df-e3f1cee6-f12c-4ee4-9de6-1c295b831baa button.colab-df-convert');\n",
              "        buttonEl.style.display =\n",
              "          google.colab.kernel.accessAllowed ? 'block' : 'none';\n",
              "\n",
              "        async function convertToInteractive(key) {\n",
              "          const element = document.querySelector('#df-e3f1cee6-f12c-4ee4-9de6-1c295b831baa');\n",
              "          const dataTable =\n",
              "            await google.colab.kernel.invokeFunction('convertToInteractive',\n",
              "                                                     [key], {});\n",
              "          if (!dataTable) return;\n",
              "\n",
              "          const docLinkHtml = 'Like what you see? Visit the ' +\n",
              "            '<a target=\"_blank\" href=https://colab.research.google.com/notebooks/data_table.ipynb>data table notebook</a>'\n",
              "            + ' to learn more about interactive tables.';\n",
              "          element.innerHTML = '';\n",
              "          dataTable['output_type'] = 'display_data';\n",
              "          await google.colab.output.renderOutput(dataTable, element);\n",
              "          const docLink = document.createElement('div');\n",
              "          docLink.innerHTML = docLinkHtml;\n",
              "          element.appendChild(docLink);\n",
              "        }\n",
              "      </script>\n",
              "    </div>\n",
              "  </div>\n",
              "  "
            ]
          },
          "metadata": {},
          "execution_count": 4
        }
      ]
    },
    {
      "cell_type": "code",
      "source": [
        "#show columns available\n",
        "data.columns"
      ],
      "metadata": {
        "colab": {
          "base_uri": "https://localhost:8080/"
        },
        "id": "ewGWOR02w--D",
        "outputId": "28b652f7-978a-4a25-8804-1d6b55f3de1e"
      },
      "execution_count": 5,
      "outputs": [
        {
          "output_type": "execute_result",
          "data": {
            "text/plain": [
              "Index(['customerID', 'gender', 'SeniorCitizen', 'Partner', 'Dependents',\n",
              "       'tenure', 'PhoneService', 'MultipleLines', 'InternetService',\n",
              "       'OnlineSecurity', 'OnlineBackup', 'DeviceProtection', 'TechSupport',\n",
              "       'StreamingTV', 'StreamingMovies', 'Contract', 'PaperlessBilling',\n",
              "       'PaymentMethod', 'MonthlyCharges', 'TotalCharges', 'Churn'],\n",
              "      dtype='object')"
            ]
          },
          "metadata": {},
          "execution_count": 5
        }
      ]
    },
    {
      "cell_type": "code",
      "source": [
        "#show dimension of dataset\n",
        "data.shape"
      ],
      "metadata": {
        "colab": {
          "base_uri": "https://localhost:8080/"
        },
        "id": "m9tGWoEHsSqx",
        "outputId": "f8f661da-2215-4d57-d642-21ad427f2bb6"
      },
      "execution_count": 6,
      "outputs": [
        {
          "output_type": "execute_result",
          "data": {
            "text/plain": [
              "(7043, 21)"
            ]
          },
          "metadata": {},
          "execution_count": 6
        }
      ]
    },
    {
      "cell_type": "code",
      "source": [
        "#show dataset information\n",
        "data.info()"
      ],
      "metadata": {
        "colab": {
          "base_uri": "https://localhost:8080/"
        },
        "id": "i8Ze8AB4xEGY",
        "outputId": "31fbd20c-adeb-4ab5-a689-f1409985062b"
      },
      "execution_count": 7,
      "outputs": [
        {
          "output_type": "stream",
          "name": "stdout",
          "text": [
            "<class 'pandas.core.frame.DataFrame'>\n",
            "RangeIndex: 7043 entries, 0 to 7042\n",
            "Data columns (total 21 columns):\n",
            " #   Column            Non-Null Count  Dtype  \n",
            "---  ------            --------------  -----  \n",
            " 0   customerID        7043 non-null   object \n",
            " 1   gender            7043 non-null   object \n",
            " 2   SeniorCitizen     7043 non-null   int64  \n",
            " 3   Partner           7043 non-null   object \n",
            " 4   Dependents        7043 non-null   object \n",
            " 5   tenure            7043 non-null   int64  \n",
            " 6   PhoneService      7043 non-null   object \n",
            " 7   MultipleLines     7043 non-null   object \n",
            " 8   InternetService   7043 non-null   object \n",
            " 9   OnlineSecurity    7043 non-null   object \n",
            " 10  OnlineBackup      7043 non-null   object \n",
            " 11  DeviceProtection  7043 non-null   object \n",
            " 12  TechSupport       7043 non-null   object \n",
            " 13  StreamingTV       7043 non-null   object \n",
            " 14  StreamingMovies   7043 non-null   object \n",
            " 15  Contract          7043 non-null   object \n",
            " 16  PaperlessBilling  7043 non-null   object \n",
            " 17  PaymentMethod     7043 non-null   object \n",
            " 18  MonthlyCharges    7043 non-null   float64\n",
            " 19  TotalCharges      7043 non-null   object \n",
            " 20  Churn             7043 non-null   object \n",
            "dtypes: float64(1), int64(2), object(18)\n",
            "memory usage: 1.1+ MB\n"
          ]
        }
      ]
    },
    {
      "cell_type": "markdown",
      "source": [
        "# Data Cleaning"
      ],
      "metadata": {
        "id": "e7wjn_QsYDii"
      }
    },
    {
      "cell_type": "code",
      "source": [
        "#checking whether is there any missing values in dataset\n",
        "data.isnull().sum()"
      ],
      "metadata": {
        "colab": {
          "base_uri": "https://localhost:8080/"
        },
        "id": "iBVUSKttTP_r",
        "outputId": "d31e5afb-008e-42c0-fd60-2711090b9398"
      },
      "execution_count": 8,
      "outputs": [
        {
          "output_type": "execute_result",
          "data": {
            "text/plain": [
              "customerID          0\n",
              "gender              0\n",
              "SeniorCitizen       0\n",
              "Partner             0\n",
              "Dependents          0\n",
              "tenure              0\n",
              "PhoneService        0\n",
              "MultipleLines       0\n",
              "InternetService     0\n",
              "OnlineSecurity      0\n",
              "OnlineBackup        0\n",
              "DeviceProtection    0\n",
              "TechSupport         0\n",
              "StreamingTV         0\n",
              "StreamingMovies     0\n",
              "Contract            0\n",
              "PaperlessBilling    0\n",
              "PaymentMethod       0\n",
              "MonthlyCharges      0\n",
              "TotalCharges        0\n",
              "Churn               0\n",
              "dtype: int64"
            ]
          },
          "metadata": {},
          "execution_count": 8
        }
      ]
    },
    {
      "cell_type": "markdown",
      "source": [
        "from above information, we can say that there is no missing values in dataset but let's take a look further "
      ],
      "metadata": {
        "id": "LMtSlDHd-Twe"
      }
    },
    {
      "cell_type": "code",
      "source": [
        "#drop unwanted column\n",
        "df = data.drop(columns = ['customerID'])\n",
        "df.head()"
      ],
      "metadata": {
        "colab": {
          "base_uri": "https://localhost:8080/",
          "height": 340
        },
        "id": "SQYH3DmKsPRi",
        "outputId": "92b42782-5900-425d-eb6d-4fae9dc07a75"
      },
      "execution_count": 9,
      "outputs": [
        {
          "output_type": "execute_result",
          "data": {
            "text/plain": [
              "   gender  SeniorCitizen Partner Dependents  tenure PhoneService  \\\n",
              "0  Female              0     Yes         No       1           No   \n",
              "1    Male              0      No         No      34          Yes   \n",
              "2    Male              0      No         No       2          Yes   \n",
              "3    Male              0      No         No      45           No   \n",
              "4  Female              0      No         No       2          Yes   \n",
              "\n",
              "      MultipleLines InternetService OnlineSecurity OnlineBackup  \\\n",
              "0  No phone service             DSL             No          Yes   \n",
              "1                No             DSL            Yes           No   \n",
              "2                No             DSL            Yes          Yes   \n",
              "3  No phone service             DSL            Yes           No   \n",
              "4                No     Fiber optic             No           No   \n",
              "\n",
              "  DeviceProtection TechSupport StreamingTV StreamingMovies        Contract  \\\n",
              "0               No          No          No              No  Month-to-month   \n",
              "1              Yes          No          No              No        One year   \n",
              "2               No          No          No              No  Month-to-month   \n",
              "3              Yes         Yes          No              No        One year   \n",
              "4               No          No          No              No  Month-to-month   \n",
              "\n",
              "  PaperlessBilling              PaymentMethod  MonthlyCharges TotalCharges  \\\n",
              "0              Yes           Electronic check           29.85        29.85   \n",
              "1               No               Mailed check           56.95       1889.5   \n",
              "2              Yes               Mailed check           53.85       108.15   \n",
              "3               No  Bank transfer (automatic)           42.30      1840.75   \n",
              "4              Yes           Electronic check           70.70       151.65   \n",
              "\n",
              "  Churn  \n",
              "0    No  \n",
              "1    No  \n",
              "2   Yes  \n",
              "3    No  \n",
              "4   Yes  "
            ],
            "text/html": [
              "\n",
              "  <div id=\"df-5e94fe86-ebe3-4976-96b0-c5276905d65b\">\n",
              "    <div class=\"colab-df-container\">\n",
              "      <div>\n",
              "<style scoped>\n",
              "    .dataframe tbody tr th:only-of-type {\n",
              "        vertical-align: middle;\n",
              "    }\n",
              "\n",
              "    .dataframe tbody tr th {\n",
              "        vertical-align: top;\n",
              "    }\n",
              "\n",
              "    .dataframe thead th {\n",
              "        text-align: right;\n",
              "    }\n",
              "</style>\n",
              "<table border=\"1\" class=\"dataframe\">\n",
              "  <thead>\n",
              "    <tr style=\"text-align: right;\">\n",
              "      <th></th>\n",
              "      <th>gender</th>\n",
              "      <th>SeniorCitizen</th>\n",
              "      <th>Partner</th>\n",
              "      <th>Dependents</th>\n",
              "      <th>tenure</th>\n",
              "      <th>PhoneService</th>\n",
              "      <th>MultipleLines</th>\n",
              "      <th>InternetService</th>\n",
              "      <th>OnlineSecurity</th>\n",
              "      <th>OnlineBackup</th>\n",
              "      <th>DeviceProtection</th>\n",
              "      <th>TechSupport</th>\n",
              "      <th>StreamingTV</th>\n",
              "      <th>StreamingMovies</th>\n",
              "      <th>Contract</th>\n",
              "      <th>PaperlessBilling</th>\n",
              "      <th>PaymentMethod</th>\n",
              "      <th>MonthlyCharges</th>\n",
              "      <th>TotalCharges</th>\n",
              "      <th>Churn</th>\n",
              "    </tr>\n",
              "  </thead>\n",
              "  <tbody>\n",
              "    <tr>\n",
              "      <th>0</th>\n",
              "      <td>Female</td>\n",
              "      <td>0</td>\n",
              "      <td>Yes</td>\n",
              "      <td>No</td>\n",
              "      <td>1</td>\n",
              "      <td>No</td>\n",
              "      <td>No phone service</td>\n",
              "      <td>DSL</td>\n",
              "      <td>No</td>\n",
              "      <td>Yes</td>\n",
              "      <td>No</td>\n",
              "      <td>No</td>\n",
              "      <td>No</td>\n",
              "      <td>No</td>\n",
              "      <td>Month-to-month</td>\n",
              "      <td>Yes</td>\n",
              "      <td>Electronic check</td>\n",
              "      <td>29.85</td>\n",
              "      <td>29.85</td>\n",
              "      <td>No</td>\n",
              "    </tr>\n",
              "    <tr>\n",
              "      <th>1</th>\n",
              "      <td>Male</td>\n",
              "      <td>0</td>\n",
              "      <td>No</td>\n",
              "      <td>No</td>\n",
              "      <td>34</td>\n",
              "      <td>Yes</td>\n",
              "      <td>No</td>\n",
              "      <td>DSL</td>\n",
              "      <td>Yes</td>\n",
              "      <td>No</td>\n",
              "      <td>Yes</td>\n",
              "      <td>No</td>\n",
              "      <td>No</td>\n",
              "      <td>No</td>\n",
              "      <td>One year</td>\n",
              "      <td>No</td>\n",
              "      <td>Mailed check</td>\n",
              "      <td>56.95</td>\n",
              "      <td>1889.5</td>\n",
              "      <td>No</td>\n",
              "    </tr>\n",
              "    <tr>\n",
              "      <th>2</th>\n",
              "      <td>Male</td>\n",
              "      <td>0</td>\n",
              "      <td>No</td>\n",
              "      <td>No</td>\n",
              "      <td>2</td>\n",
              "      <td>Yes</td>\n",
              "      <td>No</td>\n",
              "      <td>DSL</td>\n",
              "      <td>Yes</td>\n",
              "      <td>Yes</td>\n",
              "      <td>No</td>\n",
              "      <td>No</td>\n",
              "      <td>No</td>\n",
              "      <td>No</td>\n",
              "      <td>Month-to-month</td>\n",
              "      <td>Yes</td>\n",
              "      <td>Mailed check</td>\n",
              "      <td>53.85</td>\n",
              "      <td>108.15</td>\n",
              "      <td>Yes</td>\n",
              "    </tr>\n",
              "    <tr>\n",
              "      <th>3</th>\n",
              "      <td>Male</td>\n",
              "      <td>0</td>\n",
              "      <td>No</td>\n",
              "      <td>No</td>\n",
              "      <td>45</td>\n",
              "      <td>No</td>\n",
              "      <td>No phone service</td>\n",
              "      <td>DSL</td>\n",
              "      <td>Yes</td>\n",
              "      <td>No</td>\n",
              "      <td>Yes</td>\n",
              "      <td>Yes</td>\n",
              "      <td>No</td>\n",
              "      <td>No</td>\n",
              "      <td>One year</td>\n",
              "      <td>No</td>\n",
              "      <td>Bank transfer (automatic)</td>\n",
              "      <td>42.30</td>\n",
              "      <td>1840.75</td>\n",
              "      <td>No</td>\n",
              "    </tr>\n",
              "    <tr>\n",
              "      <th>4</th>\n",
              "      <td>Female</td>\n",
              "      <td>0</td>\n",
              "      <td>No</td>\n",
              "      <td>No</td>\n",
              "      <td>2</td>\n",
              "      <td>Yes</td>\n",
              "      <td>No</td>\n",
              "      <td>Fiber optic</td>\n",
              "      <td>No</td>\n",
              "      <td>No</td>\n",
              "      <td>No</td>\n",
              "      <td>No</td>\n",
              "      <td>No</td>\n",
              "      <td>No</td>\n",
              "      <td>Month-to-month</td>\n",
              "      <td>Yes</td>\n",
              "      <td>Electronic check</td>\n",
              "      <td>70.70</td>\n",
              "      <td>151.65</td>\n",
              "      <td>Yes</td>\n",
              "    </tr>\n",
              "  </tbody>\n",
              "</table>\n",
              "</div>\n",
              "      <button class=\"colab-df-convert\" onclick=\"convertToInteractive('df-5e94fe86-ebe3-4976-96b0-c5276905d65b')\"\n",
              "              title=\"Convert this dataframe to an interactive table.\"\n",
              "              style=\"display:none;\">\n",
              "        \n",
              "  <svg xmlns=\"http://www.w3.org/2000/svg\" height=\"24px\"viewBox=\"0 0 24 24\"\n",
              "       width=\"24px\">\n",
              "    <path d=\"M0 0h24v24H0V0z\" fill=\"none\"/>\n",
              "    <path d=\"M18.56 5.44l.94 2.06.94-2.06 2.06-.94-2.06-.94-.94-2.06-.94 2.06-2.06.94zm-11 1L8.5 8.5l.94-2.06 2.06-.94-2.06-.94L8.5 2.5l-.94 2.06-2.06.94zm10 10l.94 2.06.94-2.06 2.06-.94-2.06-.94-.94-2.06-.94 2.06-2.06.94z\"/><path d=\"M17.41 7.96l-1.37-1.37c-.4-.4-.92-.59-1.43-.59-.52 0-1.04.2-1.43.59L10.3 9.45l-7.72 7.72c-.78.78-.78 2.05 0 2.83L4 21.41c.39.39.9.59 1.41.59.51 0 1.02-.2 1.41-.59l7.78-7.78 2.81-2.81c.8-.78.8-2.07 0-2.86zM5.41 20L4 18.59l7.72-7.72 1.47 1.35L5.41 20z\"/>\n",
              "  </svg>\n",
              "      </button>\n",
              "      \n",
              "  <style>\n",
              "    .colab-df-container {\n",
              "      display:flex;\n",
              "      flex-wrap:wrap;\n",
              "      gap: 12px;\n",
              "    }\n",
              "\n",
              "    .colab-df-convert {\n",
              "      background-color: #E8F0FE;\n",
              "      border: none;\n",
              "      border-radius: 50%;\n",
              "      cursor: pointer;\n",
              "      display: none;\n",
              "      fill: #1967D2;\n",
              "      height: 32px;\n",
              "      padding: 0 0 0 0;\n",
              "      width: 32px;\n",
              "    }\n",
              "\n",
              "    .colab-df-convert:hover {\n",
              "      background-color: #E2EBFA;\n",
              "      box-shadow: 0px 1px 2px rgba(60, 64, 67, 0.3), 0px 1px 3px 1px rgba(60, 64, 67, 0.15);\n",
              "      fill: #174EA6;\n",
              "    }\n",
              "\n",
              "    [theme=dark] .colab-df-convert {\n",
              "      background-color: #3B4455;\n",
              "      fill: #D2E3FC;\n",
              "    }\n",
              "\n",
              "    [theme=dark] .colab-df-convert:hover {\n",
              "      background-color: #434B5C;\n",
              "      box-shadow: 0px 1px 3px 1px rgba(0, 0, 0, 0.15);\n",
              "      filter: drop-shadow(0px 1px 2px rgba(0, 0, 0, 0.3));\n",
              "      fill: #FFFFFF;\n",
              "    }\n",
              "  </style>\n",
              "\n",
              "      <script>\n",
              "        const buttonEl =\n",
              "          document.querySelector('#df-5e94fe86-ebe3-4976-96b0-c5276905d65b button.colab-df-convert');\n",
              "        buttonEl.style.display =\n",
              "          google.colab.kernel.accessAllowed ? 'block' : 'none';\n",
              "\n",
              "        async function convertToInteractive(key) {\n",
              "          const element = document.querySelector('#df-5e94fe86-ebe3-4976-96b0-c5276905d65b');\n",
              "          const dataTable =\n",
              "            await google.colab.kernel.invokeFunction('convertToInteractive',\n",
              "                                                     [key], {});\n",
              "          if (!dataTable) return;\n",
              "\n",
              "          const docLinkHtml = 'Like what you see? Visit the ' +\n",
              "            '<a target=\"_blank\" href=https://colab.research.google.com/notebooks/data_table.ipynb>data table notebook</a>'\n",
              "            + ' to learn more about interactive tables.';\n",
              "          element.innerHTML = '';\n",
              "          dataTable['output_type'] = 'display_data';\n",
              "          await google.colab.output.renderOutput(dataTable, element);\n",
              "          const docLink = document.createElement('div');\n",
              "          docLink.innerHTML = docLinkHtml;\n",
              "          element.appendChild(docLink);\n",
              "        }\n",
              "      </script>\n",
              "    </div>\n",
              "  </div>\n",
              "  "
            ]
          },
          "metadata": {},
          "execution_count": 9
        }
      ]
    },
    {
      "cell_type": "markdown",
      "source": [
        "customerID dropped because every records of data has unique id and we can't use id to predict customer churn"
      ],
      "metadata": {
        "id": "Ua8nHaBV-m_y"
      }
    },
    {
      "cell_type": "markdown",
      "source": [
        "as we can see above in df.info() command, totalcharges is numerical data but has wrong data type which is object. so here i will change the data type and check if there is any missing values"
      ],
      "metadata": {
        "id": "WMyVZwKO0Rdw"
      }
    },
    {
      "cell_type": "code",
      "source": [
        "df['TotalCharges'].value_counts()"
      ],
      "metadata": {
        "colab": {
          "base_uri": "https://localhost:8080/"
        },
        "id": "uhBNVUxFZ2D4",
        "outputId": "3eddc1b4-291e-434f-fe21-9d52e9735a8b"
      },
      "execution_count": 10,
      "outputs": [
        {
          "output_type": "execute_result",
          "data": {
            "text/plain": [
              "          11\n",
              "20.2      11\n",
              "19.75      9\n",
              "20.05      8\n",
              "19.9       8\n",
              "          ..\n",
              "6849.4     1\n",
              "692.35     1\n",
              "130.15     1\n",
              "3211.9     1\n",
              "6844.5     1\n",
              "Name: TotalCharges, Length: 6531, dtype: int64"
            ]
          },
          "metadata": {},
          "execution_count": 10
        }
      ]
    },
    {
      "cell_type": "markdown",
      "source": [
        "we can see there are 11 missing values but we can't see it clearly.\n",
        "\n",
        "because of that i tried to convert the data into nan and drop it since 11 rows is a small percentage compare to 7000 rows"
      ],
      "metadata": {
        "id": "3XI1Jq1l0md7"
      }
    },
    {
      "cell_type": "code",
      "source": [
        "#change space ' ' value to nan\n",
        "df['TotalCharges'] = df[\"TotalCharges\"].replace(\" \",np.nan)"
      ],
      "metadata": {
        "id": "H3MQbla-YDSZ"
      },
      "execution_count": 11,
      "outputs": []
    },
    {
      "cell_type": "code",
      "source": [
        "#drop missing values\n",
        "df.dropna(inplace=True)"
      ],
      "metadata": {
        "id": "Qy5I-atFjq3J"
      },
      "execution_count": 12,
      "outputs": []
    },
    {
      "cell_type": "code",
      "source": [
        "#change datatype into float\n",
        "df['TotalCharges'] = df['TotalCharges'].astype('float64')"
      ],
      "metadata": {
        "id": "zR9GZiVuYazH"
      },
      "execution_count": 13,
      "outputs": []
    },
    {
      "cell_type": "code",
      "source": [
        "#check dataset again\n",
        "df.info()"
      ],
      "metadata": {
        "colab": {
          "base_uri": "https://localhost:8080/"
        },
        "id": "rrZiGfVHYiYZ",
        "outputId": "f09e0d7b-fc91-4456-d381-de770513ba9b"
      },
      "execution_count": 14,
      "outputs": [
        {
          "output_type": "stream",
          "name": "stdout",
          "text": [
            "<class 'pandas.core.frame.DataFrame'>\n",
            "Int64Index: 7032 entries, 0 to 7042\n",
            "Data columns (total 20 columns):\n",
            " #   Column            Non-Null Count  Dtype  \n",
            "---  ------            --------------  -----  \n",
            " 0   gender            7032 non-null   object \n",
            " 1   SeniorCitizen     7032 non-null   int64  \n",
            " 2   Partner           7032 non-null   object \n",
            " 3   Dependents        7032 non-null   object \n",
            " 4   tenure            7032 non-null   int64  \n",
            " 5   PhoneService      7032 non-null   object \n",
            " 6   MultipleLines     7032 non-null   object \n",
            " 7   InternetService   7032 non-null   object \n",
            " 8   OnlineSecurity    7032 non-null   object \n",
            " 9   OnlineBackup      7032 non-null   object \n",
            " 10  DeviceProtection  7032 non-null   object \n",
            " 11  TechSupport       7032 non-null   object \n",
            " 12  StreamingTV       7032 non-null   object \n",
            " 13  StreamingMovies   7032 non-null   object \n",
            " 14  Contract          7032 non-null   object \n",
            " 15  PaperlessBilling  7032 non-null   object \n",
            " 16  PaymentMethod     7032 non-null   object \n",
            " 17  MonthlyCharges    7032 non-null   float64\n",
            " 18  TotalCharges      7032 non-null   float64\n",
            " 19  Churn             7032 non-null   object \n",
            "dtypes: float64(2), int64(2), object(16)\n",
            "memory usage: 1.1+ MB\n"
          ]
        }
      ]
    },
    {
      "cell_type": "markdown",
      "source": [
        "totalcharges data types has been changed into float from object"
      ],
      "metadata": {
        "id": "8JizZzooYoEk"
      }
    },
    {
      "cell_type": "markdown",
      "source": [
        "# Exploratory Data Analysis"
      ],
      "metadata": {
        "id": "f2oMc1_KxrYC"
      }
    },
    {
      "cell_type": "markdown",
      "source": [
        "### Target Variable"
      ],
      "metadata": {
        "id": "uR0Z_lUNakGG"
      }
    },
    {
      "cell_type": "code",
      "source": [
        "# we want to see is the label balance or not\n",
        "sns.countplot(x = \"Churn\", data = df)\n",
        "df.loc[:, 'Churn'].value_counts()"
      ],
      "metadata": {
        "colab": {
          "base_uri": "https://localhost:8080/",
          "height": 331
        },
        "id": "E54JjXF8xaBO",
        "outputId": "f27644e4-9f4c-4865-f5b2-bfa13406d98d"
      },
      "execution_count": 15,
      "outputs": [
        {
          "output_type": "execute_result",
          "data": {
            "text/plain": [
              "No     5163\n",
              "Yes    1869\n",
              "Name: Churn, dtype: int64"
            ]
          },
          "metadata": {},
          "execution_count": 15
        },
        {
          "output_type": "display_data",
          "data": {
            "text/plain": [
              "<Figure size 432x288 with 1 Axes>"
            ],
            "image/png": "[encoded data removed]"
          },
          "metadata": {
            "needs_background": "light"
          }
        }
      ]
    },
    {
      "cell_type": "code",
      "source": [
        "df['Churn'].value_counts().plot.pie(autopct='%.2f')"
      ],
      "metadata": {
        "colab": {
          "base_uri": "https://localhost:8080/",
          "height": 265
        },
        "id": "_7X0j1Y-bM1M",
        "outputId": "8853931d-dea6-4360-993b-db73a9856848"
      },
      "execution_count": 16,
      "outputs": [
        {
          "output_type": "execute_result",
          "data": {
            "text/plain": [
              "<matplotlib.axes._subplots.AxesSubplot at 0x7f1de0e40550>"
            ]
          },
          "metadata": {},
          "execution_count": 16
        },
        {
          "output_type": "display_data",
          "data": {
            "text/plain": [
              "<Figure size 432x288 with 1 Axes>"
            ],
            "image/png": "[encoded data removed]"
          },
          "metadata": {}
        }
      ]
    },
    {
      "cell_type": "markdown",
      "source": [
        "according to above chart, there are more people who are not churn than churn. people who are not going/willing to churn is more than twice the one who churn"
      ],
      "metadata": {
        "id": "5xLUZ9VfyAYR"
      }
    },
    {
      "cell_type": "markdown",
      "source": [
        "Here, we are trying to predict if the client left the company in the previous month and there are only two option possible \"yes\" and \"no\". Therefore we have binary classification problem with slightly imbalance target :\n",
        "* churn : No - 73.46%\n",
        "* churn : yes - 26.54%   "
      ],
      "metadata": {
        "id": "KdsqGcAearU1"
      }
    },
    {
      "cell_type": "markdown",
      "source": [
        "### Features"
      ],
      "metadata": {
        "id": "-lNfEy41amjX"
      }
    },
    {
      "cell_type": "markdown",
      "source": [
        "#### Numerical Features"
      ],
      "metadata": {
        "id": "3TuChrd4b34A"
      }
    },
    {
      "cell_type": "markdown",
      "source": [
        "##### Senior Citizen"
      ],
      "metadata": {
        "id": "W1cglGUAdASE"
      }
    },
    {
      "cell_type": "code",
      "source": [
        "sns.countplot(x = 'SeniorCitizen', data = df)\n",
        "df.loc[:, 'SeniorCitizen'].value_counts()"
      ],
      "metadata": {
        "id": "9Ghxya7_x-0G",
        "colab": {
          "base_uri": "https://localhost:8080/",
          "height": 331
        },
        "outputId": "a979b1cb-e9d8-438b-bc84-df74c7a8d9fa"
      },
      "execution_count": 17,
      "outputs": [
        {
          "output_type": "execute_result",
          "data": {
            "text/plain": [
              "0    5890\n",
              "1    1142\n",
              "Name: SeniorCitizen, dtype: int64"
            ]
          },
          "metadata": {},
          "execution_count": 17
        },
        {
          "output_type": "display_data",
          "data": {
            "text/plain": [
              "<Figure size 432x288 with 1 Axes>"
            ],
            "image/png": "[encoded data removed]"
          },
          "metadata": {
            "needs_background": "light"
          }
        }
      ]
    },
    {
      "cell_type": "markdown",
      "source": [
        "there more younger citizen than senior one with the younger people almost six times more than senior citizen"
      ],
      "metadata": {
        "id": "cjC3N1xaeyRF"
      }
    },
    {
      "cell_type": "markdown",
      "source": [
        "**there are three more numerical features but all of them are density type and we can see the density using kdeplot which is seaborn function**"
      ],
      "metadata": {
        "id": "obmz8i9QfFg2"
      }
    },
    {
      "cell_type": "code",
      "source": [
        "def kdeplot(feature) :\n",
        "  plt.figure(figsize=(9,4))\n",
        "  plt.title(\"KDE plot for {}\".format(feature))\n",
        "  ax0 = sns.kdeplot(df[df['Churn'] == 'No'][feature].dropna(), color= 'navy', label= 'Churn: No')\n",
        "  ax1 = sns.kdeplot(df[df['Churn'] == 'Yes'][feature].dropna(), color= 'orange', label= 'Churn: Yes')\n",
        "  plt.legend(loc = \"upper right\")"
      ],
      "metadata": {
        "id": "1OI-c0D4fig-"
      },
      "execution_count": 18,
      "outputs": []
    },
    {
      "cell_type": "markdown",
      "source": [
        "##### Tenure"
      ],
      "metadata": {
        "id": "69i3BoLjdFZB"
      }
    },
    {
      "cell_type": "markdown",
      "source": [
        "i want to take a look at tenure feature to see if length of tenure affecting people to churn"
      ],
      "metadata": {
        "id": "D1z6vJ5J1cBq"
      }
    },
    {
      "cell_type": "code",
      "source": [
        "df['tenure'].describe()"
      ],
      "metadata": {
        "colab": {
          "base_uri": "https://localhost:8080/"
        },
        "id": "VrT23VoCdIHE",
        "outputId": "4f8db627-4192-45b2-af82-0c3e72cb1995"
      },
      "execution_count": 19,
      "outputs": [
        {
          "output_type": "execute_result",
          "data": {
            "text/plain": [
              "count    7032.000000\n",
              "mean       32.421786\n",
              "std        24.545260\n",
              "min         1.000000\n",
              "25%         9.000000\n",
              "50%        29.000000\n",
              "75%        55.000000\n",
              "max        72.000000\n",
              "Name: tenure, dtype: float64"
            ]
          },
          "metadata": {},
          "execution_count": 19
        }
      ]
    },
    {
      "cell_type": "code",
      "source": [
        "tenure_churn_no = df[df.Churn=='No'].tenure\n",
        "tenure_churn_yes = df[df.Churn=='Yes'].tenure\n",
        "\n",
        "\n",
        "plt.ylabel(\"Number of Customers\")\n",
        "plt.title(\"Customer Churn Prediction Visualization\")\n",
        "plt.hist([tenure_churn_yes, tenure_churn_no], color=['blue','orange'], label=['Churn=Yes','Churn=No'])\n",
        "plt.legend()"
      ],
      "metadata": {
        "colab": {
          "base_uri": "https://localhost:8080/",
          "height": 388
        },
        "id": "LhFeYBhYlKRU",
        "outputId": "01e88d68-c36b-4043-cb56-c548881bfe5b"
      },
      "execution_count": 20,
      "outputs": [
        {
          "output_type": "stream",
          "name": "stderr",
          "text": [
            "/usr/local/lib/python3.7/dist-packages/numpy/core/fromnumeric.py:3208: VisibleDeprecationWarning: Creating an ndarray from ragged nested sequences (which is a list-or-tuple of lists-or-tuples-or ndarrays with different lengths or shapes) is deprecated. If you meant to do this, you must specify 'dtype=object' when creating the ndarray.\n",
            "  return asarray(a).size\n",
            "/usr/local/lib/python3.7/dist-packages/matplotlib/cbook/__init__.py:1376: VisibleDeprecationWarning: Creating an ndarray from ragged nested sequences (which is a list-or-tuple of lists-or-tuples-or ndarrays with different lengths or shapes) is deprecated. If you meant to do this, you must specify 'dtype=object' when creating the ndarray.\n",
            "  X = np.atleast_1d(X.T if isinstance(X, np.ndarray) else np.asarray(X))\n"
          ]
        },
        {
          "output_type": "execute_result",
          "data": {
            "text/plain": [
              "<matplotlib.legend.Legend at 0x7f1de13f0390>"
            ]
          },
          "metadata": {},
          "execution_count": 20
        },
        {
          "output_type": "display_data",
          "data": {
            "text/plain": [
              "<Figure size 432x288 with 1 Axes>"
            ],
            "image/png": "[encoded data removed]"
          },
          "metadata": {
            "needs_background": "light"
          }
        }
      ]
    },
    {
      "cell_type": "code",
      "source": [
        "plt.figure(figsize=(20,5))\n",
        "sns.countplot(x = 'tenure', data = df, order=df['tenure'].value_counts().sort_values(ascending=False).index)\n",
        "df.loc[:, 'tenure'].value_counts()"
      ],
      "metadata": {
        "colab": {
          "base_uri": "https://localhost:8080/",
          "height": 542
        },
        "id": "sXgVhBC6b6TJ",
        "outputId": "012ae8d6-4209-4886-aab5-2bb2995df859"
      },
      "execution_count": 21,
      "outputs": [
        {
          "output_type": "execute_result",
          "data": {
            "text/plain": [
              "1     613\n",
              "72    362\n",
              "2     238\n",
              "3     200\n",
              "4     176\n",
              "     ... \n",
              "38     59\n",
              "28     57\n",
              "39     56\n",
              "44     51\n",
              "36     50\n",
              "Name: tenure, Length: 72, dtype: int64"
            ]
          },
          "metadata": {},
          "execution_count": 21
        },
        {
          "output_type": "display_data",
          "data": {
            "text/plain": [
              "<Figure size 1440x360 with 1 Axes>"
            ],
            "image/png": "[encoded data removed]"
          },
          "metadata": {
            "needs_background": "light"
          }
        }
      ]
    },
    {
      "cell_type": "markdown",
      "source": [
        "we  can see people tend to churn with lows tenure or going all the way with the highest tenure possible"
      ],
      "metadata": {
        "id": "hGN86gDfdO10"
      }
    },
    {
      "cell_type": "code",
      "source": [
        "kdeplot('tenure')"
      ],
      "metadata": {
        "colab": {
          "base_uri": "https://localhost:8080/",
          "height": 295
        },
        "id": "N91bR4bwemBu",
        "outputId": "0b90931f-7786-490e-abdd-a6266ba50249"
      },
      "execution_count": 22,
      "outputs": [
        {
          "output_type": "display_data",
          "data": {
            "text/plain": [
              "<Figure size 648x288 with 1 Axes>"
            ],
            "image/png": "[encoded data removed]"
          },
          "metadata": {
            "needs_background": "light"
          }
        }
      ]
    },
    {
      "cell_type": "markdown",
      "source": [
        "people with less tenure tend to churn more than high tenure"
      ],
      "metadata": {
        "id": "BnkYCrsy2UYo"
      }
    },
    {
      "cell_type": "markdown",
      "source": [
        "##### MonthlyCharges"
      ],
      "metadata": {
        "id": "Nj1XPZOzeLl_"
      }
    },
    {
      "cell_type": "code",
      "source": [
        "df['MonthlyCharges'].describe()"
      ],
      "metadata": {
        "colab": {
          "base_uri": "https://localhost:8080/"
        },
        "id": "pmOXz93vhgm2",
        "outputId": "01fa1622-4751-43e5-b60e-ab36bd4221be"
      },
      "execution_count": 23,
      "outputs": [
        {
          "output_type": "execute_result",
          "data": {
            "text/plain": [
              "count    7032.000000\n",
              "mean       64.798208\n",
              "std        30.085974\n",
              "min        18.250000\n",
              "25%        35.587500\n",
              "50%        70.350000\n",
              "75%        89.862500\n",
              "max       118.750000\n",
              "Name: MonthlyCharges, dtype: float64"
            ]
          },
          "metadata": {},
          "execution_count": 23
        }
      ]
    },
    {
      "cell_type": "code",
      "source": [
        "mc_churn_no = df[df.Churn=='No'].MonthlyCharges\n",
        "mc_churn_yes = df[df.Churn=='Yes'].MonthlyCharges\n",
        "\n",
        "\n",
        "plt.ylabel(\"Number of Customers\")\n",
        "plt.title(\"Customer Churn Prediction Visualization\")\n",
        "plt.hist([mc_churn_yes, mc_churn_no], color=['blue','orange'], label=['Churn=Yes','Churn=No'])\n",
        "plt.legend()"
      ],
      "metadata": {
        "colab": {
          "base_uri": "https://localhost:8080/",
          "height": 388
        },
        "id": "IXXzeM98mTdL",
        "outputId": "56378f67-fc0b-4658-ede3-d845bed233b6"
      },
      "execution_count": 24,
      "outputs": [
        {
          "output_type": "stream",
          "name": "stderr",
          "text": [
            "/usr/local/lib/python3.7/dist-packages/numpy/core/fromnumeric.py:3208: VisibleDeprecationWarning: Creating an ndarray from ragged nested sequences (which is a list-or-tuple of lists-or-tuples-or ndarrays with different lengths or shapes) is deprecated. If you meant to do this, you must specify 'dtype=object' when creating the ndarray.\n",
            "  return asarray(a).size\n",
            "/usr/local/lib/python3.7/dist-packages/matplotlib/cbook/__init__.py:1376: VisibleDeprecationWarning: Creating an ndarray from ragged nested sequences (which is a list-or-tuple of lists-or-tuples-or ndarrays with different lengths or shapes) is deprecated. If you meant to do this, you must specify 'dtype=object' when creating the ndarray.\n",
            "  X = np.atleast_1d(X.T if isinstance(X, np.ndarray) else np.asarray(X))\n"
          ]
        },
        {
          "output_type": "execute_result",
          "data": {
            "text/plain": [
              "<matplotlib.legend.Legend at 0x7f1de13df690>"
            ]
          },
          "metadata": {},
          "execution_count": 24
        },
        {
          "output_type": "display_data",
          "data": {
            "text/plain": [
              "<Figure size 432x288 with 1 Axes>"
            ],
            "image/png": "[encoded data removed]"
          },
          "metadata": {
            "needs_background": "light"
          }
        }
      ]
    },
    {
      "cell_type": "code",
      "source": [
        "kdeplot('MonthlyCharges')"
      ],
      "metadata": {
        "colab": {
          "base_uri": "https://localhost:8080/",
          "height": 295
        },
        "id": "bgb8uZOHhcHB",
        "outputId": "8966191c-b818-4885-8a10-2bc7e128afbb"
      },
      "execution_count": 25,
      "outputs": [
        {
          "output_type": "display_data",
          "data": {
            "text/plain": [
              "<Figure size 648x288 with 1 Axes>"
            ],
            "image/png": "[encoded data removed]"
          },
          "metadata": {
            "needs_background": "light"
          }
        }
      ]
    },
    {
      "cell_type": "markdown",
      "source": [
        "the higher monthly charges get, customer more likely to churn than the lower one"
      ],
      "metadata": {
        "id": "qOeSvTzi2ex3"
      }
    },
    {
      "cell_type": "markdown",
      "source": [
        "##### TotalCharges"
      ],
      "metadata": {
        "id": "gJ1eTH9_j_Lr"
      }
    },
    {
      "cell_type": "code",
      "source": [
        "kdeplot('TotalCharges')"
      ],
      "metadata": {
        "colab": {
          "base_uri": "https://localhost:8080/",
          "height": 295
        },
        "id": "kpddD5LJkLDv",
        "outputId": "c1a09ccd-e253-4b45-b9d6-66216577be9d"
      },
      "execution_count": 26,
      "outputs": [
        {
          "output_type": "display_data",
          "data": {
            "text/plain": [
              "<Figure size 648x288 with 1 Axes>"
            ],
            "image/png": "[encoded data removed]"
          },
          "metadata": {
            "needs_background": "light"
          }
        }
      ]
    },
    {
      "cell_type": "markdown",
      "source": [
        "From the plots above we can conclue that:\n",
        "\n",
        "* Clients with higher MonthlyCharges are also more likely to churn\n",
        "* Tenure and MonthlyCharges are probably important features that affects people to churn"
      ],
      "metadata": {
        "id": "ERTPXhLYl4tT"
      }
    },
    {
      "cell_type": "markdown",
      "source": [
        "#### Categorical Features"
      ],
      "metadata": {
        "id": "Zy0H9Ry3dd-j"
      }
    },
    {
      "cell_type": "markdown",
      "source": [
        "above dataset has 16 categorical features:\n",
        "\n",
        "* Six binary features (Yes/No)\n",
        "* Nine features with three unique values each (categories)\n",
        "* One feature with four unique values"
      ],
      "metadata": {
        "id": "4GnEuf54mvjb"
      }
    },
    {
      "cell_type": "markdown",
      "source": [
        "##### Phone Service"
      ],
      "metadata": {
        "id": "ako6mV9xqBD1"
      }
    },
    {
      "cell_type": "code",
      "source": [
        "sns.countplot(x = 'PhoneService', data = df)\n",
        "df.loc[:, 'PhoneService'].value_counts()"
      ],
      "metadata": {
        "colab": {
          "base_uri": "https://localhost:8080/",
          "height": 331
        },
        "id": "kBcgcnKfW6-r",
        "outputId": "3f66c727-879a-44b0-dc4c-a0e9961107a1"
      },
      "execution_count": 27,
      "outputs": [
        {
          "output_type": "execute_result",
          "data": {
            "text/plain": [
              "Yes    6352\n",
              "No      680\n",
              "Name: PhoneService, dtype: int64"
            ]
          },
          "metadata": {},
          "execution_count": 27
        },
        {
          "output_type": "display_data",
          "data": {
            "text/plain": [
              "<Figure size 432x288 with 1 Axes>"
            ],
            "image/png": "[encoded data removed]"
          },
          "metadata": {
            "needs_background": "light"
          }
        }
      ]
    },
    {
      "cell_type": "markdown",
      "source": [
        "since most people already have phone dial in their house since a long time ago so i assume that's the reason people have phone service no matter they use it or not"
      ],
      "metadata": {
        "id": "YFcCe7642thl"
      }
    },
    {
      "cell_type": "code",
      "source": [
        "sns.catplot(y=\"PhoneService\", hue=\"Churn\", kind=\"count\",\n",
        "            palette=\"pastel\", edgecolor=\".6\",\n",
        "            data=df)\n",
        "plt.show()  "
      ],
      "metadata": {
        "colab": {
          "base_uri": "https://localhost:8080/",
          "height": 369
        },
        "id": "2MnaDMLft4ej",
        "outputId": "5612534d-f165-479a-9e72-7f11722d6a11"
      },
      "execution_count": 28,
      "outputs": [
        {
          "output_type": "display_data",
          "data": {
            "text/plain": [
              "<Figure size 412x360 with 1 Axes>"
            ],
            "image/png": "[encoded data removed]"
          },
          "metadata": {
            "needs_background": "light"
          }
        }
      ]
    },
    {
      "cell_type": "markdown",
      "source": [
        "* Few customers doesn't have phone service\n",
        "* people with phone service tend to churn more than the one who don't"
      ],
      "metadata": {
        "id": "kamvq4JZaxb8"
      }
    },
    {
      "cell_type": "markdown",
      "source": [
        "##### Internet Service"
      ],
      "metadata": {
        "id": "eJs33-HxqD8N"
      }
    },
    {
      "cell_type": "code",
      "source": [
        "df['InternetService'].value_counts()"
      ],
      "metadata": {
        "colab": {
          "base_uri": "https://localhost:8080/"
        },
        "id": "a5FCpVp8qhyD",
        "outputId": "9741218f-6a5b-4686-c3fb-3a4e7b7333c2"
      },
      "execution_count": 29,
      "outputs": [
        {
          "output_type": "execute_result",
          "data": {
            "text/plain": [
              "Fiber optic    3096\n",
              "DSL            2416\n",
              "No             1520\n",
              "Name: InternetService, dtype: int64"
            ]
          },
          "metadata": {},
          "execution_count": 29
        }
      ]
    },
    {
      "cell_type": "markdown",
      "source": [
        "each internetservice category has their own market, but if the marketing team want to approach customer who more likely to churn they can offer deals or product to people who use fiber optic"
      ],
      "metadata": {
        "id": "HM21UiiH3GLs"
      }
    },
    {
      "cell_type": "code",
      "source": [
        "sns.catplot(y=\"InternetService\", hue=\"Churn\", kind=\"count\",\n",
        "            palette=\"pastel\", edgecolor=\".6\",\n",
        "            data=df)\n",
        "plt.show()  "
      ],
      "metadata": {
        "colab": {
          "base_uri": "https://localhost:8080/",
          "height": 369
        },
        "id": "_2pH8gWyXjrZ",
        "outputId": "b6b35f31-a82c-4076-f755-3663d547b94b"
      },
      "execution_count": 30,
      "outputs": [
        {
          "output_type": "display_data",
          "data": {
            "text/plain": [
              "<Figure size 412x360 with 1 Axes>"
            ],
            "image/png": "[encoded data removed]"
          },
          "metadata": {
            "needs_background": "light"
          }
        }
      ]
    },
    {
      "cell_type": "markdown",
      "source": [
        "if we compare between each type of internet service by churn status we can see that people with fiber optic internet service are more likely to churn and the people with no internet service are more unlikely to churn \n",
        "for the marketing team, they can avoid to sell internets product to them and focus on phone service only "
      ],
      "metadata": {
        "id": "P4urFb_jqGoF"
      }
    },
    {
      "cell_type": "markdown",
      "source": [
        "##### Additional Services\n",
        "\n",
        "there are six additional services such as : \n",
        "* OnlineSecurity \n",
        "* OnlineBackup  \n",
        "* DeviceProtection \n",
        "* TechSupport \n",
        "* StreamingTV \n",
        "* StreamingMovies"
      ],
      "metadata": {
        "id": "XIrJ8PAUw07s"
      }
    },
    {
      "cell_type": "code",
      "source": [
        "cols = [\"OnlineSecurity\", \"OnlineBackup\", \"DeviceProtection\", \"TechSupport\", \"StreamingTV\", \"StreamingMovies\"]\n",
        "plt.figure(figsize=(10, 4.5))\n",
        "df_additional = df[(df.InternetService != \"No\") & (df.Churn == \"Yes\")]\n",
        "df_additional = pd.melt(df_additional[cols]).rename({'value': 'Has service'}, axis=1)\n",
        "ax = sns.countplot(data=df_additional, x='variable', hue='Has service', hue_order=['No', 'Yes'])\n",
        "ax.set(xlabel='Additional service', ylabel='Num of churns')\n",
        "plt.show()"
      ],
      "metadata": {
        "colab": {
          "base_uri": "https://localhost:8080/",
          "height": 307
        },
        "id": "crxQQJX7yZTo",
        "outputId": "a2c43cef-3f32-417f-acd5-3a7b6e0c725c"
      },
      "execution_count": 31,
      "outputs": [
        {
          "output_type": "display_data",
          "data": {
            "text/plain": [
              "<Figure size 720x324 with 1 Axes>"
            ],
            "image/png": "[encoded data removed]"
          },
          "metadata": {
            "needs_background": "light"
          }
        }
      ]
    },
    {
      "cell_type": "markdown",
      "source": [
        "the plot shows number of clients that churn by additional service. We can see that :    \n",
        "* Customers with who use streaming services are more likely to churn with about 800 customer who said yes to the service\n",
        "* Streaming service is not predictive for churn"
      ],
      "metadata": {
        "id": "PY_8icLz0twX"
      }
    },
    {
      "cell_type": "markdown",
      "source": [
        "##### Contract and Payment\n"
      ],
      "metadata": {
        "id": "styCLaI-1fBl"
      }
    },
    {
      "cell_type": "markdown",
      "source": [
        "Payment method"
      ],
      "metadata": {
        "id": "WVZT993eab_m"
      }
    },
    {
      "cell_type": "code",
      "source": [
        "sns.catplot(y=\"PaymentMethod\", hue=\"Churn\", kind=\"count\",\n",
        "            palette=\"pastel\", edgecolor=\".6\",\n",
        "            data=df)\n",
        "plt.show()  "
      ],
      "metadata": {
        "colab": {
          "base_uri": "https://localhost:8080/",
          "height": 369
        },
        "id": "VUK01D2-1cjA",
        "outputId": "970eedc6-a82c-414d-f33c-0d40feeebff7"
      },
      "execution_count": 32,
      "outputs": [
        {
          "output_type": "display_data",
          "data": {
            "text/plain": [
              "<Figure size 412x360 with 1 Axes>"
            ],
            "image/png": "[encoded data removed]"
          },
          "metadata": {
            "needs_background": "light"
          }
        }
      ]
    },
    {
      "cell_type": "code",
      "source": [
        "plt.figure(figsize = (10,20))\n",
        "df['PaymentMethod'].value_counts().plot.pie(autopct='%.2f',title = 'Payment Method Percentage')\n",
        "plt.legend()"
      ],
      "metadata": {
        "colab": {
          "base_uri": "https://localhost:8080/",
          "height": 622
        },
        "id": "VAfZ4GnobENI",
        "outputId": "9e8e337e-b647-4610-be9d-4189c89a08f2"
      },
      "execution_count": 33,
      "outputs": [
        {
          "output_type": "execute_result",
          "data": {
            "text/plain": [
              "<matplotlib.legend.Legend at 0x7f1ddbe12c10>"
            ]
          },
          "metadata": {},
          "execution_count": 33
        },
        {
          "output_type": "display_data",
          "data": {
            "text/plain": [
              "<Figure size 720x1440 with 1 Axes>"
            ],
            "image/png": "[encoded data removed]"
          },
          "metadata": {}
        }
      ]
    },
    {
      "cell_type": "markdown",
      "source": [
        "majority of market (data) is dominated by people who use electronic check and they tend to churn more than others"
      ],
      "metadata": {
        "id": "IKWtsa-U3sXO"
      }
    },
    {
      "cell_type": "markdown",
      "source": [
        "visualize contract"
      ],
      "metadata": {
        "id": "eQRzs6_Qaebr"
      }
    },
    {
      "cell_type": "code",
      "source": [
        "sns.catplot(y=\"Contract\", hue=\"Churn\", kind=\"count\",\n",
        "            palette=\"pastel\", edgecolor=\".6\",\n",
        "            data=df)\n",
        "plt.show()  "
      ],
      "metadata": {
        "colab": {
          "base_uri": "https://localhost:8080/",
          "height": 369
        },
        "id": "erfUTfDdaFXy",
        "outputId": "d02ac4d1-0bea-401d-d8ad-1922d9eed5a2"
      },
      "execution_count": 34,
      "outputs": [
        {
          "output_type": "display_data",
          "data": {
            "text/plain": [
              "<Figure size 412x360 with 1 Axes>"
            ],
            "image/png": "[encoded data removed]"
          },
          "metadata": {
            "needs_background": "light"
          }
        }
      ]
    },
    {
      "cell_type": "markdown",
      "source": [
        "A few observations :\n",
        "\n",
        "* The preferred payment method is Electronic check with around 33% of customers. This method also has a very high churn rate\n",
        "* Short term contracts have higher churn rates\n",
        "* One and two year contracts probably have contractual fines and therefore customers have to wait untill the end of contract to churn\n"
      ],
      "metadata": {
        "id": "PasiHrkicwWK"
      }
    },
    {
      "cell_type": "markdown",
      "source": [
        "#### Combining Categorical and Numerical features"
      ],
      "metadata": {
        "id": "PgOC-OQNahxN"
      }
    },
    {
      "cell_type": "code",
      "source": [
        "ax = sns.catplot(x=\"Contract\", y=\"MonthlyCharges\", hue=\"Churn\", kind=\"box\", data=df, height=4.2, aspect=1.4)"
      ],
      "metadata": {
        "colab": {
          "base_uri": "https://localhost:8080/",
          "height": 312
        },
        "id": "seFC0zmrcycy",
        "outputId": "28549f72-6fb4-4c08-b369-b9992ef4a0ce"
      },
      "execution_count": 35,
      "outputs": [
        {
          "output_type": "display_data",
          "data": {
            "text/plain": [
              "<Figure size 475.36x302.4 with 1 Axes>"
            ],
            "image/png": "[encoded data removed]"
          },
          "metadata": {
            "needs_background": "light"
          }
        }
      ]
    },
    {
      "cell_type": "code",
      "source": [
        "ax = sns.catplot(y=\"Churn\", x=\"MonthlyCharges\", row=\"PaymentMethod\", kind=\"box\", data=df, height=1.5, aspect=4, orient='h')"
      ],
      "metadata": {
        "colab": {
          "base_uri": "https://localhost:8080/",
          "height": 441
        },
        "id": "yOj6kwR-dU6V",
        "outputId": "bae50869-1d0c-4491-9da5-8e7a38f576c5"
      },
      "execution_count": 36,
      "outputs": [
        {
          "output_type": "display_data",
          "data": {
            "text/plain": [
              "<Figure size 432x432 with 4 Axes>"
            ],
            "image/png": "[encoded data removed]"
          },
          "metadata": {
            "needs_background": "light"
          }
        }
      ]
    },
    {
      "cell_type": "markdown",
      "source": [
        "* Longer contracts are more affected by higher monthly charges (for churn rate), so people preferred at least one year contract or more\n",
        "* Mailed checks have lower charges than other payment method\n",
        "* There is a big gap in charges between customers that churn and those that don't with respect to Mailed Check"
      ],
      "metadata": {
        "id": "KlEhxMQodams"
      }
    },
    {
      "cell_type": "markdown",
      "source": [
        "#### Correlation"
      ],
      "metadata": {
        "id": "4X-7Wda9d7dZ"
      }
    },
    {
      "cell_type": "code",
      "source": [
        "#showing data for further visualizations\n",
        "df.head()"
      ],
      "metadata": {
        "colab": {
          "base_uri": "https://localhost:8080/",
          "height": 340
        },
        "id": "ZXjhJWlNeJax",
        "outputId": "3b0372bd-3ba9-4794-f26e-e1ea5a54de00"
      },
      "execution_count": 37,
      "outputs": [
        {
          "output_type": "execute_result",
          "data": {
            "text/plain": [
              "   gender  SeniorCitizen Partner Dependents  tenure PhoneService  \\\n",
              "0  Female              0     Yes         No       1           No   \n",
              "1    Male              0      No         No      34          Yes   \n",
              "2    Male              0      No         No       2          Yes   \n",
              "3    Male              0      No         No      45           No   \n",
              "4  Female              0      No         No       2          Yes   \n",
              "\n",
              "      MultipleLines InternetService OnlineSecurity OnlineBackup  \\\n",
              "0  No phone service             DSL             No          Yes   \n",
              "1                No             DSL            Yes           No   \n",
              "2                No             DSL            Yes          Yes   \n",
              "3  No phone service             DSL            Yes           No   \n",
              "4                No     Fiber optic             No           No   \n",
              "\n",
              "  DeviceProtection TechSupport StreamingTV StreamingMovies        Contract  \\\n",
              "0               No          No          No              No  Month-to-month   \n",
              "1              Yes          No          No              No        One year   \n",
              "2               No          No          No              No  Month-to-month   \n",
              "3              Yes         Yes          No              No        One year   \n",
              "4               No          No          No              No  Month-to-month   \n",
              "\n",
              "  PaperlessBilling              PaymentMethod  MonthlyCharges  TotalCharges  \\\n",
              "0              Yes           Electronic check           29.85         29.85   \n",
              "1               No               Mailed check           56.95       1889.50   \n",
              "2              Yes               Mailed check           53.85        108.15   \n",
              "3               No  Bank transfer (automatic)           42.30       1840.75   \n",
              "4              Yes           Electronic check           70.70        151.65   \n",
              "\n",
              "  Churn  \n",
              "0    No  \n",
              "1    No  \n",
              "2   Yes  \n",
              "3    No  \n",
              "4   Yes  "
            ],
            "text/html": [
              "\n",
              "  <div id=\"df-51ebfed1-f6e4-4134-8cfd-8f2cf37cc6df\">\n",
              "    <div class=\"colab-df-container\">\n",
              "      <div>\n",
              "<style scoped>\n",
              "    .dataframe tbody tr th:only-of-type {\n",
              "        vertical-align: middle;\n",
              "    }\n",
              "\n",
              "    .dataframe tbody tr th {\n",
              "        vertical-align: top;\n",
              "    }\n",
              "\n",
              "    .dataframe thead th {\n",
              "        text-align: right;\n",
              "    }\n",
              "</style>\n",
              "<table border=\"1\" class=\"dataframe\">\n",
              "  <thead>\n",
              "    <tr style=\"text-align: right;\">\n",
              "      <th></th>\n",
              "      <th>gender</th>\n",
              "      <th>SeniorCitizen</th>\n",
              "      <th>Partner</th>\n",
              "      <th>Dependents</th>\n",
              "      <th>tenure</th>\n",
              "      <th>PhoneService</th>\n",
              "      <th>MultipleLines</th>\n",
              "      <th>InternetService</th>\n",
              "      <th>OnlineSecurity</th>\n",
              "      <th>OnlineBackup</th>\n",
              "      <th>DeviceProtection</th>\n",
              "      <th>TechSupport</th>\n",
              "      <th>StreamingTV</th>\n",
              "      <th>StreamingMovies</th>\n",
              "      <th>Contract</th>\n",
              "      <th>PaperlessBilling</th>\n",
              "      <th>PaymentMethod</th>\n",
              "      <th>MonthlyCharges</th>\n",
              "      <th>TotalCharges</th>\n",
              "      <th>Churn</th>\n",
              "    </tr>\n",
              "  </thead>\n",
              "  <tbody>\n",
              "    <tr>\n",
              "      <th>0</th>\n",
              "      <td>Female</td>\n",
              "      <td>0</td>\n",
              "      <td>Yes</td>\n",
              "      <td>No</td>\n",
              "      <td>1</td>\n",
              "      <td>No</td>\n",
              "      <td>No phone service</td>\n",
              "      <td>DSL</td>\n",
              "      <td>No</td>\n",
              "      <td>Yes</td>\n",
              "      <td>No</td>\n",
              "      <td>No</td>\n",
              "      <td>No</td>\n",
              "      <td>No</td>\n",
              "      <td>Month-to-month</td>\n",
              "      <td>Yes</td>\n",
              "      <td>Electronic check</td>\n",
              "      <td>29.85</td>\n",
              "      <td>29.85</td>\n",
              "      <td>No</td>\n",
              "    </tr>\n",
              "    <tr>\n",
              "      <th>1</th>\n",
              "      <td>Male</td>\n",
              "      <td>0</td>\n",
              "      <td>No</td>\n",
              "      <td>No</td>\n",
              "      <td>34</td>\n",
              "      <td>Yes</td>\n",
              "      <td>No</td>\n",
              "      <td>DSL</td>\n",
              "      <td>Yes</td>\n",
              "      <td>No</td>\n",
              "      <td>Yes</td>\n",
              "      <td>No</td>\n",
              "      <td>No</td>\n",
              "      <td>No</td>\n",
              "      <td>One year</td>\n",
              "      <td>No</td>\n",
              "      <td>Mailed check</td>\n",
              "      <td>56.95</td>\n",
              "      <td>1889.50</td>\n",
              "      <td>No</td>\n",
              "    </tr>\n",
              "    <tr>\n",
              "      <th>2</th>\n",
              "      <td>Male</td>\n",
              "      <td>0</td>\n",
              "      <td>No</td>\n",
              "      <td>No</td>\n",
              "      <td>2</td>\n",
              "      <td>Yes</td>\n",
              "      <td>No</td>\n",
              "      <td>DSL</td>\n",
              "      <td>Yes</td>\n",
              "      <td>Yes</td>\n",
              "      <td>No</td>\n",
              "      <td>No</td>\n",
              "      <td>No</td>\n",
              "      <td>No</td>\n",
              "      <td>Month-to-month</td>\n",
              "      <td>Yes</td>\n",
              "      <td>Mailed check</td>\n",
              "      <td>53.85</td>\n",
              "      <td>108.15</td>\n",
              "      <td>Yes</td>\n",
              "    </tr>\n",
              "    <tr>\n",
              "      <th>3</th>\n",
              "      <td>Male</td>\n",
              "      <td>0</td>\n",
              "      <td>No</td>\n",
              "      <td>No</td>\n",
              "      <td>45</td>\n",
              "      <td>No</td>\n",
              "      <td>No phone service</td>\n",
              "      <td>DSL</td>\n",
              "      <td>Yes</td>\n",
              "      <td>No</td>\n",
              "      <td>Yes</td>\n",
              "      <td>Yes</td>\n",
              "      <td>No</td>\n",
              "      <td>No</td>\n",
              "      <td>One year</td>\n",
              "      <td>No</td>\n",
              "      <td>Bank transfer (automatic)</td>\n",
              "      <td>42.30</td>\n",
              "      <td>1840.75</td>\n",
              "      <td>No</td>\n",
              "    </tr>\n",
              "    <tr>\n",
              "      <th>4</th>\n",
              "      <td>Female</td>\n",
              "      <td>0</td>\n",
              "      <td>No</td>\n",
              "      <td>No</td>\n",
              "      <td>2</td>\n",
              "      <td>Yes</td>\n",
              "      <td>No</td>\n",
              "      <td>Fiber optic</td>\n",
              "      <td>No</td>\n",
              "      <td>No</td>\n",
              "      <td>No</td>\n",
              "      <td>No</td>\n",
              "      <td>No</td>\n",
              "      <td>No</td>\n",
              "      <td>Month-to-month</td>\n",
              "      <td>Yes</td>\n",
              "      <td>Electronic check</td>\n",
              "      <td>70.70</td>\n",
              "      <td>151.65</td>\n",
              "      <td>Yes</td>\n",
              "    </tr>\n",
              "  </tbody>\n",
              "</table>\n",
              "</div>\n",
              "      <button class=\"colab-df-convert\" onclick=\"convertToInteractive('df-51ebfed1-f6e4-4134-8cfd-8f2cf37cc6df')\"\n",
              "              title=\"Convert this dataframe to an interactive table.\"\n",
              "              style=\"display:none;\">\n",
              "        \n",
              "  <svg xmlns=\"http://www.w3.org/2000/svg\" height=\"24px\"viewBox=\"0 0 24 24\"\n",
              "       width=\"24px\">\n",
              "    <path d=\"M0 0h24v24H0V0z\" fill=\"none\"/>\n",
              "    <path d=\"M18.56 5.44l.94 2.06.94-2.06 2.06-.94-2.06-.94-.94-2.06-.94 2.06-2.06.94zm-11 1L8.5 8.5l.94-2.06 2.06-.94-2.06-.94L8.5 2.5l-.94 2.06-2.06.94zm10 10l.94 2.06.94-2.06 2.06-.94-2.06-.94-.94-2.06-.94 2.06-2.06.94z\"/><path d=\"M17.41 7.96l-1.37-1.37c-.4-.4-.92-.59-1.43-.59-.52 0-1.04.2-1.43.59L10.3 9.45l-7.72 7.72c-.78.78-.78 2.05 0 2.83L4 21.41c.39.39.9.59 1.41.59.51 0 1.02-.2 1.41-.59l7.78-7.78 2.81-2.81c.8-.78.8-2.07 0-2.86zM5.41 20L4 18.59l7.72-7.72 1.47 1.35L5.41 20z\"/>\n",
              "  </svg>\n",
              "      </button>\n",
              "      \n",
              "  <style>\n",
              "    .colab-df-container {\n",
              "      display:flex;\n",
              "      flex-wrap:wrap;\n",
              "      gap: 12px;\n",
              "    }\n",
              "\n",
              "    .colab-df-convert {\n",
              "      background-color: #E8F0FE;\n",
              "      border: none;\n",
              "      border-radius: 50%;\n",
              "      cursor: pointer;\n",
              "      display: none;\n",
              "      fill: #1967D2;\n",
              "      height: 32px;\n",
              "      padding: 0 0 0 0;\n",
              "      width: 32px;\n",
              "    }\n",
              "\n",
              "    .colab-df-convert:hover {\n",
              "      background-color: #E2EBFA;\n",
              "      box-shadow: 0px 1px 2px rgba(60, 64, 67, 0.3), 0px 1px 3px 1px rgba(60, 64, 67, 0.15);\n",
              "      fill: #174EA6;\n",
              "    }\n",
              "\n",
              "    [theme=dark] .colab-df-convert {\n",
              "      background-color: #3B4455;\n",
              "      fill: #D2E3FC;\n",
              "    }\n",
              "\n",
              "    [theme=dark] .colab-df-convert:hover {\n",
              "      background-color: #434B5C;\n",
              "      box-shadow: 0px 1px 3px 1px rgba(0, 0, 0, 0.15);\n",
              "      filter: drop-shadow(0px 1px 2px rgba(0, 0, 0, 0.3));\n",
              "      fill: #FFFFFF;\n",
              "    }\n",
              "  </style>\n",
              "\n",
              "      <script>\n",
              "        const buttonEl =\n",
              "          document.querySelector('#df-51ebfed1-f6e4-4134-8cfd-8f2cf37cc6df button.colab-df-convert');\n",
              "        buttonEl.style.display =\n",
              "          google.colab.kernel.accessAllowed ? 'block' : 'none';\n",
              "\n",
              "        async function convertToInteractive(key) {\n",
              "          const element = document.querySelector('#df-51ebfed1-f6e4-4134-8cfd-8f2cf37cc6df');\n",
              "          const dataTable =\n",
              "            await google.colab.kernel.invokeFunction('convertToInteractive',\n",
              "                                                     [key], {});\n",
              "          if (!dataTable) return;\n",
              "\n",
              "          const docLinkHtml = 'Like what you see? Visit the ' +\n",
              "            '<a target=\"_blank\" href=https://colab.research.google.com/notebooks/data_table.ipynb>data table notebook</a>'\n",
              "            + ' to learn more about interactive tables.';\n",
              "          element.innerHTML = '';\n",
              "          dataTable['output_type'] = 'display_data';\n",
              "          await google.colab.output.renderOutput(dataTable, element);\n",
              "          const docLink = document.createElement('div');\n",
              "          docLink.innerHTML = docLinkHtml;\n",
              "          element.appendChild(docLink);\n",
              "        }\n",
              "      </script>\n",
              "    </div>\n",
              "  </div>\n",
              "  "
            ]
          },
          "metadata": {},
          "execution_count": 37
        }
      ]
    },
    {
      "cell_type": "code",
      "source": [
        "#check skewness\n",
        "for col in df.select_dtypes('number').columns:\n",
        "    plt.figure(figsize=(20,5))\n",
        "    plt.title('{} Distribution, skewness: {} '.format(col,str(round(df[col].skew(), 3))), fontsize=20)\n",
        "    sns.histplot(df[col])\n",
        "    plt.show()"
      ],
      "metadata": {
        "colab": {
          "base_uri": "https://localhost:8080/",
          "height": 1000
        },
        "id": "4HxF0hsSeep5",
        "outputId": "68291ec0-57cf-4947-a25a-53d73a9793a9"
      },
      "execution_count": 38,
      "outputs": [
        {
          "output_type": "display_data",
          "data": {
            "text/plain": [
              "<Figure size 1440x360 with 1 Axes>"
            ],
            "image/png": "[encoded data removed]"
          },
          "metadata": {
            "needs_background": "light"
          }
        },
        {
          "output_type": "display_data",
          "data": {
            "text/plain": [
              "<Figure size 1440x360 with 1 Axes>"
            ],
            "image/png": "[encoded data removed]"
          },
          "metadata": {
            "needs_background": "light"
          }
        },
        {
          "output_type": "display_data",
          "data": {
            "text/plain": [
              "<Figure size 1440x360 with 1 Axes>"
            ],
            "image/png": "[encoded data removed]"
          },
          "metadata": {
            "needs_background": "light"
          }
        },
        {
          "output_type": "display_data",
          "data": {
            "text/plain": [
              "<Figure size 1440x360 with 1 Axes>"
            ],
            "image/png": "[encoded data removed]"
          },
          "metadata": {
            "needs_background": "light"
          }
        }
      ]
    },
    {
      "cell_type": "markdown",
      "source": [
        "most of numerical data are skewed but since neural network not really sensitive to outlier, so i just keep it the way it is"
      ],
      "metadata": {
        "id": "4HDigcWo4e0n"
      }
    },
    {
      "cell_type": "code",
      "source": [
        "#use vif to check multicolinearity\n",
        "from statsmodels.stats.outliers_influence import variance_inflation_factor"
      ],
      "metadata": {
        "id": "kk5xw2vzd_9V",
        "colab": {
          "base_uri": "https://localhost:8080/"
        },
        "outputId": "cd723ad0-67f2-4574-fc33-2bb739dbe547"
      },
      "execution_count": 39,
      "outputs": [
        {
          "output_type": "stream",
          "name": "stderr",
          "text": [
            "/usr/local/lib/python3.7/dist-packages/statsmodels/tools/_testing.py:19: FutureWarning: pandas.util.testing is deprecated. Use the functions in the public API at pandas.testing instead.\n",
            "  import pandas.util.testing as tm\n"
          ]
        }
      ]
    },
    {
      "cell_type": "code",
      "source": [
        "#check multicolinearity\n",
        "vif = pd.DataFrame()\n",
        "vif[\"features\"] = df.select_dtypes(\"number\").columns\n",
        "vif[\"VIF\"] = [variance_inflation_factor(df.select_dtypes(\"number\").values, i) for i in range(len(vif))]\n",
        "vif"
      ],
      "metadata": {
        "colab": {
          "base_uri": "https://localhost:8080/",
          "height": 175
        },
        "id": "tsqNIowgfaq2",
        "outputId": "c77c032b-cd96-4a0f-fcef-501f489f8303"
      },
      "execution_count": 40,
      "outputs": [
        {
          "output_type": "execute_result",
          "data": {
            "text/plain": [
              "         features       VIF\n",
              "0   SeniorCitizen  1.257569\n",
              "1          tenure  6.332737\n",
              "2  MonthlyCharges  3.701617\n",
              "3    TotalCharges  8.085198"
            ],
            "text/html": [
              "\n",
              "  <div id=\"df-6473688c-6d46-4ca2-a033-438a5859e2ff\">\n",
              "    <div class=\"colab-df-container\">\n",
              "      <div>\n",
              "<style scoped>\n",
              "    .dataframe tbody tr th:only-of-type {\n",
              "        vertical-align: middle;\n",
              "    }\n",
              "\n",
              "    .dataframe tbody tr th {\n",
              "        vertical-align: top;\n",
              "    }\n",
              "\n",
              "    .dataframe thead th {\n",
              "        text-align: right;\n",
              "    }\n",
              "</style>\n",
              "<table border=\"1\" class=\"dataframe\">\n",
              "  <thead>\n",
              "    <tr style=\"text-align: right;\">\n",
              "      <th></th>\n",
              "      <th>features</th>\n",
              "      <th>VIF</th>\n",
              "    </tr>\n",
              "  </thead>\n",
              "  <tbody>\n",
              "    <tr>\n",
              "      <th>0</th>\n",
              "      <td>SeniorCitizen</td>\n",
              "      <td>1.257569</td>\n",
              "    </tr>\n",
              "    <tr>\n",
              "      <th>1</th>\n",
              "      <td>tenure</td>\n",
              "      <td>6.332737</td>\n",
              "    </tr>\n",
              "    <tr>\n",
              "      <th>2</th>\n",
              "      <td>MonthlyCharges</td>\n",
              "      <td>3.701617</td>\n",
              "    </tr>\n",
              "    <tr>\n",
              "      <th>3</th>\n",
              "      <td>TotalCharges</td>\n",
              "      <td>8.085198</td>\n",
              "    </tr>\n",
              "  </tbody>\n",
              "</table>\n",
              "</div>\n",
              "      <button class=\"colab-df-convert\" onclick=\"convertToInteractive('df-6473688c-6d46-4ca2-a033-438a5859e2ff')\"\n",
              "              title=\"Convert this dataframe to an interactive table.\"\n",
              "              style=\"display:none;\">\n",
              "        \n",
              "  <svg xmlns=\"http://www.w3.org/2000/svg\" height=\"24px\"viewBox=\"0 0 24 24\"\n",
              "       width=\"24px\">\n",
              "    <path d=\"M0 0h24v24H0V0z\" fill=\"none\"/>\n",
              "    <path d=\"M18.56 5.44l.94 2.06.94-2.06 2.06-.94-2.06-.94-.94-2.06-.94 2.06-2.06.94zm-11 1L8.5 8.5l.94-2.06 2.06-.94-2.06-.94L8.5 2.5l-.94 2.06-2.06.94zm10 10l.94 2.06.94-2.06 2.06-.94-2.06-.94-.94-2.06-.94 2.06-2.06.94z\"/><path d=\"M17.41 7.96l-1.37-1.37c-.4-.4-.92-.59-1.43-.59-.52 0-1.04.2-1.43.59L10.3 9.45l-7.72 7.72c-.78.78-.78 2.05 0 2.83L4 21.41c.39.39.9.59 1.41.59.51 0 1.02-.2 1.41-.59l7.78-7.78 2.81-2.81c.8-.78.8-2.07 0-2.86zM5.41 20L4 18.59l7.72-7.72 1.47 1.35L5.41 20z\"/>\n",
              "  </svg>\n",
              "      </button>\n",
              "      \n",
              "  <style>\n",
              "    .colab-df-container {\n",
              "      display:flex;\n",
              "      flex-wrap:wrap;\n",
              "      gap: 12px;\n",
              "    }\n",
              "\n",
              "    .colab-df-convert {\n",
              "      background-color: #E8F0FE;\n",
              "      border: none;\n",
              "      border-radius: 50%;\n",
              "      cursor: pointer;\n",
              "      display: none;\n",
              "      fill: #1967D2;\n",
              "      height: 32px;\n",
              "      padding: 0 0 0 0;\n",
              "      width: 32px;\n",
              "    }\n",
              "\n",
              "    .colab-df-convert:hover {\n",
              "      background-color: #E2EBFA;\n",
              "      box-shadow: 0px 1px 2px rgba(60, 64, 67, 0.3), 0px 1px 3px 1px rgba(60, 64, 67, 0.15);\n",
              "      fill: #174EA6;\n",
              "    }\n",
              "\n",
              "    [theme=dark] .colab-df-convert {\n",
              "      background-color: #3B4455;\n",
              "      fill: #D2E3FC;\n",
              "    }\n",
              "\n",
              "    [theme=dark] .colab-df-convert:hover {\n",
              "      background-color: #434B5C;\n",
              "      box-shadow: 0px 1px 3px 1px rgba(0, 0, 0, 0.15);\n",
              "      filter: drop-shadow(0px 1px 2px rgba(0, 0, 0, 0.3));\n",
              "      fill: #FFFFFF;\n",
              "    }\n",
              "  </style>\n",
              "\n",
              "      <script>\n",
              "        const buttonEl =\n",
              "          document.querySelector('#df-6473688c-6d46-4ca2-a033-438a5859e2ff button.colab-df-convert');\n",
              "        buttonEl.style.display =\n",
              "          google.colab.kernel.accessAllowed ? 'block' : 'none';\n",
              "\n",
              "        async function convertToInteractive(key) {\n",
              "          const element = document.querySelector('#df-6473688c-6d46-4ca2-a033-438a5859e2ff');\n",
              "          const dataTable =\n",
              "            await google.colab.kernel.invokeFunction('convertToInteractive',\n",
              "                                                     [key], {});\n",
              "          if (!dataTable) return;\n",
              "\n",
              "          const docLinkHtml = 'Like what you see? Visit the ' +\n",
              "            '<a target=\"_blank\" href=https://colab.research.google.com/notebooks/data_table.ipynb>data table notebook</a>'\n",
              "            + ' to learn more about interactive tables.';\n",
              "          element.innerHTML = '';\n",
              "          dataTable['output_type'] = 'display_data';\n",
              "          await google.colab.output.renderOutput(dataTable, element);\n",
              "          const docLink = document.createElement('div');\n",
              "          docLink.innerHTML = docLinkHtml;\n",
              "          element.appendChild(docLink);\n",
              "        }\n",
              "      </script>\n",
              "    </div>\n",
              "  </div>\n",
              "  "
            ]
          },
          "metadata": {},
          "execution_count": 40
        }
      ]
    },
    {
      "cell_type": "markdown",
      "source": [
        "based on this resource https://quantifyinghealth.com/vif-threshold/ Most research papers consider a VIF (Variance Inflation Factor) > 10 as an indicator of multicollinearity"
      ],
      "metadata": {
        "id": "u4y1tzynhY7U"
      }
    },
    {
      "cell_type": "markdown",
      "source": [
        "# Data Preprocessing"
      ],
      "metadata": {
        "id": "091iLEJyihgD"
      }
    },
    {
      "cell_type": "code",
      "source": [
        "#copy dataset\n",
        "dc = df.copy()"
      ],
      "metadata": {
        "id": "W_1_6J2W8KU_"
      },
      "execution_count": 41,
      "outputs": []
    },
    {
      "cell_type": "code",
      "source": [
        "#function to return unique value in each features\n",
        "def print_unique_col_values(df):\n",
        "  for column in df:\n",
        "    if df[column].dtypes=='object':\n",
        "      print(f'{column} : {df[column].unique()}')"
      ],
      "metadata": {
        "id": "xCfrymUu_Tod"
      },
      "execution_count": 42,
      "outputs": []
    },
    {
      "cell_type": "code",
      "source": [
        "#use unique value function\n",
        "print_unique_col_values(dc)"
      ],
      "metadata": {
        "colab": {
          "base_uri": "https://localhost:8080/"
        },
        "id": "sozqlX8k8nUe",
        "outputId": "01a0707a-2b83-43ba-d384-8894b8ce3b86"
      },
      "execution_count": 43,
      "outputs": [
        {
          "output_type": "stream",
          "name": "stdout",
          "text": [
            "gender : ['Female' 'Male']\n",
            "Partner : ['Yes' 'No']\n",
            "Dependents : ['No' 'Yes']\n",
            "PhoneService : ['No' 'Yes']\n",
            "MultipleLines : ['No phone service' 'No' 'Yes']\n",
            "InternetService : ['DSL' 'Fiber optic' 'No']\n",
            "OnlineSecurity : ['No' 'Yes' 'No internet service']\n",
            "OnlineBackup : ['Yes' 'No' 'No internet service']\n",
            "DeviceProtection : ['No' 'Yes' 'No internet service']\n",
            "TechSupport : ['No' 'Yes' 'No internet service']\n",
            "StreamingTV : ['No' 'Yes' 'No internet service']\n",
            "StreamingMovies : ['No' 'Yes' 'No internet service']\n",
            "Contract : ['Month-to-month' 'One year' 'Two year']\n",
            "PaperlessBilling : ['Yes' 'No']\n",
            "PaymentMethod : ['Electronic check' 'Mailed check' 'Bank transfer (automatic)'\n",
            " 'Credit card (automatic)']\n",
            "Churn : ['No' 'Yes']\n"
          ]
        }
      ]
    },
    {
      "cell_type": "code",
      "source": [
        "#i assume no internet service = No, so i change it to No instead of dropping it\n",
        "dc.replace('No internet service', 'No', inplace=True)\n",
        "dc.replace('No phone service', 'No', inplace=True)"
      ],
      "metadata": {
        "id": "SKtls17P9C9-"
      },
      "execution_count": 44,
      "outputs": []
    },
    {
      "cell_type": "code",
      "source": [
        "#check the data again\n",
        "print_unique_col_values(dc)"
      ],
      "metadata": {
        "id": "yygHKGbn9520",
        "colab": {
          "base_uri": "https://localhost:8080/"
        },
        "outputId": "52cb55ec-4b9f-448c-c436-ba8d904cd86b"
      },
      "execution_count": 45,
      "outputs": [
        {
          "output_type": "stream",
          "name": "stdout",
          "text": [
            "gender : ['Female' 'Male']\n",
            "Partner : ['Yes' 'No']\n",
            "Dependents : ['No' 'Yes']\n",
            "PhoneService : ['No' 'Yes']\n",
            "MultipleLines : ['No' 'Yes']\n",
            "InternetService : ['DSL' 'Fiber optic' 'No']\n",
            "OnlineSecurity : ['No' 'Yes']\n",
            "OnlineBackup : ['Yes' 'No']\n",
            "DeviceProtection : ['No' 'Yes']\n",
            "TechSupport : ['No' 'Yes']\n",
            "StreamingTV : ['No' 'Yes']\n",
            "StreamingMovies : ['No' 'Yes']\n",
            "Contract : ['Month-to-month' 'One year' 'Two year']\n",
            "PaperlessBilling : ['Yes' 'No']\n",
            "PaymentMethod : ['Electronic check' 'Mailed check' 'Bank transfer (automatic)'\n",
            " 'Credit card (automatic)']\n",
            "Churn : ['No' 'Yes']\n"
          ]
        }
      ]
    },
    {
      "cell_type": "code",
      "source": [
        "# make a list containing columns with binary value\n",
        "yes_no_columns = ['Partner', 'Dependents', 'PhoneService', 'MultipleLines',  'OnlineSecurity',\n",
        "        'OnlineBackup', 'DeviceProtection', 'TechSupport', 'StreamingTV', 'StreamingMovies',  'PaperlessBilling', 'Churn']"
      ],
      "metadata": {
        "id": "LcTopHsOInHG"
      },
      "execution_count": 46,
      "outputs": []
    },
    {
      "cell_type": "markdown",
      "source": [
        "##### Binary Classification Label Encoding"
      ],
      "metadata": {
        "id": "y0mFTzTNJUYo"
      }
    },
    {
      "cell_type": "code",
      "source": [
        "#change binary value yes and no to 1 and 0\n",
        "for col in yes_no_columns:\n",
        "  dc[col].replace({'Yes': 1, 'No': 0},inplace=True)"
      ],
      "metadata": {
        "id": "1SIdjbikIh48"
      },
      "execution_count": 47,
      "outputs": []
    },
    {
      "cell_type": "code",
      "source": [
        "# change gender to female 1 male 0\n",
        "dc['gender'].replace({'Female':1,'Male':0},inplace=True)"
      ],
      "metadata": {
        "id": "yzx86cvBIxbs"
      },
      "execution_count": 48,
      "outputs": []
    },
    {
      "cell_type": "code",
      "source": [
        "# check columns with categorical value more than 2\n",
        "print_unique_col_values(dc)"
      ],
      "metadata": {
        "id": "kg_D6orxIvK3",
        "colab": {
          "base_uri": "https://localhost:8080/"
        },
        "outputId": "38fb670a-8f0a-42ed-88cf-2c163b84ce99"
      },
      "execution_count": 49,
      "outputs": [
        {
          "output_type": "stream",
          "name": "stdout",
          "text": [
            "InternetService : ['DSL' 'Fiber optic' 'No']\n",
            "Contract : ['Month-to-month' 'One year' 'Two year']\n",
            "PaymentMethod : ['Electronic check' 'Mailed check' 'Bank transfer (automatic)'\n",
            " 'Credit card (automatic)']\n"
          ]
        }
      ]
    },
    {
      "cell_type": "markdown",
      "source": [
        "#### One Hot Encoding"
      ],
      "metadata": {
        "id": "hdIqcigFJPUF"
      }
    },
    {
      "cell_type": "code",
      "source": [
        "#use one hot encoding\n",
        "dc = pd.get_dummies(data=dc,columns=['InternetService','Contract', 'PaymentMethod'])\n",
        "dc.columns"
      ],
      "metadata": {
        "id": "pnFEsCa3JEkz",
        "colab": {
          "base_uri": "https://localhost:8080/"
        },
        "outputId": "3f1faf8f-24fe-4e21-f511-059926db8145"
      },
      "execution_count": 50,
      "outputs": [
        {
          "output_type": "execute_result",
          "data": {
            "text/plain": [
              "Index(['gender', 'SeniorCitizen', 'Partner', 'Dependents', 'tenure',\n",
              "       'PhoneService', 'MultipleLines', 'OnlineSecurity', 'OnlineBackup',\n",
              "       'DeviceProtection', 'TechSupport', 'StreamingTV', 'StreamingMovies',\n",
              "       'PaperlessBilling', 'MonthlyCharges', 'TotalCharges', 'Churn',\n",
              "       'InternetService_DSL', 'InternetService_Fiber optic',\n",
              "       'InternetService_No', 'Contract_Month-to-month', 'Contract_One year',\n",
              "       'Contract_Two year', 'PaymentMethod_Bank transfer (automatic)',\n",
              "       'PaymentMethod_Credit card (automatic)',\n",
              "       'PaymentMethod_Electronic check', 'PaymentMethod_Mailed check'],\n",
              "      dtype='object')"
            ]
          },
          "metadata": {},
          "execution_count": 50
        }
      ]
    },
    {
      "cell_type": "markdown",
      "source": [
        "##### Define features and labels"
      ],
      "metadata": {
        "id": "PksZRhTEDJrG"
      }
    },
    {
      "cell_type": "code",
      "source": [
        "X = dc.drop(columns = [\"Churn\"]) # features\n",
        "y = dc[\"Churn\"] # target label"
      ],
      "metadata": {
        "id": "vJvQ49jwDQDb"
      },
      "execution_count": 51,
      "outputs": []
    },
    {
      "cell_type": "code",
      "source": [
        "#check features data shape\n",
        "X.shape"
      ],
      "metadata": {
        "id": "kHW-vHKXDaEv",
        "colab": {
          "base_uri": "https://localhost:8080/"
        },
        "outputId": "1298220b-d676-4120-b2b9-63d74006d15e"
      },
      "execution_count": 52,
      "outputs": [
        {
          "output_type": "execute_result",
          "data": {
            "text/plain": [
              "(7032, 26)"
            ]
          },
          "metadata": {},
          "execution_count": 52
        }
      ]
    },
    {
      "cell_type": "code",
      "source": [
        "#check target shape\n",
        "y.shape"
      ],
      "metadata": {
        "id": "Rftg63RSDa-X",
        "colab": {
          "base_uri": "https://localhost:8080/"
        },
        "outputId": "171e4ef2-72b4-4a68-cdd2-af5ed1eb183f"
      },
      "execution_count": 53,
      "outputs": [
        {
          "output_type": "execute_result",
          "data": {
            "text/plain": [
              "(7032,)"
            ]
          },
          "metadata": {},
          "execution_count": 53
        }
      ]
    },
    {
      "cell_type": "markdown",
      "source": [
        "##### Splitting Data"
      ],
      "metadata": {
        "id": "BbFCypyODB4v"
      }
    },
    {
      "cell_type": "code",
      "source": [
        "#split data train and test\n",
        "X_train_main, X_test, y_train_main, y_test = train_test_split(X, y, test_size = 0.3, stratify = y, random_state = 77)"
      ],
      "metadata": {
        "id": "esCNsCU_DBqy"
      },
      "execution_count": 54,
      "outputs": []
    },
    {
      "cell_type": "code",
      "source": [
        "#check train data shape\n",
        "X_train_main.shape, y_train_main.shape"
      ],
      "metadata": {
        "colab": {
          "base_uri": "https://localhost:8080/"
        },
        "id": "RDu9tlgNaWGU",
        "outputId": "7ee33a1b-1507-4720-dbda-95a7a0e3537d"
      },
      "execution_count": 55,
      "outputs": [
        {
          "output_type": "execute_result",
          "data": {
            "text/plain": [
              "((4922, 26), (4922,))"
            ]
          },
          "metadata": {},
          "execution_count": 55
        }
      ]
    },
    {
      "cell_type": "code",
      "source": [
        "#check test data shape\n",
        "X_test.shape, y_test.shape"
      ],
      "metadata": {
        "colab": {
          "base_uri": "https://localhost:8080/"
        },
        "id": "1DMC7usAaaWv",
        "outputId": "43a21eee-7eaf-499b-d9d6-309b519d6ce5"
      },
      "execution_count": 56,
      "outputs": [
        {
          "output_type": "execute_result",
          "data": {
            "text/plain": [
              "((2110, 26), (2110,))"
            ]
          },
          "metadata": {},
          "execution_count": 56
        }
      ]
    },
    {
      "cell_type": "code",
      "source": [
        "#split data with validation data\n",
        "X_train, X_val, y_train, y_val = train_test_split(X_train_main, y_train_main, test_size = 0.3, random_state = 77)"
      ],
      "metadata": {
        "id": "gM6Xze8YbKsZ"
      },
      "execution_count": 57,
      "outputs": []
    },
    {
      "cell_type": "markdown",
      "source": [
        "##### Scaling and Oversampling\n"
      ],
      "metadata": {
        "id": "4xTzVoadatlL"
      }
    },
    {
      "cell_type": "code",
      "source": [
        "# using pipeline\n",
        "scaler_pipeline = Pipeline([('minmax_scaler', MinMaxScaler())])"
      ],
      "metadata": {
        "id": "Y58aOgIjaw2j"
      },
      "execution_count": 58,
      "outputs": []
    },
    {
      "cell_type": "code",
      "source": [
        "#use pipline for scalling\n",
        "scaler_pipeline.fit(X_train)\n",
        "\n",
        "X_train = scaler_pipeline.transform(X_train)\n",
        "X_test_trf = scaler_pipeline.transform(X_test)\n",
        "X_val_trf = scaler_pipeline.transform(X_val)"
      ],
      "metadata": {
        "id": "aYx1V7jpaz5k"
      },
      "execution_count": 59,
      "outputs": []
    },
    {
      "cell_type": "code",
      "source": [
        "#do oversampling\n",
        "sm = SMOTE(random_state=0)\n",
        "X_res, y_res = sm.fit_resample(X_train, y_train)"
      ],
      "metadata": {
        "id": "PZsSaVjEb667"
      },
      "execution_count": 60,
      "outputs": []
    },
    {
      "cell_type": "code",
      "source": [
        "#check whether target data already balanced\n",
        "y_res.value_counts()"
      ],
      "metadata": {
        "colab": {
          "base_uri": "https://localhost:8080/"
        },
        "id": "sXBduwNFd6yy",
        "outputId": "a67db44e-0e4b-4e4d-ac85-786b32dc8b8b"
      },
      "execution_count": 61,
      "outputs": [
        {
          "output_type": "execute_result",
          "data": {
            "text/plain": [
              "0    2520\n",
              "1    2520\n",
              "Name: Churn, dtype: int64"
            ]
          },
          "metadata": {},
          "execution_count": 61
        }
      ]
    },
    {
      "cell_type": "markdown",
      "source": [
        "# Model Definition, Training, Evaluation and Improvement"
      ],
      "metadata": {
        "id": "btS8YD2lABY8"
      }
    },
    {
      "cell_type": "markdown",
      "source": [
        "## Sequential Model"
      ],
      "metadata": {
        "id": "U0jbnMJgF5YW"
      }
    },
    {
      "cell_type": "code",
      "source": [
        "tf.keras.backend.clear_session() #use for avoiding clutter from old models and layers\n",
        "np.random.seed(77)\n",
        "tf.random.set_seed(77)"
      ],
      "metadata": {
        "id": "4QxstGP7oVJr"
      },
      "execution_count": 62,
      "outputs": []
    },
    {
      "cell_type": "markdown",
      "source": [
        "##### Define Model"
      ],
      "metadata": {
        "id": "dm6DOFSH8a9k"
      }
    },
    {
      "cell_type": "code",
      "source": [
        "#create base model with hidden layers\n",
        "model = keras.models.Sequential([\n",
        "    keras.layers.Dense(26, input_shape=(26,)), #input shape based on columns number\n",
        "    \n",
        "    keras.layers.Dense(20, kernel_initializer='glorot_uniform'),\n",
        "    keras.layers.BatchNormalization(),\n",
        "    keras.layers.Activation(\"relu\"),\n",
        "    \n",
        "    keras.layers.Dense(10, kernel_initializer='glorot_uniform'),\n",
        "    keras.layers.BatchNormalization(),\n",
        "    keras.layers.Activation(\"relu\"),\n",
        "    \n",
        "    keras.layers.Dense(5, kernel_initializer='glorot_uniform'),\n",
        "    keras.layers.BatchNormalization(),\n",
        "    keras.layers.Activation(\"relu\"),\n",
        "\n",
        "     keras.layers.Dense(1, activation=\"sigmoid\")\n",
        "])\n"
      ],
      "metadata": {
        "id": "dbO2mRXnF4yN"
      },
      "execution_count": 63,
      "outputs": []
    },
    {
      "cell_type": "markdown",
      "source": [
        "Summary :\n",
        "* 1 input layer\n",
        "* 3 hidden layer with different amount of neuron 20, 10, and 5. for initializer = glorot_uniform, activation = relu\n",
        "* 1 output layer, because the label is binary classification ( 1 or 0)"
      ],
      "metadata": {
        "id": "4SJwyLiDvB0R"
      }
    },
    {
      "cell_type": "code",
      "source": [
        "#check model architecture\n",
        "model.summary()"
      ],
      "metadata": {
        "colab": {
          "base_uri": "https://localhost:8080/"
        },
        "id": "PXYJza4pirtF",
        "outputId": "e1bd3db3-f568-47f1-b258-5fed7abc62a5"
      },
      "execution_count": 64,
      "outputs": [
        {
          "output_type": "stream",
          "name": "stdout",
          "text": [
            "Model: \"sequential\"\n",
            "_________________________________________________________________\n",
            " Layer (type)                Output Shape              Param #   \n",
            "=================================================================\n",
            " dense (Dense)               (None, 26)                702       \n",
            "                                                                 \n",
            " dense_1 (Dense)             (None, 20)                540       \n",
            "                                                                 \n",
            " batch_normalization (BatchN  (None, 20)               80        \n",
            " ormalization)                                                   \n",
            "                                                                 \n",
            " activation (Activation)     (None, 20)                0         \n",
            "                                                                 \n",
            " dense_2 (Dense)             (None, 10)                210       \n",
            "                                                                 \n",
            " batch_normalization_1 (Batc  (None, 10)               40        \n",
            " hNormalization)                                                 \n",
            "                                                                 \n",
            " activation_1 (Activation)   (None, 10)                0         \n",
            "                                                                 \n",
            " dense_3 (Dense)             (None, 5)                 55        \n",
            "                                                                 \n",
            " batch_normalization_2 (Batc  (None, 5)                20        \n",
            " hNormalization)                                                 \n",
            "                                                                 \n",
            " activation_2 (Activation)   (None, 5)                 0         \n",
            "                                                                 \n",
            " dense_4 (Dense)             (None, 1)                 6         \n",
            "                                                                 \n",
            "=================================================================\n",
            "Total params: 1,653\n",
            "Trainable params: 1,583\n",
            "Non-trainable params: 70\n",
            "_________________________________________________________________\n"
          ]
        }
      ]
    },
    {
      "cell_type": "code",
      "source": [
        "#compile base model\n",
        "model.compile(loss='binary_crossentropy',\n",
        "              optimizer='adam',\n",
        "              metrics=['Accuracy', 'Recall'])"
      ],
      "metadata": {
        "id": "TQL5MgluffjP"
      },
      "execution_count": 65,
      "outputs": []
    },
    {
      "cell_type": "markdown",
      "source": [
        "### Model Training Base Model"
      ],
      "metadata": {
        "id": "menkfmFKAFe2"
      }
    },
    {
      "cell_type": "code",
      "source": [
        "#train model\n",
        "history = model.fit(X_res, y_res, epochs=100, validation_data=(X_val_trf, y_val))"
      ],
      "metadata": {
        "colab": {
          "base_uri": "https://localhost:8080/"
        },
        "id": "IZtniS5Ufu7Z",
        "outputId": "06b8d3c7-2b74-41a9-cc4d-274fc71f8b7c"
      },
      "execution_count": 66,
      "outputs": [
        {
          "output_type": "stream",
          "name": "stdout",
          "text": [
            "Epoch 1/100\n",
            "158/158 [==============================] - 5s 10ms/step - loss: 0.5943 - Accuracy: 0.7109 - recall: 0.7278 - val_loss: 0.5151 - val_Accuracy: 0.7068 - val_recall: 0.8120\n",
            "Epoch 2/100\n",
            "158/158 [==============================] - 1s 6ms/step - loss: 0.5212 - Accuracy: 0.7613 - recall: 0.8611 - val_loss: 0.5195 - val_Accuracy: 0.6933 - val_recall: 0.8251\n",
            "Epoch 3/100\n",
            "158/158 [==============================] - 1s 6ms/step - loss: 0.4857 - Accuracy: 0.7671 - recall: 0.8433 - val_loss: 0.5070 - val_Accuracy: 0.7129 - val_recall: 0.7859\n",
            "Epoch 4/100\n",
            "158/158 [==============================] - 1s 6ms/step - loss: 0.4723 - Accuracy: 0.7750 - recall: 0.8230 - val_loss: 0.5257 - val_Accuracy: 0.7136 - val_recall: 0.8068\n",
            "Epoch 5/100\n",
            "158/158 [==============================] - 1s 6ms/step - loss: 0.4645 - Accuracy: 0.7764 - recall: 0.8286 - val_loss: 0.5141 - val_Accuracy: 0.7366 - val_recall: 0.7755\n",
            "Epoch 6/100\n",
            "158/158 [==============================] - 1s 6ms/step - loss: 0.4624 - Accuracy: 0.7796 - recall: 0.8194 - val_loss: 0.5111 - val_Accuracy: 0.7373 - val_recall: 0.7546\n",
            "Epoch 7/100\n",
            "158/158 [==============================] - 1s 6ms/step - loss: 0.4555 - Accuracy: 0.7798 - recall: 0.8048 - val_loss: 0.5048 - val_Accuracy: 0.7393 - val_recall: 0.7520\n",
            "Epoch 8/100\n",
            "158/158 [==============================] - 1s 6ms/step - loss: 0.4558 - Accuracy: 0.7825 - recall: 0.8190 - val_loss: 0.4955 - val_Accuracy: 0.7508 - val_recall: 0.7363\n",
            "Epoch 9/100\n",
            "158/158 [==============================] - 1s 6ms/step - loss: 0.4499 - Accuracy: 0.7883 - recall: 0.8163 - val_loss: 0.5020 - val_Accuracy: 0.7495 - val_recall: 0.7441\n",
            "Epoch 10/100\n",
            "158/158 [==============================] - 1s 6ms/step - loss: 0.4417 - Accuracy: 0.7946 - recall: 0.8353 - val_loss: 0.4968 - val_Accuracy: 0.7576 - val_recall: 0.7389\n",
            "Epoch 11/100\n",
            "158/158 [==============================] - 1s 6ms/step - loss: 0.4419 - Accuracy: 0.8000 - recall: 0.8401 - val_loss: 0.5172 - val_Accuracy: 0.7454 - val_recall: 0.7598\n",
            "Epoch 12/100\n",
            "158/158 [==============================] - 1s 6ms/step - loss: 0.4410 - Accuracy: 0.7927 - recall: 0.8329 - val_loss: 0.5056 - val_Accuracy: 0.7420 - val_recall: 0.7258\n",
            "Epoch 13/100\n",
            "158/158 [==============================] - 1s 6ms/step - loss: 0.4380 - Accuracy: 0.7976 - recall: 0.8377 - val_loss: 0.5177 - val_Accuracy: 0.7373 - val_recall: 0.7546\n",
            "Epoch 14/100\n",
            "158/158 [==============================] - 1s 6ms/step - loss: 0.4298 - Accuracy: 0.8046 - recall: 0.8393 - val_loss: 0.4968 - val_Accuracy: 0.7563 - val_recall: 0.7285\n",
            "Epoch 15/100\n",
            "158/158 [==============================] - 1s 6ms/step - loss: 0.4317 - Accuracy: 0.7974 - recall: 0.8440 - val_loss: 0.5155 - val_Accuracy: 0.7380 - val_recall: 0.7676\n",
            "Epoch 16/100\n",
            "158/158 [==============================] - 1s 6ms/step - loss: 0.4312 - Accuracy: 0.8038 - recall: 0.8456 - val_loss: 0.5137 - val_Accuracy: 0.7420 - val_recall: 0.7493\n",
            "Epoch 17/100\n",
            "158/158 [==============================] - 1s 6ms/step - loss: 0.4340 - Accuracy: 0.8010 - recall: 0.8444 - val_loss: 0.5090 - val_Accuracy: 0.7475 - val_recall: 0.7050\n",
            "Epoch 18/100\n",
            "158/158 [==============================] - 1s 6ms/step - loss: 0.4307 - Accuracy: 0.8038 - recall: 0.8480 - val_loss: 0.5218 - val_Accuracy: 0.7380 - val_recall: 0.7467\n",
            "Epoch 19/100\n",
            "158/158 [==============================] - 1s 6ms/step - loss: 0.4212 - Accuracy: 0.8056 - recall: 0.8567 - val_loss: 0.5156 - val_Accuracy: 0.7373 - val_recall: 0.7206\n",
            "Epoch 20/100\n",
            "158/158 [==============================] - 1s 6ms/step - loss: 0.4222 - Accuracy: 0.8091 - recall: 0.8583 - val_loss: 0.5281 - val_Accuracy: 0.7461 - val_recall: 0.7493\n",
            "Epoch 21/100\n",
            "158/158 [==============================] - 1s 6ms/step - loss: 0.4237 - Accuracy: 0.8058 - recall: 0.8536 - val_loss: 0.5102 - val_Accuracy: 0.7488 - val_recall: 0.7180\n",
            "Epoch 22/100\n",
            "158/158 [==============================] - 1s 6ms/step - loss: 0.4183 - Accuracy: 0.8046 - recall: 0.8425 - val_loss: 0.5231 - val_Accuracy: 0.7414 - val_recall: 0.7258\n",
            "Epoch 23/100\n",
            "158/158 [==============================] - 1s 6ms/step - loss: 0.4202 - Accuracy: 0.8044 - recall: 0.8480 - val_loss: 0.5188 - val_Accuracy: 0.7420 - val_recall: 0.7180\n",
            "Epoch 24/100\n",
            "158/158 [==============================] - 1s 6ms/step - loss: 0.4119 - Accuracy: 0.8204 - recall: 0.8750 - val_loss: 0.5267 - val_Accuracy: 0.7427 - val_recall: 0.7389\n",
            "Epoch 25/100\n",
            "158/158 [==============================] - 1s 6ms/step - loss: 0.4182 - Accuracy: 0.8099 - recall: 0.8492 - val_loss: 0.5246 - val_Accuracy: 0.7393 - val_recall: 0.7285\n",
            "Epoch 26/100\n",
            "158/158 [==============================] - 1s 6ms/step - loss: 0.4171 - Accuracy: 0.8091 - recall: 0.8575 - val_loss: 0.5343 - val_Accuracy: 0.7312 - val_recall: 0.7128\n",
            "Epoch 27/100\n",
            "158/158 [==============================] - 1s 6ms/step - loss: 0.4188 - Accuracy: 0.8097 - recall: 0.8710 - val_loss: 0.5268 - val_Accuracy: 0.7285 - val_recall: 0.7363\n",
            "Epoch 28/100\n",
            "158/158 [==============================] - 1s 6ms/step - loss: 0.4078 - Accuracy: 0.8147 - recall: 0.8651 - val_loss: 0.5282 - val_Accuracy: 0.7427 - val_recall: 0.7258\n",
            "Epoch 29/100\n",
            "158/158 [==============================] - 1s 6ms/step - loss: 0.4104 - Accuracy: 0.8153 - recall: 0.8667 - val_loss: 0.5274 - val_Accuracy: 0.7326 - val_recall: 0.7206\n",
            "Epoch 30/100\n",
            "158/158 [==============================] - 1s 6ms/step - loss: 0.4127 - Accuracy: 0.8099 - recall: 0.8694 - val_loss: 0.5422 - val_Accuracy: 0.7231 - val_recall: 0.7598\n",
            "Epoch 31/100\n",
            "158/158 [==============================] - 1s 6ms/step - loss: 0.4130 - Accuracy: 0.8115 - recall: 0.8603 - val_loss: 0.5369 - val_Accuracy: 0.7251 - val_recall: 0.7363\n",
            "Epoch 32/100\n",
            "158/158 [==============================] - 1s 6ms/step - loss: 0.4082 - Accuracy: 0.8089 - recall: 0.8591 - val_loss: 0.5363 - val_Accuracy: 0.7278 - val_recall: 0.7050\n",
            "Epoch 33/100\n",
            "158/158 [==============================] - 1s 6ms/step - loss: 0.4090 - Accuracy: 0.8161 - recall: 0.8571 - val_loss: 0.5394 - val_Accuracy: 0.7353 - val_recall: 0.7232\n",
            "Epoch 34/100\n",
            "158/158 [==============================] - 1s 6ms/step - loss: 0.4114 - Accuracy: 0.8121 - recall: 0.8635 - val_loss: 0.5354 - val_Accuracy: 0.7265 - val_recall: 0.7102\n",
            "Epoch 35/100\n",
            "158/158 [==============================] - 1s 6ms/step - loss: 0.4065 - Accuracy: 0.8173 - recall: 0.8667 - val_loss: 0.5259 - val_Accuracy: 0.7434 - val_recall: 0.7102\n",
            "Epoch 36/100\n",
            "158/158 [==============================] - 1s 6ms/step - loss: 0.4044 - Accuracy: 0.8133 - recall: 0.8683 - val_loss: 0.5298 - val_Accuracy: 0.7305 - val_recall: 0.7285\n",
            "Epoch 37/100\n",
            "158/158 [==============================] - 1s 6ms/step - loss: 0.4087 - Accuracy: 0.8117 - recall: 0.8579 - val_loss: 0.5472 - val_Accuracy: 0.7292 - val_recall: 0.7572\n",
            "Epoch 38/100\n",
            "158/158 [==============================] - 1s 8ms/step - loss: 0.4022 - Accuracy: 0.8181 - recall: 0.8698 - val_loss: 0.5433 - val_Accuracy: 0.7251 - val_recall: 0.7232\n",
            "Epoch 39/100\n",
            "158/158 [==============================] - 1s 8ms/step - loss: 0.3995 - Accuracy: 0.8192 - recall: 0.8663 - val_loss: 0.5419 - val_Accuracy: 0.7299 - val_recall: 0.7128\n",
            "Epoch 40/100\n",
            "158/158 [==============================] - 1s 8ms/step - loss: 0.4007 - Accuracy: 0.8159 - recall: 0.8611 - val_loss: 0.5363 - val_Accuracy: 0.7373 - val_recall: 0.7258\n",
            "Epoch 41/100\n",
            "158/158 [==============================] - 1s 9ms/step - loss: 0.4040 - Accuracy: 0.8161 - recall: 0.8742 - val_loss: 0.5399 - val_Accuracy: 0.7251 - val_recall: 0.7311\n",
            "Epoch 42/100\n",
            "158/158 [==============================] - 1s 9ms/step - loss: 0.4019 - Accuracy: 0.8202 - recall: 0.8718 - val_loss: 0.5305 - val_Accuracy: 0.7380 - val_recall: 0.6710\n",
            "Epoch 43/100\n",
            "158/158 [==============================] - 1s 8ms/step - loss: 0.4026 - Accuracy: 0.8208 - recall: 0.8663 - val_loss: 0.5447 - val_Accuracy: 0.7319 - val_recall: 0.7807\n",
            "Epoch 44/100\n",
            "158/158 [==============================] - 2s 10ms/step - loss: 0.3947 - Accuracy: 0.8244 - recall: 0.8655 - val_loss: 0.5462 - val_Accuracy: 0.7339 - val_recall: 0.7546\n",
            "Epoch 45/100\n",
            "158/158 [==============================] - 1s 9ms/step - loss: 0.3995 - Accuracy: 0.8177 - recall: 0.8710 - val_loss: 0.5454 - val_Accuracy: 0.7326 - val_recall: 0.7050\n",
            "Epoch 46/100\n",
            "158/158 [==============================] - 1s 8ms/step - loss: 0.3963 - Accuracy: 0.8181 - recall: 0.8734 - val_loss: 0.5426 - val_Accuracy: 0.7366 - val_recall: 0.6893\n",
            "Epoch 47/100\n",
            "158/158 [==============================] - 2s 11ms/step - loss: 0.3973 - Accuracy: 0.8200 - recall: 0.8651 - val_loss: 0.5316 - val_Accuracy: 0.7360 - val_recall: 0.7206\n",
            "Epoch 48/100\n",
            "158/158 [==============================] - 1s 9ms/step - loss: 0.4024 - Accuracy: 0.8177 - recall: 0.8726 - val_loss: 0.5422 - val_Accuracy: 0.7312 - val_recall: 0.7311\n",
            "Epoch 49/100\n",
            "158/158 [==============================] - 1s 9ms/step - loss: 0.3890 - Accuracy: 0.8272 - recall: 0.8778 - val_loss: 0.5388 - val_Accuracy: 0.7393 - val_recall: 0.7258\n",
            "Epoch 50/100\n",
            "158/158 [==============================] - 2s 10ms/step - loss: 0.4033 - Accuracy: 0.8147 - recall: 0.8567 - val_loss: 0.5344 - val_Accuracy: 0.7448 - val_recall: 0.7206\n",
            "Epoch 51/100\n",
            "158/158 [==============================] - 2s 10ms/step - loss: 0.3939 - Accuracy: 0.8198 - recall: 0.8790 - val_loss: 0.5387 - val_Accuracy: 0.7346 - val_recall: 0.7285\n",
            "Epoch 52/100\n",
            "158/158 [==============================] - 1s 9ms/step - loss: 0.3925 - Accuracy: 0.8236 - recall: 0.8734 - val_loss: 0.5467 - val_Accuracy: 0.7312 - val_recall: 0.7415\n",
            "Epoch 53/100\n",
            "158/158 [==============================] - 2s 10ms/step - loss: 0.4018 - Accuracy: 0.8157 - recall: 0.8575 - val_loss: 0.5374 - val_Accuracy: 0.7360 - val_recall: 0.7285\n",
            "Epoch 54/100\n",
            "158/158 [==============================] - 2s 10ms/step - loss: 0.3915 - Accuracy: 0.8258 - recall: 0.8794 - val_loss: 0.5289 - val_Accuracy: 0.7360 - val_recall: 0.7050\n",
            "Epoch 55/100\n",
            "158/158 [==============================] - 1s 9ms/step - loss: 0.3935 - Accuracy: 0.8294 - recall: 0.8758 - val_loss: 0.5453 - val_Accuracy: 0.7346 - val_recall: 0.7232\n",
            "Epoch 56/100\n",
            "158/158 [==============================] - 2s 10ms/step - loss: 0.3922 - Accuracy: 0.8260 - recall: 0.8778 - val_loss: 0.5438 - val_Accuracy: 0.7427 - val_recall: 0.7467\n",
            "Epoch 57/100\n",
            "158/158 [==============================] - 1s 9ms/step - loss: 0.3862 - Accuracy: 0.8308 - recall: 0.8782 - val_loss: 0.5321 - val_Accuracy: 0.7488 - val_recall: 0.7023\n",
            "Epoch 58/100\n",
            "158/158 [==============================] - 1s 6ms/step - loss: 0.3939 - Accuracy: 0.8236 - recall: 0.8770 - val_loss: 0.5448 - val_Accuracy: 0.7380 - val_recall: 0.7415\n",
            "Epoch 59/100\n",
            "158/158 [==============================] - 1s 6ms/step - loss: 0.3937 - Accuracy: 0.8194 - recall: 0.8679 - val_loss: 0.5373 - val_Accuracy: 0.7353 - val_recall: 0.7206\n",
            "Epoch 60/100\n",
            "158/158 [==============================] - 1s 7ms/step - loss: 0.3862 - Accuracy: 0.8204 - recall: 0.8690 - val_loss: 0.5353 - val_Accuracy: 0.7400 - val_recall: 0.7102\n",
            "Epoch 61/100\n",
            "158/158 [==============================] - 2s 10ms/step - loss: 0.3843 - Accuracy: 0.8288 - recall: 0.8774 - val_loss: 0.5512 - val_Accuracy: 0.7420 - val_recall: 0.7546\n",
            "Epoch 62/100\n",
            "158/158 [==============================] - 1s 9ms/step - loss: 0.3883 - Accuracy: 0.8246 - recall: 0.8714 - val_loss: 0.5441 - val_Accuracy: 0.7434 - val_recall: 0.7206\n",
            "Epoch 63/100\n",
            "158/158 [==============================] - 1s 7ms/step - loss: 0.3909 - Accuracy: 0.8256 - recall: 0.8798 - val_loss: 0.5339 - val_Accuracy: 0.7407 - val_recall: 0.6945\n",
            "Epoch 64/100\n",
            "158/158 [==============================] - 1s 6ms/step - loss: 0.3931 - Accuracy: 0.8220 - recall: 0.8774 - val_loss: 0.5357 - val_Accuracy: 0.7326 - val_recall: 0.7258\n",
            "Epoch 65/100\n",
            "158/158 [==============================] - 1s 6ms/step - loss: 0.3934 - Accuracy: 0.8220 - recall: 0.8690 - val_loss: 0.5360 - val_Accuracy: 0.7400 - val_recall: 0.7180\n",
            "Epoch 66/100\n",
            "158/158 [==============================] - 1s 6ms/step - loss: 0.3871 - Accuracy: 0.8296 - recall: 0.8726 - val_loss: 0.5403 - val_Accuracy: 0.7434 - val_recall: 0.7023\n",
            "Epoch 67/100\n",
            "158/158 [==============================] - 1s 6ms/step - loss: 0.3871 - Accuracy: 0.8212 - recall: 0.8730 - val_loss: 0.5388 - val_Accuracy: 0.7380 - val_recall: 0.7232\n",
            "Epoch 68/100\n",
            "158/158 [==============================] - 1s 6ms/step - loss: 0.3814 - Accuracy: 0.8258 - recall: 0.8754 - val_loss: 0.5425 - val_Accuracy: 0.7353 - val_recall: 0.7023\n",
            "Epoch 69/100\n",
            "158/158 [==============================] - 1s 6ms/step - loss: 0.3826 - Accuracy: 0.8228 - recall: 0.8694 - val_loss: 0.5459 - val_Accuracy: 0.7387 - val_recall: 0.7180\n",
            "Epoch 70/100\n",
            "158/158 [==============================] - 1s 6ms/step - loss: 0.3835 - Accuracy: 0.8313 - recall: 0.8798 - val_loss: 0.5446 - val_Accuracy: 0.7360 - val_recall: 0.6945\n",
            "Epoch 71/100\n",
            "158/158 [==============================] - 1s 6ms/step - loss: 0.3841 - Accuracy: 0.8280 - recall: 0.8734 - val_loss: 0.5485 - val_Accuracy: 0.7407 - val_recall: 0.6919\n",
            "Epoch 72/100\n",
            "158/158 [==============================] - 1s 6ms/step - loss: 0.3781 - Accuracy: 0.8304 - recall: 0.8810 - val_loss: 0.5407 - val_Accuracy: 0.7400 - val_recall: 0.6997\n",
            "Epoch 73/100\n",
            "158/158 [==============================] - 1s 6ms/step - loss: 0.3871 - Accuracy: 0.8341 - recall: 0.8869 - val_loss: 0.5332 - val_Accuracy: 0.7475 - val_recall: 0.6815\n",
            "Epoch 74/100\n",
            "158/158 [==============================] - 1s 6ms/step - loss: 0.3847 - Accuracy: 0.8262 - recall: 0.8750 - val_loss: 0.5557 - val_Accuracy: 0.7414 - val_recall: 0.7258\n",
            "Epoch 75/100\n",
            "158/158 [==============================] - 1s 6ms/step - loss: 0.3817 - Accuracy: 0.8312 - recall: 0.8730 - val_loss: 0.5415 - val_Accuracy: 0.7461 - val_recall: 0.7128\n",
            "Epoch 76/100\n",
            "158/158 [==============================] - 1s 6ms/step - loss: 0.3773 - Accuracy: 0.8321 - recall: 0.8770 - val_loss: 0.5560 - val_Accuracy: 0.7346 - val_recall: 0.7258\n",
            "Epoch 77/100\n",
            "158/158 [==============================] - 1s 6ms/step - loss: 0.3775 - Accuracy: 0.8323 - recall: 0.8758 - val_loss: 0.5393 - val_Accuracy: 0.7515 - val_recall: 0.6997\n",
            "Epoch 78/100\n",
            "158/158 [==============================] - 1s 6ms/step - loss: 0.3780 - Accuracy: 0.8395 - recall: 0.8929 - val_loss: 0.5420 - val_Accuracy: 0.7393 - val_recall: 0.6919\n",
            "Epoch 79/100\n",
            "158/158 [==============================] - 1s 6ms/step - loss: 0.3739 - Accuracy: 0.8335 - recall: 0.8813 - val_loss: 0.5490 - val_Accuracy: 0.7387 - val_recall: 0.7206\n",
            "Epoch 80/100\n",
            "158/158 [==============================] - 1s 6ms/step - loss: 0.3784 - Accuracy: 0.8294 - recall: 0.8742 - val_loss: 0.5603 - val_Accuracy: 0.7346 - val_recall: 0.7258\n",
            "Epoch 81/100\n",
            "158/158 [==============================] - 1s 6ms/step - loss: 0.3742 - Accuracy: 0.8296 - recall: 0.8722 - val_loss: 0.5543 - val_Accuracy: 0.7373 - val_recall: 0.7232\n",
            "Epoch 82/100\n",
            "158/158 [==============================] - 1s 6ms/step - loss: 0.3732 - Accuracy: 0.8347 - recall: 0.8798 - val_loss: 0.5638 - val_Accuracy: 0.7292 - val_recall: 0.7363\n",
            "Epoch 83/100\n",
            "158/158 [==============================] - 1s 6ms/step - loss: 0.3723 - Accuracy: 0.8331 - recall: 0.8770 - val_loss: 0.5441 - val_Accuracy: 0.7549 - val_recall: 0.7023\n",
            "Epoch 84/100\n",
            "158/158 [==============================] - 1s 6ms/step - loss: 0.3764 - Accuracy: 0.8329 - recall: 0.8794 - val_loss: 0.5623 - val_Accuracy: 0.7420 - val_recall: 0.7232\n",
            "Epoch 85/100\n",
            "158/158 [==============================] - 1s 6ms/step - loss: 0.3809 - Accuracy: 0.8274 - recall: 0.8770 - val_loss: 0.5584 - val_Accuracy: 0.7353 - val_recall: 0.7232\n",
            "Epoch 86/100\n",
            "158/158 [==============================] - 1s 6ms/step - loss: 0.3775 - Accuracy: 0.8335 - recall: 0.8746 - val_loss: 0.5458 - val_Accuracy: 0.7475 - val_recall: 0.6919\n",
            "Epoch 87/100\n",
            "158/158 [==============================] - 1s 6ms/step - loss: 0.3808 - Accuracy: 0.8284 - recall: 0.8714 - val_loss: 0.5642 - val_Accuracy: 0.7387 - val_recall: 0.7232\n",
            "Epoch 88/100\n",
            "158/158 [==============================] - 1s 6ms/step - loss: 0.3770 - Accuracy: 0.8355 - recall: 0.8758 - val_loss: 0.5587 - val_Accuracy: 0.7427 - val_recall: 0.7050\n",
            "Epoch 89/100\n",
            "158/158 [==============================] - 1s 6ms/step - loss: 0.3849 - Accuracy: 0.8284 - recall: 0.8758 - val_loss: 0.5533 - val_Accuracy: 0.7332 - val_recall: 0.7076\n",
            "Epoch 90/100\n",
            "158/158 [==============================] - 1s 6ms/step - loss: 0.3719 - Accuracy: 0.8373 - recall: 0.8758 - val_loss: 0.5406 - val_Accuracy: 0.7332 - val_recall: 0.6789\n",
            "Epoch 91/100\n",
            "158/158 [==============================] - 1s 6ms/step - loss: 0.3793 - Accuracy: 0.8288 - recall: 0.8738 - val_loss: 0.5592 - val_Accuracy: 0.7346 - val_recall: 0.7258\n",
            "Epoch 92/100\n",
            "158/158 [==============================] - 1s 6ms/step - loss: 0.3717 - Accuracy: 0.8319 - recall: 0.8722 - val_loss: 0.5546 - val_Accuracy: 0.7414 - val_recall: 0.6762\n",
            "Epoch 93/100\n",
            "158/158 [==============================] - 1s 6ms/step - loss: 0.3835 - Accuracy: 0.8244 - recall: 0.8758 - val_loss: 0.5506 - val_Accuracy: 0.7468 - val_recall: 0.6919\n",
            "Epoch 94/100\n",
            "158/158 [==============================] - 1s 6ms/step - loss: 0.3672 - Accuracy: 0.8371 - recall: 0.8794 - val_loss: 0.5510 - val_Accuracy: 0.7387 - val_recall: 0.6893\n",
            "Epoch 95/100\n",
            "158/158 [==============================] - 1s 6ms/step - loss: 0.3742 - Accuracy: 0.8302 - recall: 0.8762 - val_loss: 0.5590 - val_Accuracy: 0.7373 - val_recall: 0.7128\n",
            "Epoch 96/100\n",
            "158/158 [==============================] - 1s 6ms/step - loss: 0.3690 - Accuracy: 0.8397 - recall: 0.8802 - val_loss: 0.5672 - val_Accuracy: 0.7400 - val_recall: 0.6867\n",
            "Epoch 97/100\n",
            "158/158 [==============================] - 1s 6ms/step - loss: 0.3776 - Accuracy: 0.8288 - recall: 0.8710 - val_loss: 0.5559 - val_Accuracy: 0.7441 - val_recall: 0.7337\n",
            "Epoch 98/100\n",
            "158/158 [==============================] - 1s 6ms/step - loss: 0.3754 - Accuracy: 0.8302 - recall: 0.8706 - val_loss: 0.5629 - val_Accuracy: 0.7339 - val_recall: 0.7206\n",
            "Epoch 99/100\n",
            "158/158 [==============================] - 1s 6ms/step - loss: 0.3782 - Accuracy: 0.8306 - recall: 0.8738 - val_loss: 0.5518 - val_Accuracy: 0.7414 - val_recall: 0.7128\n",
            "Epoch 100/100\n",
            "158/158 [==============================] - 1s 6ms/step - loss: 0.3677 - Accuracy: 0.8413 - recall: 0.8861 - val_loss: 0.5514 - val_Accuracy: 0.7475 - val_recall: 0.7180\n"
          ]
        }
      ]
    },
    {
      "cell_type": "code",
      "source": [
        "#check loss \n",
        "metrics = pd.DataFrame(history.history)\n",
        "metrics[['loss', 'val_loss']].plot();"
      ],
      "metadata": {
        "colab": {
          "base_uri": "https://localhost:8080/",
          "height": 265
        },
        "id": "UUMnIY-pg1K4",
        "outputId": "e8370951-3336-41c5-d154-288846f70658"
      },
      "execution_count": 67,
      "outputs": [
        {
          "output_type": "display_data",
          "data": {
            "text/plain": [
              "<Figure size 432x288 with 1 Axes>"
            ],
            "image/png": "[encoded data removed]"
          },
          "metadata": {
            "needs_background": "light"
          }
        }
      ]
    },
    {
      "cell_type": "markdown",
      "source": [
        "we can see that the model is overfit since validation loss keep getting higher"
      ],
      "metadata": {
        "id": "RZCKjuil9I-_"
      }
    },
    {
      "cell_type": "code",
      "source": [
        "pd.DataFrame(history.history).plot(figsize=(12,8));"
      ],
      "metadata": {
        "colab": {
          "base_uri": "https://localhost:8080/",
          "height": 483
        },
        "id": "PUkGMML5wzoJ",
        "outputId": "733d6e47-cd5c-4bfe-c90c-feecb2ef5b8b"
      },
      "execution_count": 68,
      "outputs": [
        {
          "output_type": "display_data",
          "data": {
            "text/plain": [
              "<Figure size 864x576 with 1 Axes>"
            ],
            "image/png": "[encoded data removed]"
          },
          "metadata": {
            "needs_background": "light"
          }
        }
      ]
    },
    {
      "cell_type": "markdown",
      "source": [
        "above model made without hidden layer and only output layer with 1 neuron. with 100 epoch the bigger the epoch gets the bigger accuracy we got for loss it got smaller every epoch, but those result does not represent the same in validation accuracy and loss both of parameter tend to stay at the same place not decreasing nor improving"
      ],
      "metadata": {
        "id": "U1DKRgMEi-IQ"
      }
    },
    {
      "cell_type": "markdown",
      "source": [
        "#### Model Evaluation"
      ],
      "metadata": {
        "id": "IDucQ4aa0O6U"
      }
    },
    {
      "cell_type": "code",
      "source": [
        "#futher checking with predict\n",
        "y_pred = model.predict(X_test_trf)\n",
        "print('Predict result: \\n', y_pred[:5])\n",
        "print('\\n y_test: \\n', y_test[:5])"
      ],
      "metadata": {
        "colab": {
          "base_uri": "https://localhost:8080/"
        },
        "id": "fHkuP2fu0TNK",
        "outputId": "d61d6e9c-a1dc-43c7-cbd2-996f6d6930cc"
      },
      "execution_count": 69,
      "outputs": [
        {
          "output_type": "stream",
          "name": "stdout",
          "text": [
            "Predict result: \n",
            " [[0.04778321]\n",
            " [0.16472517]\n",
            " [0.00146988]\n",
            " [0.03210864]\n",
            " [0.07791263]]\n",
            "\n",
            " y_test: \n",
            " 6359    0\n",
            "5926    0\n",
            "4743    0\n",
            "4496    0\n",
            "4569    1\n",
            "Name: Churn, dtype: int64\n"
          ]
        }
      ]
    },
    {
      "cell_type": "code",
      "source": [
        "#check y_pred if above 0.5 = 1 and below 0.5 = 0\n",
        "predictions = []\n",
        "for element in y_pred:\n",
        "    if element > 0.5:\n",
        "        predictions.append(1)\n",
        "    else:\n",
        "        predictions.append(0)\n",
        "\n",
        "print(predictions[:5])"
      ],
      "metadata": {
        "colab": {
          "base_uri": "https://localhost:8080/"
        },
        "id": "NDxIbtLB0Yxw",
        "outputId": "d72264aa-5ff1-412f-c084-5bd66c5d25f5"
      },
      "execution_count": 70,
      "outputs": [
        {
          "output_type": "stream",
          "name": "stdout",
          "text": [
            "[0, 0, 0, 0, 0]\n"
          ]
        }
      ]
    },
    {
      "cell_type": "code",
      "source": [
        "#checking top 10 data to check whether the prediction match actual data or not\n",
        "pred_result_log = pd.DataFrame({\n",
        "    \"Actual\":y_test,\n",
        "    \"Prediction\":predictions\n",
        "})\n",
        "pred_result_log.head(10)"
      ],
      "metadata": {
        "colab": {
          "base_uri": "https://localhost:8080/",
          "height": 363
        },
        "id": "PkfIxiCK1r6m",
        "outputId": "83289289-e116-4a5c-e561-4837c05687f8"
      },
      "execution_count": 71,
      "outputs": [
        {
          "output_type": "execute_result",
          "data": {
            "text/plain": [
              "      Actual  Prediction\n",
              "6359       0           0\n",
              "5926       0           0\n",
              "4743       0           0\n",
              "4496       0           0\n",
              "4569       1           0\n",
              "4039       0           1\n",
              "4558       1           1\n",
              "6878       1           1\n",
              "5522       1           1\n",
              "4695       0           0"
            ],
            "text/html": [
              "\n",
              "  <div id=\"df-5de9173e-6e02-4f57-b25a-31327fb65123\">\n",
              "    <div class=\"colab-df-container\">\n",
              "      <div>\n",
              "<style scoped>\n",
              "    .dataframe tbody tr th:only-of-type {\n",
              "        vertical-align: middle;\n",
              "    }\n",
              "\n",
              "    .dataframe tbody tr th {\n",
              "        vertical-align: top;\n",
              "    }\n",
              "\n",
              "    .dataframe thead th {\n",
              "        text-align: right;\n",
              "    }\n",
              "</style>\n",
              "<table border=\"1\" class=\"dataframe\">\n",
              "  <thead>\n",
              "    <tr style=\"text-align: right;\">\n",
              "      <th></th>\n",
              "      <th>Actual</th>\n",
              "      <th>Prediction</th>\n",
              "    </tr>\n",
              "  </thead>\n",
              "  <tbody>\n",
              "    <tr>\n",
              "      <th>6359</th>\n",
              "      <td>0</td>\n",
              "      <td>0</td>\n",
              "    </tr>\n",
              "    <tr>\n",
              "      <th>5926</th>\n",
              "      <td>0</td>\n",
              "      <td>0</td>\n",
              "    </tr>\n",
              "    <tr>\n",
              "      <th>4743</th>\n",
              "      <td>0</td>\n",
              "      <td>0</td>\n",
              "    </tr>\n",
              "    <tr>\n",
              "      <th>4496</th>\n",
              "      <td>0</td>\n",
              "      <td>0</td>\n",
              "    </tr>\n",
              "    <tr>\n",
              "      <th>4569</th>\n",
              "      <td>1</td>\n",
              "      <td>0</td>\n",
              "    </tr>\n",
              "    <tr>\n",
              "      <th>4039</th>\n",
              "      <td>0</td>\n",
              "      <td>1</td>\n",
              "    </tr>\n",
              "    <tr>\n",
              "      <th>4558</th>\n",
              "      <td>1</td>\n",
              "      <td>1</td>\n",
              "    </tr>\n",
              "    <tr>\n",
              "      <th>6878</th>\n",
              "      <td>1</td>\n",
              "      <td>1</td>\n",
              "    </tr>\n",
              "    <tr>\n",
              "      <th>5522</th>\n",
              "      <td>1</td>\n",
              "      <td>1</td>\n",
              "    </tr>\n",
              "    <tr>\n",
              "      <th>4695</th>\n",
              "      <td>0</td>\n",
              "      <td>0</td>\n",
              "    </tr>\n",
              "  </tbody>\n",
              "</table>\n",
              "</div>\n",
              "      <button class=\"colab-df-convert\" onclick=\"convertToInteractive('df-5de9173e-6e02-4f57-b25a-31327fb65123')\"\n",
              "              title=\"Convert this dataframe to an interactive table.\"\n",
              "              style=\"display:none;\">\n",
              "        \n",
              "  <svg xmlns=\"http://www.w3.org/2000/svg\" height=\"24px\"viewBox=\"0 0 24 24\"\n",
              "       width=\"24px\">\n",
              "    <path d=\"M0 0h24v24H0V0z\" fill=\"none\"/>\n",
              "    <path d=\"M18.56 5.44l.94 2.06.94-2.06 2.06-.94-2.06-.94-.94-2.06-.94 2.06-2.06.94zm-11 1L8.5 8.5l.94-2.06 2.06-.94-2.06-.94L8.5 2.5l-.94 2.06-2.06.94zm10 10l.94 2.06.94-2.06 2.06-.94-2.06-.94-.94-2.06-.94 2.06-2.06.94z\"/><path d=\"M17.41 7.96l-1.37-1.37c-.4-.4-.92-.59-1.43-.59-.52 0-1.04.2-1.43.59L10.3 9.45l-7.72 7.72c-.78.78-.78 2.05 0 2.83L4 21.41c.39.39.9.59 1.41.59.51 0 1.02-.2 1.41-.59l7.78-7.78 2.81-2.81c.8-.78.8-2.07 0-2.86zM5.41 20L4 18.59l7.72-7.72 1.47 1.35L5.41 20z\"/>\n",
              "  </svg>\n",
              "      </button>\n",
              "      \n",
              "  <style>\n",
              "    .colab-df-container {\n",
              "      display:flex;\n",
              "      flex-wrap:wrap;\n",
              "      gap: 12px;\n",
              "    }\n",
              "\n",
              "    .colab-df-convert {\n",
              "      background-color: #E8F0FE;\n",
              "      border: none;\n",
              "      border-radius: 50%;\n",
              "      cursor: pointer;\n",
              "      display: none;\n",
              "      fill: #1967D2;\n",
              "      height: 32px;\n",
              "      padding: 0 0 0 0;\n",
              "      width: 32px;\n",
              "    }\n",
              "\n",
              "    .colab-df-convert:hover {\n",
              "      background-color: #E2EBFA;\n",
              "      box-shadow: 0px 1px 2px rgba(60, 64, 67, 0.3), 0px 1px 3px 1px rgba(60, 64, 67, 0.15);\n",
              "      fill: #174EA6;\n",
              "    }\n",
              "\n",
              "    [theme=dark] .colab-df-convert {\n",
              "      background-color: #3B4455;\n",
              "      fill: #D2E3FC;\n",
              "    }\n",
              "\n",
              "    [theme=dark] .colab-df-convert:hover {\n",
              "      background-color: #434B5C;\n",
              "      box-shadow: 0px 1px 3px 1px rgba(0, 0, 0, 0.15);\n",
              "      filter: drop-shadow(0px 1px 2px rgba(0, 0, 0, 0.3));\n",
              "      fill: #FFFFFF;\n",
              "    }\n",
              "  </style>\n",
              "\n",
              "      <script>\n",
              "        const buttonEl =\n",
              "          document.querySelector('#df-5de9173e-6e02-4f57-b25a-31327fb65123 button.colab-df-convert');\n",
              "        buttonEl.style.display =\n",
              "          google.colab.kernel.accessAllowed ? 'block' : 'none';\n",
              "\n",
              "        async function convertToInteractive(key) {\n",
              "          const element = document.querySelector('#df-5de9173e-6e02-4f57-b25a-31327fb65123');\n",
              "          const dataTable =\n",
              "            await google.colab.kernel.invokeFunction('convertToInteractive',\n",
              "                                                     [key], {});\n",
              "          if (!dataTable) return;\n",
              "\n",
              "          const docLinkHtml = 'Like what you see? Visit the ' +\n",
              "            '<a target=\"_blank\" href=https://colab.research.google.com/notebooks/data_table.ipynb>data table notebook</a>'\n",
              "            + ' to learn more about interactive tables.';\n",
              "          element.innerHTML = '';\n",
              "          dataTable['output_type'] = 'display_data';\n",
              "          await google.colab.output.renderOutput(dataTable, element);\n",
              "          const docLink = document.createElement('div');\n",
              "          docLink.innerHTML = docLinkHtml;\n",
              "          element.appendChild(docLink);\n",
              "        }\n",
              "      </script>\n",
              "    </div>\n",
              "  </div>\n",
              "  "
            ]
          },
          "metadata": {},
          "execution_count": 71
        }
      ]
    },
    {
      "cell_type": "code",
      "source": [
        "# show classification report\n",
        "print(classification_report(y_test, predictions))"
      ],
      "metadata": {
        "colab": {
          "base_uri": "https://localhost:8080/"
        },
        "id": "CnHEMYdx2RJY",
        "outputId": "e2475f61-7da4-42ac-ffcb-217121faa8c1"
      },
      "execution_count": 72,
      "outputs": [
        {
          "output_type": "stream",
          "name": "stdout",
          "text": [
            "              precision    recall  f1-score   support\n",
            "\n",
            "           0       0.87      0.77      0.82      1549\n",
            "           1       0.52      0.69      0.59       561\n",
            "\n",
            "    accuracy                           0.75      2110\n",
            "   macro avg       0.69      0.73      0.70      2110\n",
            "weighted avg       0.78      0.75      0.76      2110\n",
            "\n"
          ]
        }
      ]
    },
    {
      "cell_type": "code",
      "source": [
        "#check confusion matrix FP and FN\n",
        "import seaborn as sn\n",
        "cm = tf.math.confusion_matrix(labels=y_test,predictions=predictions)\n",
        "\n",
        "plt.figure(figsize = (10,7))\n",
        "sn.heatmap(cm, annot=True, fmt='d')\n",
        "plt.xlabel('Predicted')\n",
        "plt.ylabel('Truth')"
      ],
      "metadata": {
        "colab": {
          "base_uri": "https://localhost:8080/",
          "height": 459
        },
        "id": "mU2-fuToGmTJ",
        "outputId": "e1668b71-b0b3-460b-9858-66f5595732a2"
      },
      "execution_count": 73,
      "outputs": [
        {
          "output_type": "execute_result",
          "data": {
            "text/plain": [
              "Text(69.0, 0.5, 'Truth')"
            ]
          },
          "metadata": {},
          "execution_count": 73
        },
        {
          "output_type": "display_data",
          "data": {
            "text/plain": [
              "<Figure size 720x504 with 2 Axes>"
            ],
            "image/png": "[encoded data removed]"
          },
          "metadata": {
            "needs_background": "light"
          }
        }
      ]
    },
    {
      "cell_type": "markdown",
      "source": [
        "### Model Improvement"
      ],
      "metadata": {
        "id": "bXoRnWcyxSL_"
      }
    },
    {
      "cell_type": "code",
      "source": [
        "keras.backend.clear_session()\n",
        "np.random.seed(77)\n",
        "tf.random.set_seed(77)"
      ],
      "metadata": {
        "id": "krKJbNg6JCcF"
      },
      "execution_count": 74,
      "outputs": []
    },
    {
      "cell_type": "code",
      "source": [
        "# create model for hyperparameter tuning\n",
        "def build_model(learning_rate=0.001, n_hidden=3, n_neurons=30, input_shape= X_train.shape[1:], initializer=initializers.GlorotNormal(), hidden_activation_func='relu'):\n",
        "    model = tf.keras.models.Sequential()\n",
        "    model.add(tf.keras.layers.InputLayer(input_shape=input_shape))\n",
        "    for layer in range(n_hidden):\n",
        "        model.add(tf.keras.layers.Dense(n_neurons, activation=\"relu\", kernel_initializer=initializer))\n",
        "    model.add(tf.keras.layers.Dense(1, activation='sigmoid'))\n",
        "    optimizer = tf.keras.optimizers.Adam()\n",
        "    model.compile(loss=\"binary_crossentropy\", optimizer=optimizer, metrics=[\"accuracy\"])\n",
        "    return model"
      ],
      "metadata": {
        "id": "56wOHg0IxUPm"
      },
      "execution_count": 75,
      "outputs": []
    },
    {
      "cell_type": "code",
      "source": [
        "model_cv = keras.wrappers.scikit_learn.KerasClassifier(build_model)"
      ],
      "metadata": {
        "colab": {
          "base_uri": "https://localhost:8080/"
        },
        "id": "ffneG5LkGlxY",
        "outputId": "8bacc0ea-df83-4442-c602-cfce811d1008"
      },
      "execution_count": 76,
      "outputs": [
        {
          "output_type": "stream",
          "name": "stderr",
          "text": [
            "/usr/local/lib/python3.7/dist-packages/ipykernel_launcher.py:1: DeprecationWarning: KerasClassifier is deprecated, use Sci-Keras (https://github.com/adriangb/scikeras) instead. See https://www.adriangb.com/scikeras/stable/migration.html for help migrating.\n",
            "  \"\"\"Entry point for launching an IPython kernel.\n"
          ]
        }
      ]
    },
    {
      "cell_type": "code",
      "source": [
        "from tensorflow.keras.optimizers import Adam"
      ],
      "metadata": {
        "id": "LaFFV3Ytf3vp"
      },
      "execution_count": 77,
      "outputs": []
    },
    {
      "cell_type": "code",
      "source": [
        "# training sequential model\n",
        "model_cv.fit(X_res, y_res, epochs=100,\n",
        "             validation_data=(X_val_trf, y_val),\n",
        "             callbacks=[keras.callbacks.EarlyStopping(patience=10)])"
      ],
      "metadata": {
        "id": "MXAzQqheJKmM",
        "colab": {
          "base_uri": "https://localhost:8080/"
        },
        "outputId": "cb160c7f-8e7a-4f42-d19e-4eab88d8d976"
      },
      "execution_count": 78,
      "outputs": [
        {
          "output_type": "stream",
          "name": "stdout",
          "text": [
            "Epoch 1/100\n",
            "158/158 [==============================] - 1s 5ms/step - loss: 0.5569 - accuracy: 0.7264 - val_loss: 0.5065 - val_accuracy: 0.7488\n",
            "Epoch 2/100\n",
            "158/158 [==============================] - 1s 3ms/step - loss: 0.4843 - accuracy: 0.7651 - val_loss: 0.5461 - val_accuracy: 0.7238\n",
            "Epoch 3/100\n",
            "158/158 [==============================] - 1s 3ms/step - loss: 0.4707 - accuracy: 0.7683 - val_loss: 0.5041 - val_accuracy: 0.7393\n",
            "Epoch 4/100\n",
            "158/158 [==============================] - 1s 4ms/step - loss: 0.4620 - accuracy: 0.7796 - val_loss: 0.5069 - val_accuracy: 0.7380\n",
            "Epoch 5/100\n",
            "158/158 [==============================] - 1s 3ms/step - loss: 0.4559 - accuracy: 0.7853 - val_loss: 0.4861 - val_accuracy: 0.7529\n",
            "Epoch 6/100\n",
            "158/158 [==============================] - 1s 4ms/step - loss: 0.4493 - accuracy: 0.7841 - val_loss: 0.4744 - val_accuracy: 0.7617\n",
            "Epoch 7/100\n",
            "158/158 [==============================] - 1s 3ms/step - loss: 0.4411 - accuracy: 0.7903 - val_loss: 0.5315 - val_accuracy: 0.7156\n",
            "Epoch 8/100\n",
            "158/158 [==============================] - 1s 4ms/step - loss: 0.4393 - accuracy: 0.7976 - val_loss: 0.5085 - val_accuracy: 0.7380\n",
            "Epoch 9/100\n",
            "158/158 [==============================] - 1s 3ms/step - loss: 0.4296 - accuracy: 0.8002 - val_loss: 0.5147 - val_accuracy: 0.7346\n",
            "Epoch 10/100\n",
            "158/158 [==============================] - 1s 3ms/step - loss: 0.4247 - accuracy: 0.8042 - val_loss: 0.4625 - val_accuracy: 0.7745\n",
            "Epoch 11/100\n",
            "158/158 [==============================] - 1s 4ms/step - loss: 0.4193 - accuracy: 0.8107 - val_loss: 0.4877 - val_accuracy: 0.7481\n",
            "Epoch 12/100\n",
            "158/158 [==============================] - 1s 3ms/step - loss: 0.4148 - accuracy: 0.8107 - val_loss: 0.4806 - val_accuracy: 0.7603\n",
            "Epoch 13/100\n",
            "158/158 [==============================] - 1s 4ms/step - loss: 0.4063 - accuracy: 0.8173 - val_loss: 0.4845 - val_accuracy: 0.7549\n",
            "Epoch 14/100\n",
            "158/158 [==============================] - 1s 4ms/step - loss: 0.4018 - accuracy: 0.8206 - val_loss: 0.4824 - val_accuracy: 0.7698\n",
            "Epoch 15/100\n",
            "158/158 [==============================] - 1s 4ms/step - loss: 0.3977 - accuracy: 0.8198 - val_loss: 0.4914 - val_accuracy: 0.7502\n",
            "Epoch 16/100\n",
            "158/158 [==============================] - 1s 3ms/step - loss: 0.3923 - accuracy: 0.8226 - val_loss: 0.4996 - val_accuracy: 0.7610\n",
            "Epoch 17/100\n",
            "158/158 [==============================] - 1s 3ms/step - loss: 0.3901 - accuracy: 0.8232 - val_loss: 0.4926 - val_accuracy: 0.7657\n",
            "Epoch 18/100\n",
            "158/158 [==============================] - 1s 3ms/step - loss: 0.3844 - accuracy: 0.8308 - val_loss: 0.4972 - val_accuracy: 0.7583\n",
            "Epoch 19/100\n",
            "158/158 [==============================] - 1s 3ms/step - loss: 0.3787 - accuracy: 0.8337 - val_loss: 0.5661 - val_accuracy: 0.7170\n",
            "Epoch 20/100\n",
            "158/158 [==============================] - 1s 4ms/step - loss: 0.3751 - accuracy: 0.8329 - val_loss: 0.5519 - val_accuracy: 0.7360\n"
          ]
        },
        {
          "output_type": "execute_result",
          "data": {
            "text/plain": [
              "<keras.callbacks.History at 0x7f1ddbc75750>"
            ]
          },
          "metadata": {},
          "execution_count": 78
        }
      ]
    },
    {
      "cell_type": "code",
      "source": [
        "from tensorflow.keras import initializers"
      ],
      "metadata": {
        "id": "5RdDOD3MoPDO"
      },
      "execution_count": 79,
      "outputs": []
    },
    {
      "cell_type": "code",
      "source": [
        "#make Parameters\n",
        "import warnings \n",
        "warnings.filterwarnings('ignore')\n",
        "\n",
        "params = {\n",
        "    \"n_hidden\": [3, 4],\n",
        "    \"n_neurons\": [20,30],\n",
        "    'initializer':[initializers.GlorotNormal(), initializers.RandomNormal()],\n",
        "    'learning_rate':[0.00001, 0.1]\n",
        "}\n",
        "\n",
        "#define gridsearch\n",
        "grid_cv = GridSearchCV(model_cv, params, cv=5, verbose=2, n_jobs=-1)\n",
        "grid_cv.fit(X_res, y_res, epochs=100,\n",
        "            validation_data = (X_val_trf, y_val),\n",
        "            callbacks=[keras.callbacks.EarlyStopping(patience=10)])"
      ],
      "metadata": {
        "colab": {
          "base_uri": "https://localhost:8080/"
        },
        "id": "A3CrFZwfdrBR",
        "outputId": "61b47cc7-b2f6-490a-c526-873d1f0ccf22"
      },
      "execution_count": 80,
      "outputs": [
        {
          "output_type": "stream",
          "name": "stdout",
          "text": [
            "Fitting 5 folds for each of 16 candidates, totalling 80 fits\n",
            "Epoch 1/100\n",
            "158/158 [==============================] - 1s 4ms/step - loss: 0.5553 - accuracy: 0.7161 - val_loss: 0.5071 - val_accuracy: 0.7278\n",
            "Epoch 2/100\n",
            "158/158 [==============================] - 1s 4ms/step - loss: 0.4803 - accuracy: 0.7706 - val_loss: 0.5402 - val_accuracy: 0.7163\n",
            "Epoch 3/100\n",
            "158/158 [==============================] - 1s 3ms/step - loss: 0.4640 - accuracy: 0.7776 - val_loss: 0.5098 - val_accuracy: 0.7319\n",
            "Epoch 4/100\n",
            "158/158 [==============================] - 1s 3ms/step - loss: 0.4546 - accuracy: 0.7851 - val_loss: 0.5190 - val_accuracy: 0.7136\n",
            "Epoch 5/100\n",
            "158/158 [==============================] - 1s 3ms/step - loss: 0.4466 - accuracy: 0.7865 - val_loss: 0.4836 - val_accuracy: 0.7529\n",
            "Epoch 6/100\n",
            "158/158 [==============================] - 1s 3ms/step - loss: 0.4412 - accuracy: 0.7942 - val_loss: 0.4773 - val_accuracy: 0.7536\n",
            "Epoch 7/100\n",
            "158/158 [==============================] - 1s 3ms/step - loss: 0.4326 - accuracy: 0.7964 - val_loss: 0.5235 - val_accuracy: 0.7292\n",
            "Epoch 8/100\n",
            "158/158 [==============================] - 1s 4ms/step - loss: 0.4293 - accuracy: 0.8034 - val_loss: 0.5232 - val_accuracy: 0.7251\n",
            "Epoch 9/100\n",
            "158/158 [==============================] - 1s 4ms/step - loss: 0.4212 - accuracy: 0.8060 - val_loss: 0.5094 - val_accuracy: 0.7387\n",
            "Epoch 10/100\n",
            "158/158 [==============================] - 1s 3ms/step - loss: 0.4157 - accuracy: 0.8085 - val_loss: 0.4735 - val_accuracy: 0.7569\n",
            "Epoch 11/100\n",
            "158/158 [==============================] - 1s 4ms/step - loss: 0.4114 - accuracy: 0.8121 - val_loss: 0.5054 - val_accuracy: 0.7434\n",
            "Epoch 12/100\n",
            "158/158 [==============================] - 1s 4ms/step - loss: 0.4065 - accuracy: 0.8129 - val_loss: 0.4935 - val_accuracy: 0.7495\n",
            "Epoch 13/100\n",
            "158/158 [==============================] - 1s 3ms/step - loss: 0.3980 - accuracy: 0.8242 - val_loss: 0.4982 - val_accuracy: 0.7536\n",
            "Epoch 14/100\n",
            "158/158 [==============================] - 1s 3ms/step - loss: 0.3929 - accuracy: 0.8306 - val_loss: 0.4929 - val_accuracy: 0.7630\n",
            "Epoch 15/100\n",
            "158/158 [==============================] - 1s 4ms/step - loss: 0.3877 - accuracy: 0.8321 - val_loss: 0.4973 - val_accuracy: 0.7549\n",
            "Epoch 16/100\n",
            "158/158 [==============================] - 1s 4ms/step - loss: 0.3833 - accuracy: 0.8296 - val_loss: 0.5083 - val_accuracy: 0.7590\n",
            "Epoch 17/100\n",
            "158/158 [==============================] - 1s 3ms/step - loss: 0.3810 - accuracy: 0.8327 - val_loss: 0.5042 - val_accuracy: 0.7590\n",
            "Epoch 18/100\n",
            "158/158 [==============================] - 1s 4ms/step - loss: 0.3758 - accuracy: 0.8349 - val_loss: 0.5108 - val_accuracy: 0.7542\n",
            "Epoch 19/100\n",
            "158/158 [==============================] - 1s 4ms/step - loss: 0.3681 - accuracy: 0.8377 - val_loss: 0.5440 - val_accuracy: 0.7339\n",
            "Epoch 20/100\n",
            "158/158 [==============================] - 1s 4ms/step - loss: 0.3639 - accuracy: 0.8421 - val_loss: 0.5557 - val_accuracy: 0.7305\n"
          ]
        },
        {
          "output_type": "execute_result",
          "data": {
            "text/plain": [
              "GridSearchCV(cv=5,\n",
              "             estimator=<keras.wrappers.scikit_learn.KerasClassifier object at 0x7f1dde82c590>,\n",
              "             n_jobs=-1,\n",
              "             param_grid={'initializer': [<keras.initializers.initializers_v2.GlorotNormal object at 0x7f1de0ba6cd0>,\n",
              "                                         <keras.initializers.initializers_v2.RandomNormal object at 0x7f1de0ba6d50>],\n",
              "                         'learning_rate': [1e-05, 0.1], 'n_hidden': [3, 4],\n",
              "                         'n_neurons': [20, 30]},\n",
              "             verbose=2)"
            ]
          },
          "metadata": {},
          "execution_count": 80
        }
      ]
    },
    {
      "cell_type": "code",
      "source": [
        "#check best params and score\n",
        "print('Grid Search Best score : ', grid_cv.best_score_)\n",
        "print('Grid Search Best Parameters : ', grid_cv.best_params_)"
      ],
      "metadata": {
        "id": "Orqh3AWEh-ws",
        "colab": {
          "base_uri": "https://localhost:8080/"
        },
        "outputId": "57293c9d-89e2-4b7a-d91f-bda2f3458b45"
      },
      "execution_count": 81,
      "outputs": [
        {
          "output_type": "stream",
          "name": "stdout",
          "text": [
            "Grid Search Best score :  0.7690476179122925\n",
            "Grid Search Best Parameters :  {'initializer': <keras.initializers.initializers_v2.GlorotNormal object at 0x7f1de0ba6cd0>, 'learning_rate': 1e-05, 'n_hidden': 3, 'n_neurons': 30}\n"
          ]
        }
      ]
    },
    {
      "cell_type": "code",
      "source": [
        "grid_cv.score(X_test_trf, y_test)"
      ],
      "metadata": {
        "id": "zE4GruZxiBBu",
        "colab": {
          "base_uri": "https://localhost:8080/"
        },
        "outputId": "b27b0eea-ca44-4fc4-f7cc-8fa36a442c54"
      },
      "execution_count": 82,
      "outputs": [
        {
          "output_type": "stream",
          "name": "stdout",
          "text": [
            "66/66 [==============================] - 0s 3ms/step - loss: 0.5404 - accuracy: 0.7403\n"
          ]
        },
        {
          "output_type": "execute_result",
          "data": {
            "text/plain": [
              "0.7402843832969666"
            ]
          },
          "metadata": {},
          "execution_count": 82
        }
      ]
    },
    {
      "cell_type": "code",
      "source": [
        "grid_cv.best_estimator_"
      ],
      "metadata": {
        "id": "2AlrbZV_iFgI",
        "colab": {
          "base_uri": "https://localhost:8080/"
        },
        "outputId": "71f5b544-9846-447f-ef76-3dd3dad60c90"
      },
      "execution_count": 83,
      "outputs": [
        {
          "output_type": "execute_result",
          "data": {
            "text/plain": [
              "<keras.wrappers.scikit_learn.KerasClassifier at 0x7f1de0bacd10>"
            ]
          },
          "metadata": {},
          "execution_count": 83
        }
      ]
    },
    {
      "cell_type": "code",
      "source": [
        "#evaluate model\n",
        "model_gridCV = grid_cv.best_estimator_.model\n",
        "\n",
        "model_gridCV.evaluate(X_test_trf, y_test)"
      ],
      "metadata": {
        "id": "G2N8hTewiG24",
        "colab": {
          "base_uri": "https://localhost:8080/"
        },
        "outputId": "bc985035-8f0a-42d3-c790-0aa9644794b8"
      },
      "execution_count": 84,
      "outputs": [
        {
          "output_type": "stream",
          "name": "stdout",
          "text": [
            "66/66 [==============================] - 0s 2ms/step - loss: 0.5404 - accuracy: 0.7403\n"
          ]
        },
        {
          "output_type": "execute_result",
          "data": {
            "text/plain": [
              "[0.5404099822044373, 0.7402843832969666]"
            ]
          },
          "metadata": {},
          "execution_count": 84
        }
      ]
    },
    {
      "cell_type": "code",
      "source": [
        "final_model = build_model(n_neurons=30, n_hidden=3, learning_rate=0.00001, initializer=initializers.RandomNormal())\n",
        "final_model.summary()\n"
      ],
      "metadata": {
        "colab": {
          "base_uri": "https://localhost:8080/"
        },
        "id": "lxDoN1jRfAA6",
        "outputId": "3fa79041-079f-40dd-d133-ebbd71cd0d6f"
      },
      "execution_count": 85,
      "outputs": [
        {
          "output_type": "stream",
          "name": "stdout",
          "text": [
            "Model: \"sequential_2\"\n",
            "_________________________________________________________________\n",
            " Layer (type)                Output Shape              Param #   \n",
            "=================================================================\n",
            " dense_8 (Dense)             (None, 30)                810       \n",
            "                                                                 \n",
            " dense_9 (Dense)             (None, 30)                930       \n",
            "                                                                 \n",
            " dense_10 (Dense)            (None, 30)                930       \n",
            "                                                                 \n",
            " dense_11 (Dense)            (None, 1)                 31        \n",
            "                                                                 \n",
            "=================================================================\n",
            "Total params: 2,701\n",
            "Trainable params: 2,701\n",
            "Non-trainable params: 0\n",
            "_________________________________________________________________\n"
          ]
        }
      ]
    },
    {
      "cell_type": "code",
      "source": [
        "from keras.callbacks import ModelCheckpoint, EarlyStopping"
      ],
      "metadata": {
        "id": "rnknL7FIkUZn"
      },
      "execution_count": 86,
      "outputs": []
    },
    {
      "cell_type": "code",
      "source": [
        "final_model_sq = ModelCheckpoint(\"model/final_model.h5\", save_best_only=True)"
      ],
      "metadata": {
        "id": "5ihd0LOskLIc"
      },
      "execution_count": 87,
      "outputs": []
    },
    {
      "cell_type": "code",
      "source": [
        "#train final sequential model\n",
        "final_model_history = final_model.fit(\n",
        "    X_res, y_res, epochs=100,\n",
        "    validation_data=(X_val_trf, y_val),\n",
        "    callbacks=[final_model_sq, EarlyStopping(patience=20)]\n",
        ").history"
      ],
      "metadata": {
        "colab": {
          "base_uri": "https://localhost:8080/"
        },
        "id": "PJ8hBK4ikbpz",
        "outputId": "6299c006-115b-4a18-f93b-fd19f1d2151e"
      },
      "execution_count": 88,
      "outputs": [
        {
          "output_type": "stream",
          "name": "stdout",
          "text": [
            "Epoch 1/100\n",
            "158/158 [==============================] - 1s 4ms/step - loss: 0.5562 - accuracy: 0.7454 - val_loss: 0.5302 - val_accuracy: 0.7285\n",
            "Epoch 2/100\n",
            "158/158 [==============================] - 1s 3ms/step - loss: 0.4895 - accuracy: 0.7685 - val_loss: 0.5671 - val_accuracy: 0.7007\n",
            "Epoch 3/100\n",
            "158/158 [==============================] - 1s 4ms/step - loss: 0.4790 - accuracy: 0.7669 - val_loss: 0.5267 - val_accuracy: 0.7197\n",
            "Epoch 4/100\n",
            "158/158 [==============================] - 1s 4ms/step - loss: 0.4739 - accuracy: 0.7708 - val_loss: 0.5179 - val_accuracy: 0.7204\n",
            "Epoch 5/100\n",
            "158/158 [==============================] - 1s 4ms/step - loss: 0.4693 - accuracy: 0.7714 - val_loss: 0.4761 - val_accuracy: 0.7576\n",
            "Epoch 6/100\n",
            "158/158 [==============================] - 1s 3ms/step - loss: 0.4657 - accuracy: 0.7710 - val_loss: 0.4763 - val_accuracy: 0.7583\n",
            "Epoch 7/100\n",
            "158/158 [==============================] - 1s 3ms/step - loss: 0.4609 - accuracy: 0.7760 - val_loss: 0.5489 - val_accuracy: 0.7048\n",
            "Epoch 8/100\n",
            "158/158 [==============================] - 1s 3ms/step - loss: 0.4626 - accuracy: 0.7778 - val_loss: 0.5168 - val_accuracy: 0.7312\n",
            "Epoch 9/100\n",
            "158/158 [==============================] - 1s 3ms/step - loss: 0.4545 - accuracy: 0.7792 - val_loss: 0.4974 - val_accuracy: 0.7488\n",
            "Epoch 10/100\n",
            "158/158 [==============================] - 1s 4ms/step - loss: 0.4512 - accuracy: 0.7837 - val_loss: 0.4380 - val_accuracy: 0.7813\n",
            "Epoch 11/100\n",
            "158/158 [==============================] - 1s 3ms/step - loss: 0.4487 - accuracy: 0.7871 - val_loss: 0.4647 - val_accuracy: 0.7651\n",
            "Epoch 12/100\n",
            "158/158 [==============================] - 1s 4ms/step - loss: 0.4451 - accuracy: 0.7875 - val_loss: 0.4749 - val_accuracy: 0.7630\n",
            "Epoch 13/100\n",
            "158/158 [==============================] - 1s 4ms/step - loss: 0.4392 - accuracy: 0.7942 - val_loss: 0.4612 - val_accuracy: 0.7664\n",
            "Epoch 14/100\n",
            "158/158 [==============================] - 1s 3ms/step - loss: 0.4355 - accuracy: 0.7935 - val_loss: 0.4616 - val_accuracy: 0.7610\n",
            "Epoch 15/100\n",
            "158/158 [==============================] - 1s 3ms/step - loss: 0.4318 - accuracy: 0.8002 - val_loss: 0.4576 - val_accuracy: 0.7657\n",
            "Epoch 16/100\n",
            "158/158 [==============================] - 1s 3ms/step - loss: 0.4291 - accuracy: 0.8020 - val_loss: 0.4748 - val_accuracy: 0.7610\n",
            "Epoch 17/100\n",
            "158/158 [==============================] - 1s 4ms/step - loss: 0.4266 - accuracy: 0.8018 - val_loss: 0.4747 - val_accuracy: 0.7630\n",
            "Epoch 18/100\n",
            "158/158 [==============================] - 1s 3ms/step - loss: 0.4230 - accuracy: 0.8085 - val_loss: 0.4725 - val_accuracy: 0.7624\n",
            "Epoch 19/100\n",
            "158/158 [==============================] - 1s 4ms/step - loss: 0.4190 - accuracy: 0.8109 - val_loss: 0.5208 - val_accuracy: 0.7380\n",
            "Epoch 20/100\n",
            "158/158 [==============================] - 1s 3ms/step - loss: 0.4136 - accuracy: 0.8129 - val_loss: 0.5427 - val_accuracy: 0.7326\n",
            "Epoch 21/100\n",
            "158/158 [==============================] - 1s 4ms/step - loss: 0.4093 - accuracy: 0.8163 - val_loss: 0.5104 - val_accuracy: 0.7488\n",
            "Epoch 22/100\n",
            "158/158 [==============================] - 1s 3ms/step - loss: 0.4069 - accuracy: 0.8145 - val_loss: 0.5324 - val_accuracy: 0.7353\n",
            "Epoch 23/100\n",
            "158/158 [==============================] - 1s 4ms/step - loss: 0.3992 - accuracy: 0.8228 - val_loss: 0.5197 - val_accuracy: 0.7515\n",
            "Epoch 24/100\n",
            "158/158 [==============================] - 1s 3ms/step - loss: 0.3974 - accuracy: 0.8210 - val_loss: 0.5050 - val_accuracy: 0.7556\n",
            "Epoch 25/100\n",
            "158/158 [==============================] - 1s 3ms/step - loss: 0.3955 - accuracy: 0.8183 - val_loss: 0.6079 - val_accuracy: 0.7136\n",
            "Epoch 26/100\n",
            "158/158 [==============================] - 1s 3ms/step - loss: 0.3906 - accuracy: 0.8248 - val_loss: 0.5031 - val_accuracy: 0.7522\n",
            "Epoch 27/100\n",
            "158/158 [==============================] - 1s 3ms/step - loss: 0.3871 - accuracy: 0.8268 - val_loss: 0.5165 - val_accuracy: 0.7515\n",
            "Epoch 28/100\n",
            "158/158 [==============================] - 1s 4ms/step - loss: 0.3851 - accuracy: 0.8264 - val_loss: 0.5293 - val_accuracy: 0.7427\n",
            "Epoch 29/100\n",
            "158/158 [==============================] - 1s 3ms/step - loss: 0.3824 - accuracy: 0.8278 - val_loss: 0.5349 - val_accuracy: 0.7366\n",
            "Epoch 30/100\n",
            "158/158 [==============================] - 1s 4ms/step - loss: 0.3755 - accuracy: 0.8323 - val_loss: 0.5303 - val_accuracy: 0.7448\n"
          ]
        }
      ]
    },
    {
      "cell_type": "code",
      "source": [
        "#save history into dataframe\n",
        "final_model_history_df = pd.DataFrame(final_model_history)"
      ],
      "metadata": {
        "id": "fqHJcdVOk_E7"
      },
      "execution_count": 89,
      "outputs": []
    },
    {
      "cell_type": "code",
      "source": [
        "#show loss\n",
        "final_model_history_df[['loss', 'val_loss']].plot();"
      ],
      "metadata": {
        "colab": {
          "base_uri": "https://localhost:8080/",
          "height": 265
        },
        "id": "m39d4gmNlQWf",
        "outputId": "4d97d6fa-deb1-4848-896f-4aad9a7cb3c3"
      },
      "execution_count": 90,
      "outputs": [
        {
          "output_type": "display_data",
          "data": {
            "text/plain": [
              "<Figure size 432x288 with 1 Axes>"
            ],
            "image/png": "[encoded data removed]"
          },
          "metadata": {
            "needs_background": "light"
          }
        }
      ]
    },
    {
      "cell_type": "code",
      "source": [
        "#show accuracy\n",
        "final_model_history_df[[\"accuracy\", \"val_accuracy\"]].plot();"
      ],
      "metadata": {
        "colab": {
          "base_uri": "https://localhost:8080/",
          "height": 265
        },
        "id": "1l3a8llQmyoO",
        "outputId": "dff717f2-69d9-4100-d0ce-34c77d13828b"
      },
      "execution_count": 91,
      "outputs": [
        {
          "output_type": "display_data",
          "data": {
            "text/plain": [
              "<Figure size 432x288 with 1 Axes>"
            ],
            "image/png": "[encoded data removed]"
          },
          "metadata": {
            "needs_background": "light"
          }
        }
      ]
    },
    {
      "cell_type": "markdown",
      "source": [
        "### Model Evaluation"
      ],
      "metadata": {
        "id": "_QmmrPPRNVOQ"
      }
    },
    {
      "cell_type": "code",
      "source": [
        "\n",
        "pred_grid = model_gridCV.predict(X_test_trf)\n",
        "print('Predict result : \\n', pred_grid[:5])\n",
        "print('\\n')\n",
        "print('y_test : \\n', y_test[:5])\n",
        "\n",
        "predict_grid = []\n",
        "for element in pred_grid:\n",
        "    if element > 0.5:\n",
        "        predict_grid.append(1)\n",
        "    else:\n",
        "        predict_grid.append(0)\n",
        "\n",
        "print('\\n',predict_grid[:5])"
      ],
      "metadata": {
        "colab": {
          "base_uri": "https://localhost:8080/"
        },
        "id": "W7HGVSbqNdeA",
        "outputId": "386ca371-f2ea-4c74-e120-f06b929fa6ed"
      },
      "execution_count": 92,
      "outputs": [
        {
          "output_type": "stream",
          "name": "stdout",
          "text": [
            "Predict result : \n",
            " [[0.03618654]\n",
            " [0.22662579]\n",
            " [0.00741245]\n",
            " [0.01230626]\n",
            " [0.60799974]]\n",
            "\n",
            "\n",
            "y_test : \n",
            " 6359    0\n",
            "5926    0\n",
            "4743    0\n",
            "4496    0\n",
            "4569    1\n",
            "Name: Churn, dtype: int64\n",
            "\n",
            " [0, 0, 0, 0, 1]\n"
          ]
        }
      ]
    },
    {
      "cell_type": "code",
      "source": [
        "print(f\"CLASSIFICATION REPORT:\\n{classification_report(y_test, predict_grid)}\")"
      ],
      "metadata": {
        "colab": {
          "base_uri": "https://localhost:8080/"
        },
        "id": "CD7mbExsNz-5",
        "outputId": "8be09131-df15-46e9-b683-1dd60b7edb95"
      },
      "execution_count": 93,
      "outputs": [
        {
          "output_type": "stream",
          "name": "stdout",
          "text": [
            "CLASSIFICATION REPORT:\n",
            "              precision    recall  f1-score   support\n",
            "\n",
            "           0       0.89      0.74      0.81      1549\n",
            "           1       0.51      0.75      0.61       561\n",
            "\n",
            "    accuracy                           0.74      2110\n",
            "   macro avg       0.70      0.74      0.71      2110\n",
            "weighted avg       0.79      0.74      0.75      2110\n",
            "\n"
          ]
        }
      ]
    },
    {
      "cell_type": "code",
      "source": [
        "#confusion matrix\n",
        "import seaborn as sn\n",
        "cm = tf.math.confusion_matrix(labels=y_test,predictions=pred_grid)\n",
        "\n",
        "plt.figure(figsize = (10,7))\n",
        "sn.heatmap(cm, annot=True, fmt='d')\n",
        "plt.xlabel('Predicted')\n",
        "plt.ylabel('Truth')"
      ],
      "metadata": {
        "colab": {
          "base_uri": "https://localhost:8080/",
          "height": 459
        },
        "id": "JSCT1sb0N-qU",
        "outputId": "d6a901f3-e4df-4109-f48d-ddb7e44e1672"
      },
      "execution_count": 94,
      "outputs": [
        {
          "output_type": "execute_result",
          "data": {
            "text/plain": [
              "Text(69.0, 0.5, 'Truth')"
            ]
          },
          "metadata": {},
          "execution_count": 94
        },
        {
          "output_type": "display_data",
          "data": {
            "text/plain": [
              "<Figure size 720x504 with 2 Axes>"
            ],
            "image/png": "[encoded data removed]"
          },
          "metadata": {
            "needs_background": "light"
          }
        }
      ]
    },
    {
      "cell_type": "markdown",
      "source": [
        "after hyperparameter tuning, i still get overfit result with actual loss decreasing but validation loss is not decreasing "
      ],
      "metadata": {
        "id": "-TT0loqNH0VS"
      }
    },
    {
      "cell_type": "markdown",
      "source": [
        "# Functional API"
      ],
      "metadata": {
        "id": "aAhGRAGSAHIX"
      }
    },
    {
      "cell_type": "code",
      "source": [
        "\n",
        "from tensorflow.keras.models import Model \n",
        "from tensorflow.keras.layers import Dense, Input \n",
        "\n",
        "# layers\n",
        "data_in = Input(shape=X_res.shape[1:])\n",
        "hidden1 = Dense(26,activation='relu')(data_in)\n",
        "hidden2 = Dense(26, activation='relu')(hidden1)\n",
        "concat = keras.layers.concatenate([data_in, hidden2])\n",
        "output = keras.layers.Dense(1, activation=\"sigmoid\")(concat)\n",
        "\n",
        "#define model\n",
        "model_func = Model(inputs=data_in, outputs=[output])"
      ],
      "metadata": {
        "id": "_v0DEYtAnZ9l"
      },
      "execution_count": 95,
      "outputs": []
    },
    {
      "cell_type": "code",
      "source": [
        "#model summary\n",
        "model_func.summary()"
      ],
      "metadata": {
        "colab": {
          "base_uri": "https://localhost:8080/"
        },
        "id": "xe0Wah9JpJPO",
        "outputId": "963fcec3-5f92-44b2-a587-b5077514846f"
      },
      "execution_count": 96,
      "outputs": [
        {
          "output_type": "stream",
          "name": "stdout",
          "text": [
            "Model: \"model\"\n",
            "__________________________________________________________________________________________________\n",
            " Layer (type)                   Output Shape         Param #     Connected to                     \n",
            "==================================================================================================\n",
            " input_4 (InputLayer)           [(None, 26)]         0           []                               \n",
            "                                                                                                  \n",
            " dense_12 (Dense)               (None, 26)           702         ['input_4[0][0]']                \n",
            "                                                                                                  \n",
            " dense_13 (Dense)               (None, 26)           702         ['dense_12[0][0]']               \n",
            "                                                                                                  \n",
            " concatenate (Concatenate)      (None, 52)           0           ['input_4[0][0]',                \n",
            "                                                                  'dense_13[0][0]']               \n",
            "                                                                                                  \n",
            " dense_14 (Dense)               (None, 1)            53          ['concatenate[0][0]']            \n",
            "                                                                                                  \n",
            "==================================================================================================\n",
            "Total params: 1,457\n",
            "Trainable params: 1,457\n",
            "Non-trainable params: 0\n",
            "__________________________________________________________________________________________________\n"
          ]
        }
      ]
    },
    {
      "cell_type": "code",
      "source": [
        "from keras.utils.vis_utils import plot_model"
      ],
      "metadata": {
        "id": "Si2BCqEFpCVX"
      },
      "execution_count": 97,
      "outputs": []
    },
    {
      "cell_type": "code",
      "source": [
        "#see model archithecture\n",
        "plot_model(model_func, \"ANN_Functional_model.png\", show_shapes=True)"
      ],
      "metadata": {
        "id": "xsM2lbRhAInN",
        "colab": {
          "base_uri": "https://localhost:8080/",
          "height": 533
        },
        "outputId": "8ac09be3-3762-4d87-92b7-ddcc5be8a20b"
      },
      "execution_count": 98,
      "outputs": [
        {
          "output_type": "execute_result",
          "data": {
            "text/plain": [
              "<IPython.core.display.Image object>"
            ],
            "image/png": "[encoded data removed]"
          },
          "metadata": {},
          "execution_count": 98
        }
      ]
    },
    {
      "cell_type": "code",
      "source": [
        "#compile model\n",
        "model_func.compile(loss=\"binary_crossentropy\",\n",
        "             optimizer=\"adam\",\n",
        "             metrics=[\"accuracy\"])"
      ],
      "metadata": {
        "id": "oJsDGslDqSRd"
      },
      "execution_count": 99,
      "outputs": []
    },
    {
      "cell_type": "code",
      "source": [
        "#train model\n",
        "%time history = model_func.fit(X_res, y_res, epochs=100, validation_data=(X_val_trf, y_val))"
      ],
      "metadata": {
        "colab": {
          "base_uri": "https://localhost:8080/"
        },
        "id": "9uUgPSZLqVui",
        "outputId": "2e8eead3-3264-4764-94b3-e9de45b89bf8"
      },
      "execution_count": 100,
      "outputs": [
        {
          "output_type": "stream",
          "name": "stdout",
          "text": [
            "Epoch 1/100\n",
            "158/158 [==============================] - 1s 4ms/step - loss: 0.5756 - accuracy: 0.6901 - val_loss: 0.4928 - val_accuracy: 0.7522\n",
            "Epoch 2/100\n",
            "158/158 [==============================] - 1s 3ms/step - loss: 0.4873 - accuracy: 0.7665 - val_loss: 0.5429 - val_accuracy: 0.7129\n",
            "Epoch 3/100\n",
            "158/158 [==============================] - 1s 4ms/step - loss: 0.4764 - accuracy: 0.7718 - val_loss: 0.5314 - val_accuracy: 0.7211\n",
            "Epoch 4/100\n",
            "158/158 [==============================] - 1s 4ms/step - loss: 0.4700 - accuracy: 0.7732 - val_loss: 0.5132 - val_accuracy: 0.7319\n",
            "Epoch 5/100\n",
            "158/158 [==============================] - 1s 4ms/step - loss: 0.4650 - accuracy: 0.7742 - val_loss: 0.4790 - val_accuracy: 0.7427\n",
            "Epoch 6/100\n",
            "158/158 [==============================] - 1s 3ms/step - loss: 0.4608 - accuracy: 0.7778 - val_loss: 0.4751 - val_accuracy: 0.7481\n",
            "Epoch 7/100\n",
            "158/158 [==============================] - 1s 3ms/step - loss: 0.4557 - accuracy: 0.7808 - val_loss: 0.5217 - val_accuracy: 0.7244\n",
            "Epoch 8/100\n",
            "158/158 [==============================] - 1s 4ms/step - loss: 0.4536 - accuracy: 0.7812 - val_loss: 0.4980 - val_accuracy: 0.7387\n",
            "Epoch 9/100\n",
            "158/158 [==============================] - 1s 3ms/step - loss: 0.4471 - accuracy: 0.7865 - val_loss: 0.5073 - val_accuracy: 0.7299\n",
            "Epoch 10/100\n",
            "158/158 [==============================] - 1s 4ms/step - loss: 0.4446 - accuracy: 0.7897 - val_loss: 0.4617 - val_accuracy: 0.7657\n",
            "Epoch 11/100\n",
            "158/158 [==============================] - 1s 3ms/step - loss: 0.4417 - accuracy: 0.7897 - val_loss: 0.4910 - val_accuracy: 0.7414\n",
            "Epoch 12/100\n",
            "158/158 [==============================] - 1s 3ms/step - loss: 0.4377 - accuracy: 0.7907 - val_loss: 0.4826 - val_accuracy: 0.7563\n",
            "Epoch 13/100\n",
            "158/158 [==============================] - 1s 3ms/step - loss: 0.4322 - accuracy: 0.7935 - val_loss: 0.4771 - val_accuracy: 0.7583\n",
            "Epoch 14/100\n",
            "158/158 [==============================] - 1s 3ms/step - loss: 0.4294 - accuracy: 0.7944 - val_loss: 0.4726 - val_accuracy: 0.7637\n",
            "Epoch 15/100\n",
            "158/158 [==============================] - 1s 4ms/step - loss: 0.4264 - accuracy: 0.7992 - val_loss: 0.4714 - val_accuracy: 0.7651\n",
            "Epoch 16/100\n",
            "158/158 [==============================] - 1s 3ms/step - loss: 0.4244 - accuracy: 0.8010 - val_loss: 0.4699 - val_accuracy: 0.7725\n",
            "Epoch 17/100\n",
            "158/158 [==============================] - 1s 3ms/step - loss: 0.4229 - accuracy: 0.8010 - val_loss: 0.4875 - val_accuracy: 0.7590\n",
            "Epoch 18/100\n",
            "158/158 [==============================] - 1s 3ms/step - loss: 0.4190 - accuracy: 0.8060 - val_loss: 0.4698 - val_accuracy: 0.7684\n",
            "Epoch 19/100\n",
            "158/158 [==============================] - 1s 3ms/step - loss: 0.4169 - accuracy: 0.8081 - val_loss: 0.5373 - val_accuracy: 0.7217\n",
            "Epoch 20/100\n",
            "158/158 [==============================] - 1s 3ms/step - loss: 0.4126 - accuracy: 0.8123 - val_loss: 0.5072 - val_accuracy: 0.7461\n",
            "Epoch 21/100\n",
            "158/158 [==============================] - 1s 3ms/step - loss: 0.4109 - accuracy: 0.8111 - val_loss: 0.5237 - val_accuracy: 0.7420\n",
            "Epoch 22/100\n",
            "158/158 [==============================] - 1s 3ms/step - loss: 0.4081 - accuracy: 0.8139 - val_loss: 0.5561 - val_accuracy: 0.7224\n",
            "Epoch 23/100\n",
            "158/158 [==============================] - 1s 4ms/step - loss: 0.4050 - accuracy: 0.8175 - val_loss: 0.5386 - val_accuracy: 0.7278\n",
            "Epoch 24/100\n",
            "158/158 [==============================] - 1s 3ms/step - loss: 0.4006 - accuracy: 0.8187 - val_loss: 0.4839 - val_accuracy: 0.7678\n",
            "Epoch 25/100\n",
            "158/158 [==============================] - 1s 4ms/step - loss: 0.4014 - accuracy: 0.8169 - val_loss: 0.5250 - val_accuracy: 0.7387\n",
            "Epoch 26/100\n",
            "158/158 [==============================] - 1s 4ms/step - loss: 0.4001 - accuracy: 0.8200 - val_loss: 0.4993 - val_accuracy: 0.7576\n",
            "Epoch 27/100\n",
            "158/158 [==============================] - 1s 3ms/step - loss: 0.3961 - accuracy: 0.8208 - val_loss: 0.5057 - val_accuracy: 0.7468\n",
            "Epoch 28/100\n",
            "158/158 [==============================] - 1s 3ms/step - loss: 0.3948 - accuracy: 0.8234 - val_loss: 0.4943 - val_accuracy: 0.7651\n",
            "Epoch 29/100\n",
            "158/158 [==============================] - 1s 4ms/step - loss: 0.3908 - accuracy: 0.8234 - val_loss: 0.5177 - val_accuracy: 0.7427\n",
            "Epoch 30/100\n",
            "158/158 [==============================] - 1s 4ms/step - loss: 0.3888 - accuracy: 0.8256 - val_loss: 0.5064 - val_accuracy: 0.7624\n",
            "Epoch 31/100\n",
            "158/158 [==============================] - 1s 4ms/step - loss: 0.3866 - accuracy: 0.8260 - val_loss: 0.5163 - val_accuracy: 0.7515\n",
            "Epoch 32/100\n",
            "158/158 [==============================] - 1s 4ms/step - loss: 0.3855 - accuracy: 0.8296 - val_loss: 0.5090 - val_accuracy: 0.7542\n",
            "Epoch 33/100\n",
            "158/158 [==============================] - 1s 4ms/step - loss: 0.3845 - accuracy: 0.8258 - val_loss: 0.5253 - val_accuracy: 0.7441\n",
            "Epoch 34/100\n",
            "158/158 [==============================] - 1s 4ms/step - loss: 0.3844 - accuracy: 0.8288 - val_loss: 0.5767 - val_accuracy: 0.7278\n",
            "Epoch 35/100\n",
            "158/158 [==============================] - 1s 3ms/step - loss: 0.3799 - accuracy: 0.8308 - val_loss: 0.5256 - val_accuracy: 0.7495\n",
            "Epoch 36/100\n",
            "158/158 [==============================] - 1s 3ms/step - loss: 0.3773 - accuracy: 0.8343 - val_loss: 0.5384 - val_accuracy: 0.7393\n",
            "Epoch 37/100\n",
            "158/158 [==============================] - 1s 4ms/step - loss: 0.3742 - accuracy: 0.8385 - val_loss: 0.4947 - val_accuracy: 0.7671\n",
            "Epoch 38/100\n",
            "158/158 [==============================] - 1s 3ms/step - loss: 0.3730 - accuracy: 0.8347 - val_loss: 0.5238 - val_accuracy: 0.7481\n",
            "Epoch 39/100\n",
            "158/158 [==============================] - 1s 3ms/step - loss: 0.3708 - accuracy: 0.8359 - val_loss: 0.4973 - val_accuracy: 0.7732\n",
            "Epoch 40/100\n",
            "158/158 [==============================] - 0s 3ms/step - loss: 0.3696 - accuracy: 0.8397 - val_loss: 0.5008 - val_accuracy: 0.7732\n",
            "Epoch 41/100\n",
            "158/158 [==============================] - 1s 4ms/step - loss: 0.3680 - accuracy: 0.8377 - val_loss: 0.5008 - val_accuracy: 0.7725\n",
            "Epoch 42/100\n",
            "158/158 [==============================] - 1s 3ms/step - loss: 0.3663 - accuracy: 0.8389 - val_loss: 0.5195 - val_accuracy: 0.7583\n",
            "Epoch 43/100\n",
            "158/158 [==============================] - 1s 3ms/step - loss: 0.3632 - accuracy: 0.8401 - val_loss: 0.5033 - val_accuracy: 0.7603\n",
            "Epoch 44/100\n",
            "158/158 [==============================] - 1s 3ms/step - loss: 0.3612 - accuracy: 0.8433 - val_loss: 0.5674 - val_accuracy: 0.7400\n",
            "Epoch 45/100\n",
            "158/158 [==============================] - 1s 4ms/step - loss: 0.3599 - accuracy: 0.8429 - val_loss: 0.5412 - val_accuracy: 0.7508\n",
            "Epoch 46/100\n",
            "158/158 [==============================] - 1s 4ms/step - loss: 0.3587 - accuracy: 0.8437 - val_loss: 0.5134 - val_accuracy: 0.7657\n",
            "Epoch 47/100\n",
            "158/158 [==============================] - 1s 4ms/step - loss: 0.3568 - accuracy: 0.8462 - val_loss: 0.5360 - val_accuracy: 0.7434\n",
            "Epoch 48/100\n",
            "158/158 [==============================] - 1s 4ms/step - loss: 0.3552 - accuracy: 0.8437 - val_loss: 0.5099 - val_accuracy: 0.7698\n",
            "Epoch 49/100\n",
            "158/158 [==============================] - 1s 3ms/step - loss: 0.3510 - accuracy: 0.8502 - val_loss: 0.5236 - val_accuracy: 0.7549\n",
            "Epoch 50/100\n",
            "158/158 [==============================] - 1s 4ms/step - loss: 0.3506 - accuracy: 0.8498 - val_loss: 0.5759 - val_accuracy: 0.7387\n",
            "Epoch 51/100\n",
            "158/158 [==============================] - 1s 4ms/step - loss: 0.3500 - accuracy: 0.8530 - val_loss: 0.5050 - val_accuracy: 0.7786\n",
            "Epoch 52/100\n",
            "158/158 [==============================] - 1s 3ms/step - loss: 0.3500 - accuracy: 0.8504 - val_loss: 0.5274 - val_accuracy: 0.7664\n",
            "Epoch 53/100\n",
            "158/158 [==============================] - 1s 3ms/step - loss: 0.3455 - accuracy: 0.8482 - val_loss: 0.5548 - val_accuracy: 0.7400\n",
            "Epoch 54/100\n",
            "158/158 [==============================] - 1s 3ms/step - loss: 0.3448 - accuracy: 0.8528 - val_loss: 0.5116 - val_accuracy: 0.7644\n",
            "Epoch 55/100\n",
            "158/158 [==============================] - 1s 3ms/step - loss: 0.3419 - accuracy: 0.8546 - val_loss: 0.5539 - val_accuracy: 0.7495\n",
            "Epoch 56/100\n",
            "158/158 [==============================] - 1s 4ms/step - loss: 0.3403 - accuracy: 0.8548 - val_loss: 0.5523 - val_accuracy: 0.7502\n",
            "Epoch 57/100\n",
            "158/158 [==============================] - 1s 3ms/step - loss: 0.3404 - accuracy: 0.8540 - val_loss: 0.5294 - val_accuracy: 0.7671\n",
            "Epoch 58/100\n",
            "158/158 [==============================] - 1s 3ms/step - loss: 0.3385 - accuracy: 0.8571 - val_loss: 0.5624 - val_accuracy: 0.7508\n",
            "Epoch 59/100\n",
            "158/158 [==============================] - 1s 3ms/step - loss: 0.3379 - accuracy: 0.8573 - val_loss: 0.5886 - val_accuracy: 0.7400\n",
            "Epoch 60/100\n",
            "158/158 [==============================] - 1s 4ms/step - loss: 0.3364 - accuracy: 0.8597 - val_loss: 0.5423 - val_accuracy: 0.7576\n",
            "Epoch 61/100\n",
            "158/158 [==============================] - 1s 3ms/step - loss: 0.3330 - accuracy: 0.8538 - val_loss: 0.5560 - val_accuracy: 0.7542\n",
            "Epoch 62/100\n",
            "158/158 [==============================] - 1s 3ms/step - loss: 0.3340 - accuracy: 0.8575 - val_loss: 0.5460 - val_accuracy: 0.7556\n",
            "Epoch 63/100\n",
            "158/158 [==============================] - 1s 4ms/step - loss: 0.3295 - accuracy: 0.8591 - val_loss: 0.5954 - val_accuracy: 0.7326\n",
            "Epoch 64/100\n",
            "158/158 [==============================] - 1s 3ms/step - loss: 0.3303 - accuracy: 0.8601 - val_loss: 0.5372 - val_accuracy: 0.7515\n",
            "Epoch 65/100\n",
            "158/158 [==============================] - 1s 3ms/step - loss: 0.3282 - accuracy: 0.8619 - val_loss: 0.5395 - val_accuracy: 0.7596\n",
            "Epoch 66/100\n",
            "158/158 [==============================] - 1s 3ms/step - loss: 0.3271 - accuracy: 0.8615 - val_loss: 0.5560 - val_accuracy: 0.7488\n",
            "Epoch 67/100\n",
            "158/158 [==============================] - 1s 4ms/step - loss: 0.3257 - accuracy: 0.8619 - val_loss: 0.5404 - val_accuracy: 0.7508\n",
            "Epoch 68/100\n",
            "158/158 [==============================] - 1s 3ms/step - loss: 0.3250 - accuracy: 0.8659 - val_loss: 0.5751 - val_accuracy: 0.7353\n",
            "Epoch 69/100\n",
            "158/158 [==============================] - 1s 4ms/step - loss: 0.3266 - accuracy: 0.8597 - val_loss: 0.5900 - val_accuracy: 0.7265\n",
            "Epoch 70/100\n",
            "158/158 [==============================] - 1s 3ms/step - loss: 0.3243 - accuracy: 0.8643 - val_loss: 0.5583 - val_accuracy: 0.7461\n",
            "Epoch 71/100\n",
            "158/158 [==============================] - 1s 3ms/step - loss: 0.3208 - accuracy: 0.8669 - val_loss: 0.5670 - val_accuracy: 0.7529\n",
            "Epoch 72/100\n",
            "158/158 [==============================] - 1s 3ms/step - loss: 0.3198 - accuracy: 0.8657 - val_loss: 0.5546 - val_accuracy: 0.7556\n",
            "Epoch 73/100\n",
            "158/158 [==============================] - 1s 3ms/step - loss: 0.3205 - accuracy: 0.8645 - val_loss: 0.5712 - val_accuracy: 0.7454\n",
            "Epoch 74/100\n",
            "158/158 [==============================] - 1s 3ms/step - loss: 0.3176 - accuracy: 0.8661 - val_loss: 0.5883 - val_accuracy: 0.7434\n",
            "Epoch 75/100\n",
            "158/158 [==============================] - 1s 3ms/step - loss: 0.3156 - accuracy: 0.8679 - val_loss: 0.5809 - val_accuracy: 0.7393\n",
            "Epoch 76/100\n",
            "158/158 [==============================] - 1s 3ms/step - loss: 0.3126 - accuracy: 0.8706 - val_loss: 0.5541 - val_accuracy: 0.7569\n",
            "Epoch 77/100\n",
            "158/158 [==============================] - 1s 3ms/step - loss: 0.3143 - accuracy: 0.8677 - val_loss: 0.5883 - val_accuracy: 0.7373\n",
            "Epoch 78/100\n",
            "158/158 [==============================] - 1s 4ms/step - loss: 0.3141 - accuracy: 0.8724 - val_loss: 0.5554 - val_accuracy: 0.7583\n",
            "Epoch 79/100\n",
            "158/158 [==============================] - 1s 4ms/step - loss: 0.3108 - accuracy: 0.8722 - val_loss: 0.5618 - val_accuracy: 0.7488\n",
            "Epoch 80/100\n",
            "158/158 [==============================] - 1s 3ms/step - loss: 0.3090 - accuracy: 0.8716 - val_loss: 0.5610 - val_accuracy: 0.7603\n",
            "Epoch 81/100\n",
            "158/158 [==============================] - 1s 4ms/step - loss: 0.3101 - accuracy: 0.8677 - val_loss: 0.5422 - val_accuracy: 0.7773\n",
            "Epoch 82/100\n",
            "158/158 [==============================] - 1s 4ms/step - loss: 0.3104 - accuracy: 0.8679 - val_loss: 0.5649 - val_accuracy: 0.7522\n",
            "Epoch 83/100\n",
            "158/158 [==============================] - 1s 3ms/step - loss: 0.3073 - accuracy: 0.8722 - val_loss: 0.5793 - val_accuracy: 0.7508\n",
            "Epoch 84/100\n",
            "158/158 [==============================] - 1s 3ms/step - loss: 0.3047 - accuracy: 0.8748 - val_loss: 0.5524 - val_accuracy: 0.7637\n",
            "Epoch 85/100\n",
            "158/158 [==============================] - 1s 3ms/step - loss: 0.3057 - accuracy: 0.8742 - val_loss: 0.6000 - val_accuracy: 0.7339\n",
            "Epoch 86/100\n",
            "158/158 [==============================] - 1s 3ms/step - loss: 0.3047 - accuracy: 0.8690 - val_loss: 0.5723 - val_accuracy: 0.7596\n",
            "Epoch 87/100\n",
            "158/158 [==============================] - 1s 3ms/step - loss: 0.3043 - accuracy: 0.8742 - val_loss: 0.5728 - val_accuracy: 0.7508\n",
            "Epoch 88/100\n",
            "158/158 [==============================] - 1s 4ms/step - loss: 0.3026 - accuracy: 0.8750 - val_loss: 0.5971 - val_accuracy: 0.7427\n",
            "Epoch 89/100\n",
            "158/158 [==============================] - 1s 3ms/step - loss: 0.3008 - accuracy: 0.8752 - val_loss: 0.5855 - val_accuracy: 0.7542\n",
            "Epoch 90/100\n",
            "158/158 [==============================] - 1s 3ms/step - loss: 0.3014 - accuracy: 0.8702 - val_loss: 0.5916 - val_accuracy: 0.7393\n",
            "Epoch 91/100\n",
            "158/158 [==============================] - 1s 4ms/step - loss: 0.2993 - accuracy: 0.8744 - val_loss: 0.5879 - val_accuracy: 0.7373\n",
            "Epoch 92/100\n",
            "158/158 [==============================] - 1s 4ms/step - loss: 0.2990 - accuracy: 0.8746 - val_loss: 0.6162 - val_accuracy: 0.7387\n",
            "Epoch 93/100\n",
            "158/158 [==============================] - 1s 4ms/step - loss: 0.2975 - accuracy: 0.8790 - val_loss: 0.5928 - val_accuracy: 0.7556\n",
            "Epoch 94/100\n",
            "158/158 [==============================] - 1s 3ms/step - loss: 0.2984 - accuracy: 0.8778 - val_loss: 0.6039 - val_accuracy: 0.7461\n",
            "Epoch 95/100\n",
            "158/158 [==============================] - 1s 3ms/step - loss: 0.2949 - accuracy: 0.8768 - val_loss: 0.5801 - val_accuracy: 0.7481\n",
            "Epoch 96/100\n",
            "158/158 [==============================] - 1s 4ms/step - loss: 0.2963 - accuracy: 0.8760 - val_loss: 0.5991 - val_accuracy: 0.7475\n",
            "Epoch 97/100\n",
            "158/158 [==============================] - 1s 3ms/step - loss: 0.2951 - accuracy: 0.8728 - val_loss: 0.6193 - val_accuracy: 0.7373\n",
            "Epoch 98/100\n",
            "158/158 [==============================] - 1s 4ms/step - loss: 0.2941 - accuracy: 0.8772 - val_loss: 0.5761 - val_accuracy: 0.7610\n",
            "Epoch 99/100\n",
            "158/158 [==============================] - 1s 3ms/step - loss: 0.2918 - accuracy: 0.8776 - val_loss: 0.5936 - val_accuracy: 0.7569\n",
            "Epoch 100/100\n",
            "158/158 [==============================] - 1s 4ms/step - loss: 0.2921 - accuracy: 0.8774 - val_loss: 0.5864 - val_accuracy: 0.7536\n",
            "CPU times: user 1min 1s, sys: 4.98 s, total: 1min 6s\n",
            "Wall time: 1min 22s\n"
          ]
        }
      ]
    },
    {
      "cell_type": "code",
      "source": [
        "#predict model\n",
        "y_pred2 = model_func.predict(X_test_trf)\n",
        "print('Predict result: \\n', y_pred2[:5])\n",
        "print('\\n y_test: \\n', y_test[:5])"
      ],
      "metadata": {
        "colab": {
          "base_uri": "https://localhost:8080/"
        },
        "id": "q9Az_aObqwey",
        "outputId": "0805d727-79ca-4ccc-b731-986495f0c4ff"
      },
      "execution_count": 101,
      "outputs": [
        {
          "output_type": "stream",
          "name": "stdout",
          "text": [
            "Predict result: \n",
            " [[0.02123352]\n",
            " [0.0123461 ]\n",
            " [0.0106592 ]\n",
            " [0.01238111]\n",
            " [0.07378219]]\n",
            "\n",
            " y_test: \n",
            " 6359    0\n",
            "5926    0\n",
            "4743    0\n",
            "4496    0\n",
            "4569    1\n",
            "Name: Churn, dtype: int64\n"
          ]
        }
      ]
    },
    {
      "cell_type": "code",
      "source": [
        "#show loss\n",
        "metrics = pd.DataFrame(history.history)\n",
        "metrics[['loss', 'val_loss']].plot();"
      ],
      "metadata": {
        "colab": {
          "base_uri": "https://localhost:8080/",
          "height": 265
        },
        "id": "HclsRqiNzASp",
        "outputId": "22049dac-d7f5-48aa-daba-d0548965a83a"
      },
      "execution_count": 102,
      "outputs": [
        {
          "output_type": "display_data",
          "data": {
            "text/plain": [
              "<Figure size 432x288 with 1 Axes>"
            ],
            "image/png": "[encoded data removed]"
          },
          "metadata": {
            "needs_background": "light"
          }
        }
      ]
    },
    {
      "cell_type": "markdown",
      "source": [
        "the baseline model is still overfit using function method"
      ],
      "metadata": {
        "id": "ossi2x-0Ib4m"
      }
    },
    {
      "cell_type": "code",
      "source": [
        "#predictions\n",
        "pred_funct = []\n",
        "for element in y_pred2:\n",
        "    if element > 0.5:\n",
        "        pred_funct.append(1)\n",
        "    else:\n",
        "        pred_funct.append(0)\n",
        "\n",
        "print(pred_funct[:5])"
      ],
      "metadata": {
        "colab": {
          "base_uri": "https://localhost:8080/"
        },
        "id": "jLiOfxG-q6lG",
        "outputId": "deb25f5c-46ef-461d-9159-fc6c15f27177"
      },
      "execution_count": 103,
      "outputs": [
        {
          "output_type": "stream",
          "name": "stdout",
          "text": [
            "[0, 0, 0, 0, 0]\n"
          ]
        }
      ]
    },
    {
      "cell_type": "code",
      "source": [
        "#insert predict result to dataframe\n",
        "pred_result = pd.DataFrame({\n",
        "    \"Actual Target\":y_test,\n",
        "    \"Prediction\":pred_funct\n",
        "})\n",
        "pred_result_log.head(10)"
      ],
      "metadata": {
        "colab": {
          "base_uri": "https://localhost:8080/",
          "height": 363
        },
        "id": "30gzfitnq_xN",
        "outputId": "1c090f88-45b2-4e1d-bf0f-11e4150d0607"
      },
      "execution_count": 104,
      "outputs": [
        {
          "output_type": "execute_result",
          "data": {
            "text/plain": [
              "      Actual  Prediction\n",
              "6359       0           0\n",
              "5926       0           0\n",
              "4743       0           0\n",
              "4496       0           0\n",
              "4569       1           0\n",
              "4039       0           1\n",
              "4558       1           1\n",
              "6878       1           1\n",
              "5522       1           1\n",
              "4695       0           0"
            ],
            "text/html": [
              "\n",
              "  <div id=\"df-013763ee-0a17-444a-91c2-386c4f93392e\">\n",
              "    <div class=\"colab-df-container\">\n",
              "      <div>\n",
              "<style scoped>\n",
              "    .dataframe tbody tr th:only-of-type {\n",
              "        vertical-align: middle;\n",
              "    }\n",
              "\n",
              "    .dataframe tbody tr th {\n",
              "        vertical-align: top;\n",
              "    }\n",
              "\n",
              "    .dataframe thead th {\n",
              "        text-align: right;\n",
              "    }\n",
              "</style>\n",
              "<table border=\"1\" class=\"dataframe\">\n",
              "  <thead>\n",
              "    <tr style=\"text-align: right;\">\n",
              "      <th></th>\n",
              "      <th>Actual</th>\n",
              "      <th>Prediction</th>\n",
              "    </tr>\n",
              "  </thead>\n",
              "  <tbody>\n",
              "    <tr>\n",
              "      <th>6359</th>\n",
              "      <td>0</td>\n",
              "      <td>0</td>\n",
              "    </tr>\n",
              "    <tr>\n",
              "      <th>5926</th>\n",
              "      <td>0</td>\n",
              "      <td>0</td>\n",
              "    </tr>\n",
              "    <tr>\n",
              "      <th>4743</th>\n",
              "      <td>0</td>\n",
              "      <td>0</td>\n",
              "    </tr>\n",
              "    <tr>\n",
              "      <th>4496</th>\n",
              "      <td>0</td>\n",
              "      <td>0</td>\n",
              "    </tr>\n",
              "    <tr>\n",
              "      <th>4569</th>\n",
              "      <td>1</td>\n",
              "      <td>0</td>\n",
              "    </tr>\n",
              "    <tr>\n",
              "      <th>4039</th>\n",
              "      <td>0</td>\n",
              "      <td>1</td>\n",
              "    </tr>\n",
              "    <tr>\n",
              "      <th>4558</th>\n",
              "      <td>1</td>\n",
              "      <td>1</td>\n",
              "    </tr>\n",
              "    <tr>\n",
              "      <th>6878</th>\n",
              "      <td>1</td>\n",
              "      <td>1</td>\n",
              "    </tr>\n",
              "    <tr>\n",
              "      <th>5522</th>\n",
              "      <td>1</td>\n",
              "      <td>1</td>\n",
              "    </tr>\n",
              "    <tr>\n",
              "      <th>4695</th>\n",
              "      <td>0</td>\n",
              "      <td>0</td>\n",
              "    </tr>\n",
              "  </tbody>\n",
              "</table>\n",
              "</div>\n",
              "      <button class=\"colab-df-convert\" onclick=\"convertToInteractive('df-013763ee-0a17-444a-91c2-386c4f93392e')\"\n",
              "              title=\"Convert this dataframe to an interactive table.\"\n",
              "              style=\"display:none;\">\n",
              "        \n",
              "  <svg xmlns=\"http://www.w3.org/2000/svg\" height=\"24px\"viewBox=\"0 0 24 24\"\n",
              "       width=\"24px\">\n",
              "    <path d=\"M0 0h24v24H0V0z\" fill=\"none\"/>\n",
              "    <path d=\"M18.56 5.44l.94 2.06.94-2.06 2.06-.94-2.06-.94-.94-2.06-.94 2.06-2.06.94zm-11 1L8.5 8.5l.94-2.06 2.06-.94-2.06-.94L8.5 2.5l-.94 2.06-2.06.94zm10 10l.94 2.06.94-2.06 2.06-.94-2.06-.94-.94-2.06-.94 2.06-2.06.94z\"/><path d=\"M17.41 7.96l-1.37-1.37c-.4-.4-.92-.59-1.43-.59-.52 0-1.04.2-1.43.59L10.3 9.45l-7.72 7.72c-.78.78-.78 2.05 0 2.83L4 21.41c.39.39.9.59 1.41.59.51 0 1.02-.2 1.41-.59l7.78-7.78 2.81-2.81c.8-.78.8-2.07 0-2.86zM5.41 20L4 18.59l7.72-7.72 1.47 1.35L5.41 20z\"/>\n",
              "  </svg>\n",
              "      </button>\n",
              "      \n",
              "  <style>\n",
              "    .colab-df-container {\n",
              "      display:flex;\n",
              "      flex-wrap:wrap;\n",
              "      gap: 12px;\n",
              "    }\n",
              "\n",
              "    .colab-df-convert {\n",
              "      background-color: #E8F0FE;\n",
              "      border: none;\n",
              "      border-radius: 50%;\n",
              "      cursor: pointer;\n",
              "      display: none;\n",
              "      fill: #1967D2;\n",
              "      height: 32px;\n",
              "      padding: 0 0 0 0;\n",
              "      width: 32px;\n",
              "    }\n",
              "\n",
              "    .colab-df-convert:hover {\n",
              "      background-color: #E2EBFA;\n",
              "      box-shadow: 0px 1px 2px rgba(60, 64, 67, 0.3), 0px 1px 3px 1px rgba(60, 64, 67, 0.15);\n",
              "      fill: #174EA6;\n",
              "    }\n",
              "\n",
              "    [theme=dark] .colab-df-convert {\n",
              "      background-color: #3B4455;\n",
              "      fill: #D2E3FC;\n",
              "    }\n",
              "\n",
              "    [theme=dark] .colab-df-convert:hover {\n",
              "      background-color: #434B5C;\n",
              "      box-shadow: 0px 1px 3px 1px rgba(0, 0, 0, 0.15);\n",
              "      filter: drop-shadow(0px 1px 2px rgba(0, 0, 0, 0.3));\n",
              "      fill: #FFFFFF;\n",
              "    }\n",
              "  </style>\n",
              "\n",
              "      <script>\n",
              "        const buttonEl =\n",
              "          document.querySelector('#df-013763ee-0a17-444a-91c2-386c4f93392e button.colab-df-convert');\n",
              "        buttonEl.style.display =\n",
              "          google.colab.kernel.accessAllowed ? 'block' : 'none';\n",
              "\n",
              "        async function convertToInteractive(key) {\n",
              "          const element = document.querySelector('#df-013763ee-0a17-444a-91c2-386c4f93392e');\n",
              "          const dataTable =\n",
              "            await google.colab.kernel.invokeFunction('convertToInteractive',\n",
              "                                                     [key], {});\n",
              "          if (!dataTable) return;\n",
              "\n",
              "          const docLinkHtml = 'Like what you see? Visit the ' +\n",
              "            '<a target=\"_blank\" href=https://colab.research.google.com/notebooks/data_table.ipynb>data table notebook</a>'\n",
              "            + ' to learn more about interactive tables.';\n",
              "          element.innerHTML = '';\n",
              "          dataTable['output_type'] = 'display_data';\n",
              "          await google.colab.output.renderOutput(dataTable, element);\n",
              "          const docLink = document.createElement('div');\n",
              "          docLink.innerHTML = docLinkHtml;\n",
              "          element.appendChild(docLink);\n",
              "        }\n",
              "      </script>\n",
              "    </div>\n",
              "  </div>\n",
              "  "
            ]
          },
          "metadata": {},
          "execution_count": 104
        }
      ]
    },
    {
      "cell_type": "code",
      "source": [
        "print(classification_report(y_test, pred_funct))"
      ],
      "metadata": {
        "colab": {
          "base_uri": "https://localhost:8080/"
        },
        "id": "jWzb18BnrI9c",
        "outputId": "a79895c6-f269-43d8-ca02-5def6a3d762e"
      },
      "execution_count": 105,
      "outputs": [
        {
          "output_type": "stream",
          "name": "stdout",
          "text": [
            "              precision    recall  f1-score   support\n",
            "\n",
            "           0       0.86      0.80      0.83      1549\n",
            "           1       0.54      0.65      0.59       561\n",
            "\n",
            "    accuracy                           0.76      2110\n",
            "   macro avg       0.70      0.73      0.71      2110\n",
            "weighted avg       0.78      0.76      0.77      2110\n",
            "\n"
          ]
        }
      ]
    },
    {
      "cell_type": "markdown",
      "source": [
        "f1 score for people who churn still low"
      ],
      "metadata": {
        "id": "0KCnL0TnInHU"
      }
    },
    {
      "cell_type": "code",
      "source": [
        "print(f\"ACCURACY SCORE  : {accuracy_score(y_test, pred_funct):.4f}\\n\")"
      ],
      "metadata": {
        "colab": {
          "base_uri": "https://localhost:8080/"
        },
        "id": "3WgLAf9ordWI",
        "outputId": "eb8fb352-e9de-446c-920b-a028e3cb974d"
      },
      "execution_count": 106,
      "outputs": [
        {
          "output_type": "stream",
          "name": "stdout",
          "text": [
            "ACCURACY SCORE  : 0.7602\n",
            "\n"
          ]
        }
      ]
    },
    {
      "cell_type": "markdown",
      "source": [
        "accuracy score still below 80% which mean bad"
      ],
      "metadata": {
        "id": "fU4MIz4wIvnc"
      }
    },
    {
      "cell_type": "code",
      "source": [
        "import seaborn as sn\n",
        "cm = tf.math.confusion_matrix(labels=y_test,predictions=pred_funct)\n",
        "\n",
        "plt.figure(figsize = (10,7))\n",
        "sn.heatmap(cm, annot=True, fmt='d')\n",
        "plt.xlabel('Predicted')\n",
        "plt.ylabel('Truth')"
      ],
      "metadata": {
        "colab": {
          "base_uri": "https://localhost:8080/",
          "height": 459
        },
        "id": "8ih3BBt_rh6P",
        "outputId": "94ebec6c-9407-4e2e-8c1f-9a69a045e1ec"
      },
      "execution_count": 107,
      "outputs": [
        {
          "output_type": "execute_result",
          "data": {
            "text/plain": [
              "Text(69.0, 0.5, 'Truth')"
            ]
          },
          "metadata": {},
          "execution_count": 107
        },
        {
          "output_type": "display_data",
          "data": {
            "text/plain": [
              "<Figure size 720x504 with 2 Axes>"
            ],
            "image/png": "[encoded data removed]"
          },
          "metadata": {
            "needs_background": "light"
          }
        }
      ]
    },
    {
      "cell_type": "markdown",
      "source": [
        "### Model Improvement"
      ],
      "metadata": {
        "id": "4hR1ekbKrvAA"
      }
    },
    {
      "cell_type": "code",
      "source": [
        "keras.backend.clear_session()\n",
        "np.random.seed(77)\n",
        "tf.random.set_seed(77)"
      ],
      "metadata": {
        "id": "FUAxfOizrx9A"
      },
      "execution_count": 108,
      "outputs": []
    },
    {
      "cell_type": "code",
      "source": [
        "def build_model_func(kernel, units):\n",
        "    input_ = keras.layers.Input(shape=X_train.shape[1:])\n",
        "    \n",
        "    #Hidden Layer\n",
        "    hidden1 = keras.layers.Dense(units=units, activation=\"relu\", kernel_initializer=kernel)(input_)\n",
        "    hidden2 = keras.layers.Dense(units=units, activation=\"relu\", kernel_initializer=kernel)(hidden1)\n",
        "    concat = keras.layers.concatenate([input_, hidden2])\n",
        "    \n",
        "    #Output Layer\n",
        "    output = keras.layers.Dense(1, activation=\"sigmoid\")(concat)\n",
        "    \n",
        "    model_func = keras.models.Model(inputs=[input_], outputs=[output])\n",
        "    \n",
        "    optimizer = tf.keras.optimizers.Adam()\n",
        "    model_func.compile(loss=\"binary_crossentropy\", optimizer=optimizer, metrics=[\"accuracy\"])\n",
        "    return model_func"
      ],
      "metadata": {
        "id": "UvllybBxXp5h"
      },
      "execution_count": 109,
      "outputs": []
    },
    {
      "cell_type": "code",
      "source": [
        "model_cv = keras.wrappers.scikit_learn.KerasClassifier(build_model_func)\n"
      ],
      "metadata": {
        "id": "gLbgp3aDYiTK"
      },
      "execution_count": 110,
      "outputs": []
    },
    {
      "cell_type": "code",
      "source": [
        "# model_cv.fit(X_res, y_res, epochs=100,\n",
        "#              validation_data=(X_val_trf, y_val),\n",
        "#              callbacks=[keras.callbacks.EarlyStopping(patience=10)])"
      ],
      "metadata": {
        "id": "_gdkXkKHYmbs"
      },
      "execution_count": 111,
      "outputs": []
    },
    {
      "cell_type": "code",
      "source": [
        "import warnings\n",
        "warnings.filterwarnings('ignore')\n",
        "\n",
        "params_dist= {\n",
        "    'kernel':['random_uniform', 'random_normal'],\n",
        "    'units':[30,40]\n",
        "}\n",
        "\n",
        "#searching process take 8 to 12 minutes to finish, please wait kindly :)\n",
        "grid_cv_func = GridSearchCV(model_cv, params_dist, cv=5, verbose=2, n_jobs=-1)\n",
        "grid_cv_func.fit(X_res, y_res, epochs=100,\n",
        "            validation_data=(X_val_trf, y_val),\n",
        "            callbacks=[keras.callbacks.EarlyStopping(patience=10)])"
      ],
      "metadata": {
        "colab": {
          "base_uri": "https://localhost:8080/"
        },
        "id": "yKNuVw64ZSIQ",
        "outputId": "fafcd76e-2e5e-4f48-a5d2-c22944f7fb38"
      },
      "execution_count": 112,
      "outputs": [
        {
          "output_type": "stream",
          "name": "stdout",
          "text": [
            "Fitting 5 folds for each of 4 candidates, totalling 20 fits\n",
            "Epoch 1/100\n",
            "158/158 [==============================] - 1s 4ms/step - loss: 0.5885 - accuracy: 0.6647 - val_loss: 0.5229 - val_accuracy: 0.7420\n",
            "Epoch 2/100\n",
            "158/158 [==============================] - 1s 3ms/step - loss: 0.4883 - accuracy: 0.7671 - val_loss: 0.5533 - val_accuracy: 0.7150\n",
            "Epoch 3/100\n",
            "158/158 [==============================] - 1s 4ms/step - loss: 0.4805 - accuracy: 0.7663 - val_loss: 0.5172 - val_accuracy: 0.7319\n",
            "Epoch 4/100\n",
            "158/158 [==============================] - 1s 4ms/step - loss: 0.4754 - accuracy: 0.7710 - val_loss: 0.5151 - val_accuracy: 0.7339\n",
            "Epoch 5/100\n",
            "158/158 [==============================] - 1s 3ms/step - loss: 0.4716 - accuracy: 0.7708 - val_loss: 0.4793 - val_accuracy: 0.7542\n",
            "Epoch 6/100\n",
            "158/158 [==============================] - 1s 3ms/step - loss: 0.4677 - accuracy: 0.7706 - val_loss: 0.4753 - val_accuracy: 0.7610\n",
            "Epoch 7/100\n",
            "158/158 [==============================] - 0s 3ms/step - loss: 0.4621 - accuracy: 0.7770 - val_loss: 0.5238 - val_accuracy: 0.7204\n",
            "Epoch 8/100\n",
            "158/158 [==============================] - 1s 3ms/step - loss: 0.4619 - accuracy: 0.7786 - val_loss: 0.5092 - val_accuracy: 0.7380\n",
            "Epoch 9/100\n",
            "158/158 [==============================] - 1s 4ms/step - loss: 0.4547 - accuracy: 0.7813 - val_loss: 0.5105 - val_accuracy: 0.7373\n",
            "Epoch 10/100\n",
            "158/158 [==============================] - 1s 4ms/step - loss: 0.4514 - accuracy: 0.7849 - val_loss: 0.4481 - val_accuracy: 0.7732\n",
            "Epoch 11/100\n",
            "158/158 [==============================] - 1s 3ms/step - loss: 0.4484 - accuracy: 0.7855 - val_loss: 0.4782 - val_accuracy: 0.7488\n",
            "Epoch 12/100\n",
            "158/158 [==============================] - 1s 4ms/step - loss: 0.4458 - accuracy: 0.7859 - val_loss: 0.4740 - val_accuracy: 0.7563\n",
            "Epoch 13/100\n",
            "158/158 [==============================] - 1s 3ms/step - loss: 0.4391 - accuracy: 0.7940 - val_loss: 0.4741 - val_accuracy: 0.7583\n",
            "Epoch 14/100\n",
            "158/158 [==============================] - 1s 4ms/step - loss: 0.4369 - accuracy: 0.7923 - val_loss: 0.4579 - val_accuracy: 0.7705\n",
            "Epoch 15/100\n",
            "158/158 [==============================] - 1s 4ms/step - loss: 0.4342 - accuracy: 0.7942 - val_loss: 0.4674 - val_accuracy: 0.7603\n",
            "Epoch 16/100\n",
            "158/158 [==============================] - 1s 4ms/step - loss: 0.4312 - accuracy: 0.7996 - val_loss: 0.4702 - val_accuracy: 0.7610\n",
            "Epoch 17/100\n",
            "158/158 [==============================] - 1s 3ms/step - loss: 0.4317 - accuracy: 0.7970 - val_loss: 0.4691 - val_accuracy: 0.7590\n",
            "Epoch 18/100\n",
            "158/158 [==============================] - 1s 4ms/step - loss: 0.4289 - accuracy: 0.8022 - val_loss: 0.4643 - val_accuracy: 0.7671\n",
            "Epoch 19/100\n",
            "158/158 [==============================] - 1s 3ms/step - loss: 0.4266 - accuracy: 0.8032 - val_loss: 0.5382 - val_accuracy: 0.7231\n",
            "Epoch 20/100\n",
            "158/158 [==============================] - 1s 3ms/step - loss: 0.4231 - accuracy: 0.8022 - val_loss: 0.5231 - val_accuracy: 0.7353\n"
          ]
        },
        {
          "output_type": "execute_result",
          "data": {
            "text/plain": [
              "GridSearchCV(cv=5,\n",
              "             estimator=<keras.wrappers.scikit_learn.KerasClassifier object at 0x7f1d46566a10>,\n",
              "             n_jobs=-1,\n",
              "             param_grid={'kernel': ['random_uniform', 'random_normal'],\n",
              "                         'units': [30, 40]},\n",
              "             verbose=2)"
            ]
          },
          "metadata": {},
          "execution_count": 112
        }
      ]
    },
    {
      "cell_type": "code",
      "source": [
        "print('Grid Search Best score : ', grid_cv.best_score_)\n",
        "print('Grid Search Best Parameters : ', grid_cv.best_params_)"
      ],
      "metadata": {
        "colab": {
          "base_uri": "https://localhost:8080/"
        },
        "id": "cTvrOvHSZem2",
        "outputId": "82e30ca5-d732-41de-eb23-23b6845af686"
      },
      "execution_count": 113,
      "outputs": [
        {
          "output_type": "stream",
          "name": "stdout",
          "text": [
            "Grid Search Best score :  0.7690476179122925\n",
            "Grid Search Best Parameters :  {'initializer': <keras.initializers.initializers_v2.GlorotNormal object at 0x7f1de0ba6cd0>, 'learning_rate': 1e-05, 'n_hidden': 3, 'n_neurons': 30}\n"
          ]
        }
      ]
    },
    {
      "cell_type": "code",
      "source": [
        "grid_cv.score(X_test_trf, y_test)"
      ],
      "metadata": {
        "colab": {
          "base_uri": "https://localhost:8080/"
        },
        "id": "ht3oiC72ZfOT",
        "outputId": "cf3d0be6-1d98-4124-fdb2-f8e45ca0e808"
      },
      "execution_count": 114,
      "outputs": [
        {
          "output_type": "stream",
          "name": "stdout",
          "text": [
            "66/66 [==============================] - 0s 2ms/step - loss: 0.5404 - accuracy: 0.7403\n"
          ]
        },
        {
          "output_type": "execute_result",
          "data": {
            "text/plain": [
              "0.7402843832969666"
            ]
          },
          "metadata": {},
          "execution_count": 114
        }
      ]
    },
    {
      "cell_type": "code",
      "source": [
        "model_gridCV = grid_cv.best_estimator_.model\n",
        "\n",
        "model_gridCV.evaluate(X_test_trf, y_test)"
      ],
      "metadata": {
        "colab": {
          "base_uri": "https://localhost:8080/"
        },
        "id": "QHbbrlZhZkcf",
        "outputId": "c1dc4d63-1950-433b-c6f9-4c7361e2eaeb"
      },
      "execution_count": 115,
      "outputs": [
        {
          "output_type": "stream",
          "name": "stdout",
          "text": [
            "66/66 [==============================] - 0s 2ms/step - loss: 0.5404 - accuracy: 0.7403\n"
          ]
        },
        {
          "output_type": "execute_result",
          "data": {
            "text/plain": [
              "[0.5404099822044373, 0.7402843832969666]"
            ]
          },
          "metadata": {},
          "execution_count": 115
        }
      ]
    },
    {
      "cell_type": "code",
      "source": [
        "final_model_func = build_model(n_neurons=30, n_hidden=4, learning_rate=0.0001, initializer=initializers.RandomNormal())\n",
        "final_model_func.summary()"
      ],
      "metadata": {
        "colab": {
          "base_uri": "https://localhost:8080/"
        },
        "id": "t5iVXUhGw_eO",
        "outputId": "299462a0-c31c-485f-bf5e-ee3b56379ba1"
      },
      "execution_count": 116,
      "outputs": [
        {
          "output_type": "stream",
          "name": "stdout",
          "text": [
            "Model: \"sequential\"\n",
            "_________________________________________________________________\n",
            " Layer (type)                Output Shape              Param #   \n",
            "=================================================================\n",
            " dense_3 (Dense)             (None, 30)                810       \n",
            "                                                                 \n",
            " dense_4 (Dense)             (None, 30)                930       \n",
            "                                                                 \n",
            " dense_5 (Dense)             (None, 30)                930       \n",
            "                                                                 \n",
            " dense_6 (Dense)             (None, 30)                930       \n",
            "                                                                 \n",
            " dense_7 (Dense)             (None, 1)                 31        \n",
            "                                                                 \n",
            "=================================================================\n",
            "Total params: 3,631\n",
            "Trainable params: 3,631\n",
            "Non-trainable params: 0\n",
            "_________________________________________________________________\n"
          ]
        }
      ]
    },
    {
      "cell_type": "code",
      "source": [
        "from keras.callbacks import ModelCheckpoint, EarlyStopping"
      ],
      "metadata": {
        "id": "UDvWxXG4xQfH"
      },
      "execution_count": 117,
      "outputs": []
    },
    {
      "cell_type": "code",
      "source": [
        "final_model_fc = ModelCheckpoint(\"model/final_model_fc.h5\", save_best_only=True)"
      ],
      "metadata": {
        "id": "LDcTJ75pzpnI"
      },
      "execution_count": 118,
      "outputs": []
    },
    {
      "cell_type": "code",
      "source": [
        "final_model_history = final_model_func.fit(\n",
        "    X_res, y_res, epochs=100,\n",
        "    validation_data=(X_val_trf, y_val),\n",
        "    callbacks=[final_model_fc, EarlyStopping(patience=20)]\n",
        ").history"
      ],
      "metadata": {
        "colab": {
          "base_uri": "https://localhost:8080/"
        },
        "id": "pjs1bxDbzU-H",
        "outputId": "1655ba0d-3888-4c41-fb7a-9bd180dac3bf"
      },
      "execution_count": 119,
      "outputs": [
        {
          "output_type": "stream",
          "name": "stdout",
          "text": [
            "Epoch 1/100\n",
            "158/158 [==============================] - 1s 5ms/step - loss: 0.5886 - accuracy: 0.6942 - val_loss: 0.5137 - val_accuracy: 0.7326\n",
            "Epoch 2/100\n",
            "158/158 [==============================] - 1s 4ms/step - loss: 0.4908 - accuracy: 0.7681 - val_loss: 0.5831 - val_accuracy: 0.6811\n",
            "Epoch 3/100\n",
            "158/158 [==============================] - 1s 4ms/step - loss: 0.4802 - accuracy: 0.7708 - val_loss: 0.5340 - val_accuracy: 0.7068\n",
            "Epoch 4/100\n",
            "158/158 [==============================] - 1s 3ms/step - loss: 0.4741 - accuracy: 0.7728 - val_loss: 0.5172 - val_accuracy: 0.7211\n",
            "Epoch 5/100\n",
            "158/158 [==============================] - 1s 4ms/step - loss: 0.4674 - accuracy: 0.7758 - val_loss: 0.4726 - val_accuracy: 0.7529\n",
            "Epoch 6/100\n",
            "158/158 [==============================] - 1s 4ms/step - loss: 0.4629 - accuracy: 0.7758 - val_loss: 0.4785 - val_accuracy: 0.7495\n",
            "Epoch 7/100\n",
            "158/158 [==============================] - 1s 4ms/step - loss: 0.4555 - accuracy: 0.7815 - val_loss: 0.5406 - val_accuracy: 0.7062\n",
            "Epoch 8/100\n",
            "158/158 [==============================] - 1s 4ms/step - loss: 0.4557 - accuracy: 0.7849 - val_loss: 0.5217 - val_accuracy: 0.7238\n",
            "Epoch 9/100\n",
            "158/158 [==============================] - 1s 3ms/step - loss: 0.4462 - accuracy: 0.7909 - val_loss: 0.4984 - val_accuracy: 0.7387\n",
            "Epoch 10/100\n",
            "158/158 [==============================] - 1s 4ms/step - loss: 0.4428 - accuracy: 0.7911 - val_loss: 0.4480 - val_accuracy: 0.7752\n",
            "Epoch 11/100\n",
            "158/158 [==============================] - 1s 4ms/step - loss: 0.4389 - accuracy: 0.7956 - val_loss: 0.4786 - val_accuracy: 0.7475\n",
            "Epoch 12/100\n",
            "158/158 [==============================] - 1s 4ms/step - loss: 0.4362 - accuracy: 0.7923 - val_loss: 0.4750 - val_accuracy: 0.7529\n",
            "Epoch 13/100\n",
            "158/158 [==============================] - 1s 4ms/step - loss: 0.4293 - accuracy: 0.7978 - val_loss: 0.4728 - val_accuracy: 0.7657\n",
            "Epoch 14/100\n",
            "158/158 [==============================] - 1s 4ms/step - loss: 0.4251 - accuracy: 0.8022 - val_loss: 0.4840 - val_accuracy: 0.7617\n",
            "Epoch 15/100\n",
            "158/158 [==============================] - 1s 4ms/step - loss: 0.4182 - accuracy: 0.8062 - val_loss: 0.4745 - val_accuracy: 0.7495\n",
            "Epoch 16/100\n",
            "158/158 [==============================] - 1s 4ms/step - loss: 0.4155 - accuracy: 0.8058 - val_loss: 0.4865 - val_accuracy: 0.7529\n",
            "Epoch 17/100\n",
            "158/158 [==============================] - 1s 4ms/step - loss: 0.4115 - accuracy: 0.8095 - val_loss: 0.4848 - val_accuracy: 0.7637\n",
            "Epoch 18/100\n",
            "158/158 [==============================] - 1s 3ms/step - loss: 0.4093 - accuracy: 0.8137 - val_loss: 0.4885 - val_accuracy: 0.7536\n",
            "Epoch 19/100\n",
            "158/158 [==============================] - 1s 3ms/step - loss: 0.4043 - accuracy: 0.8109 - val_loss: 0.5270 - val_accuracy: 0.7366\n",
            "Epoch 20/100\n",
            "158/158 [==============================] - 1s 4ms/step - loss: 0.3990 - accuracy: 0.8177 - val_loss: 0.5226 - val_accuracy: 0.7414\n",
            "Epoch 21/100\n",
            "158/158 [==============================] - 1s 4ms/step - loss: 0.3947 - accuracy: 0.8198 - val_loss: 0.5329 - val_accuracy: 0.7387\n",
            "Epoch 22/100\n",
            "158/158 [==============================] - 1s 3ms/step - loss: 0.3956 - accuracy: 0.8137 - val_loss: 0.5062 - val_accuracy: 0.7475\n",
            "Epoch 23/100\n",
            "158/158 [==============================] - 1s 3ms/step - loss: 0.3864 - accuracy: 0.8298 - val_loss: 0.5335 - val_accuracy: 0.7448\n",
            "Epoch 24/100\n",
            "158/158 [==============================] - 1s 4ms/step - loss: 0.3822 - accuracy: 0.8236 - val_loss: 0.5148 - val_accuracy: 0.7583\n",
            "Epoch 25/100\n",
            "158/158 [==============================] - 1s 4ms/step - loss: 0.3821 - accuracy: 0.8272 - val_loss: 0.5678 - val_accuracy: 0.7197\n",
            "Epoch 26/100\n",
            "158/158 [==============================] - 1s 3ms/step - loss: 0.3776 - accuracy: 0.8313 - val_loss: 0.5227 - val_accuracy: 0.7536\n",
            "Epoch 27/100\n",
            "158/158 [==============================] - 1s 3ms/step - loss: 0.3783 - accuracy: 0.8284 - val_loss: 0.5158 - val_accuracy: 0.7488\n",
            "Epoch 28/100\n",
            "158/158 [==============================] - 1s 4ms/step - loss: 0.3734 - accuracy: 0.8353 - val_loss: 0.5344 - val_accuracy: 0.7461\n",
            "Epoch 29/100\n",
            "158/158 [==============================] - 1s 3ms/step - loss: 0.3700 - accuracy: 0.8325 - val_loss: 0.5349 - val_accuracy: 0.7353\n",
            "Epoch 30/100\n",
            "158/158 [==============================] - 1s 3ms/step - loss: 0.3673 - accuracy: 0.8355 - val_loss: 0.5216 - val_accuracy: 0.7576\n"
          ]
        }
      ]
    },
    {
      "cell_type": "code",
      "source": [
        "final_model_history_df = pd.DataFrame(final_model_history)"
      ],
      "metadata": {
        "id": "pX5nWIzWz0ya"
      },
      "execution_count": 120,
      "outputs": []
    },
    {
      "cell_type": "code",
      "source": [
        "final_model_history_df[['loss', 'val_loss']].plot();"
      ],
      "metadata": {
        "colab": {
          "base_uri": "https://localhost:8080/",
          "height": 265
        },
        "id": "qk4EaBumz3xm",
        "outputId": "3b992910-1586-4a0c-8025-70b6c7692807"
      },
      "execution_count": 121,
      "outputs": [
        {
          "output_type": "display_data",
          "data": {
            "text/plain": [
              "<Figure size 432x288 with 1 Axes>"
            ],
            "image/png": "[encoded data removed]"
          },
          "metadata": {
            "needs_background": "light"
          }
        }
      ]
    },
    {
      "cell_type": "code",
      "source": [
        "final_model_history_df[['accuracy', 'val_accuracy']].plot();"
      ],
      "metadata": {
        "colab": {
          "base_uri": "https://localhost:8080/",
          "height": 265
        },
        "id": "poz0NYW-z4eH",
        "outputId": "6df1ac21-99b6-4b71-8e49-60e4769901fb"
      },
      "execution_count": 122,
      "outputs": [
        {
          "output_type": "display_data",
          "data": {
            "text/plain": [
              "<Figure size 432x288 with 1 Axes>"
            ],
            "image/png": "[encoded data removed]"
          },
          "metadata": {
            "needs_background": "light"
          }
        }
      ]
    },
    {
      "cell_type": "markdown",
      "source": [
        "the accuracy and loss is great but validation chart is not the same, which mean kind of overfitting"
      ],
      "metadata": {
        "id": "ZFRWqC1CPZOK"
      }
    },
    {
      "cell_type": "markdown",
      "source": [
        "# Model Inference"
      ],
      "metadata": {
        "id": "F_8kJyc1CjL3"
      }
    },
    {
      "cell_type": "markdown",
      "source": [
        "i will use sequential model since i got better result eventhough it's still overfit"
      ],
      "metadata": {
        "id": "qqwpETfVJikH"
      }
    },
    {
      "cell_type": "code",
      "source": [
        "new_data = [\n",
        "    [77, 40, 9000, 1, 0, 1, 1, 1, 0, 1, 1, 1, 0, 0, 0, 1, 1, 1, 1, 0, 1, 0, 0, 1, 0],\n",
        "    [22, 50, 3000, 0, 0, 0, 0, 1, 0, 1, 1, 1, 0, 0, 0, 0, 0, 1, 1, 0, 0, 0, 0, 1, 0]\n",
        "]"
      ],
      "metadata": {
        "id": "3T4wmeI7OXb2"
      },
      "execution_count": 123,
      "outputs": []
    },
    {
      "cell_type": "code",
      "source": [
        "new_data_trf = scaler_pipeline.fit_transform(new_data)"
      ],
      "metadata": {
        "id": "23NzVDx8Pu_5"
      },
      "execution_count": 125,
      "outputs": []
    },
    {
      "cell_type": "code",
      "source": [
        "new_data_trf"
      ],
      "metadata": {
        "colab": {
          "base_uri": "https://localhost:8080/"
        },
        "id": "iD5514abQNM6",
        "outputId": "1a30180a-bcda-48ea-ea5d-0c072bc65bc9"
      },
      "execution_count": 128,
      "outputs": [
        {
          "output_type": "execute_result",
          "data": {
            "text/plain": [
              "array([[1., 0., 1., 1., 0., 1., 1., 0., 0., 0., 0., 0., 0., 0., 0., 1.,\n",
              "        1., 0., 0., 0., 1., 0., 0., 0., 0.],\n",
              "       [0., 1., 0., 0., 0., 0., 0., 0., 0., 0., 0., 0., 0., 0., 0., 0.,\n",
              "        0., 0., 0., 0., 0., 0., 0., 0., 0.]])"
            ]
          },
          "metadata": {},
          "execution_count": 128
        }
      ]
    },
    {
      "cell_type": "code",
      "source": [
        "from tensorflow.keras.callbacks import ModelCheckpoint"
      ],
      "metadata": {
        "id": "wScjcoH2QsfU"
      },
      "execution_count": 130,
      "outputs": []
    },
    {
      "cell_type": "code",
      "source": [
        "results = np.where(final_model_sq > 0.5, 1, 0)"
      ],
      "metadata": {
        "colab": {
          "base_uri": "https://localhost:8080/",
          "height": 165
        },
        "id": "TMqeQ6QlOYDe",
        "outputId": "393a1791-f646-43c6-d284-7fd69ed2243c"
      },
      "execution_count": 132,
      "outputs": [
        {
          "output_type": "error",
          "ename": "TypeError",
          "evalue": "ignored",
          "traceback": [
            "\u001b[0;31m---------------------------------------------------------------------------\u001b[0m",
            "\u001b[0;31mTypeError\u001b[0m                                 Traceback (most recent call last)",
            "\u001b[0;32m<ipython-input-132-82314df5f8c6>\u001b[0m in \u001b[0;36m<module>\u001b[0;34m()\u001b[0m\n\u001b[0;32m----> 1\u001b[0;31m \u001b[0mresults\u001b[0m \u001b[0;34m=\u001b[0m \u001b[0mnp\u001b[0m\u001b[0;34m.\u001b[0m\u001b[0mwhere\u001b[0m\u001b[0;34m(\u001b[0m\u001b[0mfinal_model_sq\u001b[0m\u001b[0;34m>\u001b[0m\u001b[0;36m0.5\u001b[0m\u001b[0;34m,\u001b[0m \u001b[0;36m1\u001b[0m\u001b[0;34m,\u001b[0m \u001b[0;36m0\u001b[0m\u001b[0;34m)\u001b[0m\u001b[0;34m\u001b[0m\u001b[0;34m\u001b[0m\u001b[0m\n\u001b[0m",
            "\u001b[0;31mTypeError\u001b[0m: '>' not supported between instances of 'ModelCheckpoint' and 'float'"
          ]
        }
      ]
    },
    {
      "cell_type": "markdown",
      "source": [
        "still error on this process"
      ],
      "metadata": {
        "id": "IokfyVQ_Q7Kr"
      }
    },
    {
      "cell_type": "code",
      "source": [
        "for i in range(len(results)):\n",
        "    if results[i] == 1:\n",
        "        print(f'Customer {i} have high tendency to churn.')\n",
        "    else:\n",
        "        print(f'Customer {i} have low tendency to churn.')"
      ],
      "metadata": {
        "id": "qjvW2WBtOhOT"
      },
      "execution_count": null,
      "outputs": []
    },
    {
      "cell_type": "markdown",
      "source": [
        "# Conclusion"
      ],
      "metadata": {
        "id": "b9RzIDOEAMAz"
      }
    },
    {
      "cell_type": "markdown",
      "source": [
        "EDA Analysis :\n",
        "* Based on all numerical data, it's only totalcharges that skewed to the right, with assumption customer has high billing\n",
        "* most people who use additional service most likely to churn because they are willing to spend money to those services \n",
        "* Target data is imbalance with 73,4% people not churn and the rest 26,6% churn\n",
        "* most user are not senior citizen probably because internet and phone is way to advance for their age\n",
        "* most people who use interservice fiberoptic are more likely to churn\n",
        "* people who pay using electronic check more likely to churn"
      ],
      "metadata": {
        "id": "PgkfufauLf9S"
      }
    },
    {
      "cell_type": "markdown",
      "source": [
        "# Model Analysis :\n",
        "\n",
        "## Sequential :\n",
        "* model that i train after using parameter from gridsearch are overfit\n",
        "* the model needs more parameter and probably trained with other kernel, or using pipeline\n",
        "* baseline model and improved model both are overfit\n",
        "* encode after spilliting the data\n",
        "* percentage of people who churn in prediction is low, below 80% accuracy even after using new parameters\n",
        "* parameters that i use are n_neuron 30, learning rate 0.00001 with kernel rand\n",
        "\n",
        "## Functional :   \n",
        "* have the same result as sequential, also overfit but show more extereme result\n",
        "* use parameters 30 neuron, 0.00001 learning rate and GlorotNormal"
      ],
      "metadata": {
        "id": "FlXofF2bM657"
      }
    }
  ]
}